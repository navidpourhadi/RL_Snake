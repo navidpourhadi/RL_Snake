{
 "cells": [
  {
   "cell_type": "markdown",
   "metadata": {},
   "source": [
    "# Snake"
   ]
  },
  {
   "cell_type": "code",
   "execution_count": 1,
   "metadata": {
    "ExecuteTime": {
     "end_time": "2024-01-05T21:49:54.740569Z",
     "start_time": "2024-01-05T21:49:54.724713Z"
    },
    "collapsed": true
   },
   "outputs": [
    {
     "name": "stdout",
     "output_type": "stream",
     "text": [
      "WARNING:tensorflow:From c:\\Users\\user\\AppData\\Local\\Programs\\Python\\Python311\\Lib\\site-packages\\keras\\src\\losses.py:2976: The name tf.losses.sparse_softmax_cross_entropy is deprecated. Please use tf.compat.v1.losses.sparse_softmax_cross_entropy instead.\n",
      "\n"
     ]
    }
   ],
   "source": [
    "import environments_fully_observable \n",
    "import environments_partially_observable\n",
    "import numpy as np\n",
    "from  tqdm import trange\n",
    "import matplotlib.pyplot as plt\n",
    "import random\n",
    "import tensorflow as tf\n",
    "tf.random.set_seed(0)\n",
    "random.seed(0)\n",
    "np.random.seed(0)\n",
    "\n",
    "import DQN\n",
    "import AStar_Heuristic"
   ]
  },
  {
   "cell_type": "markdown",
   "metadata": {},
   "source": [
    "## Environment definition"
   ]
  },
  {
   "cell_type": "code",
   "execution_count": 2,
   "metadata": {},
   "outputs": [],
   "source": [
    "def display_boards(env, n=5):\n",
    "    \n",
    "    fig,axs=plt.subplots(1,min(len(env.boards), n), figsize=(10,2))\n",
    "    for ax, board in zip(axs, env.boards):\n",
    "        ax.get_yaxis().set_visible(False)\n",
    "        ax.get_xaxis().set_visible(False)\n",
    "        ax.imshow(board, origin=\"lower\")\n",
    "\n",
    "def to_channels(state):    \n",
    "    num_boards = state.shape[0]\n",
    "    board_dim = state.shape[1]\n",
    "    return np.transpose(state, (0,3,1,2)).reshape(num_boards, 4, board_dim, board_dim)\n"
   ]
  },
  {
   "cell_type": "code",
   "execution_count": 3,
   "metadata": {
    "ExecuteTime": {
     "end_time": "2024-01-05T21:51:24.586654Z",
     "start_time": "2024-01-05T21:51:24.492663Z"
    },
    "collapsed": false
   },
   "outputs": [
    {
     "data": {
      "image/png": "[encoded data removed]",
      "text/plain": [
       "<Figure size 1000x200 with 5 Axes>"
      ]
     },
     "metadata": {},
     "output_type": "display_data"
    }
   ],
   "source": [
    "%matplotlib inline\n",
    "# function to standardize getting an env for the whole notebook\n",
    "def get_env(n=100, size = 15):\n",
    "    # n is the number of boards that you want to simulate parallely\n",
    "    # size is the size of each board, also considering the borders\n",
    "    # mask for the partially observable, is the size of the local neighborhood\n",
    "    e = environments_fully_observable.OriginalSnakeEnvironment(n, size)\n",
    "    # e = environments_partially_observable.OriginalSnakeEnvironment(n, size, 2)\n",
    "    return e\n",
    "env_ = get_env(n=100, size=10)\n",
    "GAMMA = .9\n",
    "ITERATIONS = 2000\n",
    "\n",
    "display_boards(env_, 5)"
   ]
  },
  {
   "cell_type": "markdown",
   "metadata": {
    "collapsed": false
   },
   "source": [
    "## Model"
   ]
  },
  {
   "cell_type": "code",
   "execution_count": 4,
   "metadata": {
    "collapsed": false
   },
   "outputs": [
    {
     "name": "stdout",
     "output_type": "stream",
     "text": [
      "WARNING:tensorflow:From c:\\Users\\user\\AppData\\Local\\Programs\\Python\\Python311\\Lib\\site-packages\\keras\\src\\backend.py:873: The name tf.get_default_graph is deprecated. Please use tf.compat.v1.get_default_graph instead.\n",
      "\n",
      "GPU is not available. Switching to CPU.\n"
     ]
    },
    {
     "data": {
      "image/png": "[encoded data removed]",
      "text/plain": [
       "<Figure size 1000x200 with 10 Axes>"
      ]
     },
     "metadata": {},
     "output_type": "display_data"
    }
   ],
   "source": [
    "input_shape = to_channels(env_.to_state()).shape[1:]\n",
    "\n",
    "DQN_agent = DQN.DQNAgent(input_shape= input_shape, num_actions= 4, gamma= GAMMA)\n",
    "\n",
    "if tf.config.list_physical_devices('GPU'):\n",
    "    print('GPU is available.')\n",
    "else:\n",
    "    print('GPU is not available. Switching to CPU.')\n",
    "\n",
    "display_boards(env_, 10)\n"
   ]
  },
  {
   "cell_type": "markdown",
   "metadata": {
    "collapsed": false
   },
   "source": [
    "## Training"
   ]
  },
  {
   "cell_type": "code",
   "execution_count": 5,
   "metadata": {},
   "outputs": [
    {
     "name": "stdout",
     "output_type": "stream",
     "text": [
      "4/4 [==============================] - 0s 3ms/step\n",
      "Epoch 1/2000 => loss: 0.06959887593984604, Reward Mean: -0.006000000052154064\n",
      "7/7 [==============================] - 0s 2ms/step\n",
      "Epoch 2/2000 => loss: 0.018707793205976486, Reward Mean: -0.01400000136345625\n",
      "10/10 [==============================] - 0s 2ms/step\n",
      "Epoch 3/2000 => loss: 0.0031325609888881445, Reward Mean: -0.01400000136345625\n",
      "13/13 [==============================] - 0s 2ms/step\n",
      "Epoch 4/2000 => loss: 0.010056755505502224, Reward Mean: -0.009999999776482582\n",
      "16/16 [==============================] - 0s 2ms/step\n",
      "Epoch 5/2000 => loss: 0.003462338587269187, Reward Mean: -0.007000000681728125\n",
      "19/19 [==============================] - 0s 2ms/step\n",
      "Epoch 6/2000 => loss: 0.009196983650326729, Reward Mean: -0.007000000681728125\n",
      "22/22 [==============================] - 0s 2ms/step\n",
      "Epoch 7/2000 => loss: 0.003963438328355551, Reward Mean: -0.014999999664723873\n",
      "25/25 [==============================] - 0s 2ms/step\n",
      "Epoch 8/2000 => loss: 0.008900913409888744, Reward Mean: -0.011000001803040504\n",
      "28/28 [==============================] - 0s 2ms/step\n",
      "Epoch 9/2000 => loss: 0.004181320779025555, Reward Mean: -0.010999999940395355\n",
      "32/32 [==============================] - 0s 1ms/step\n",
      "Epoch 10/2000 => loss: 0.008576608262956142, Reward Mean: -0.023999998345971107\n",
      "32/32 [==============================] - 0s 1ms/step\n",
      "Epoch 11/2000 => loss: 0.004031913820654154, Reward Mean: -0.013000000268220901\n",
      "32/32 [==============================] - 0s 1ms/step\n",
      "Epoch 12/2000 => loss: 0.008057897910475731, Reward Mean: -0.0019999996293336153\n",
      "32/32 [==============================] - 0s 1ms/step\n",
      "Epoch 13/2000 => loss: 0.004449088126420975, Reward Mean: -0.02199999988079071\n",
      "32/32 [==============================] - 0s 1ms/step\n",
      "Epoch 14/2000 => loss: 0.00801425613462925, Reward Mean: -0.020999999716877937\n",
      "32/32 [==============================] - 0s 1ms/step\n",
      "Epoch 15/2000 => loss: 0.0040376437827944756, Reward Mean: -0.013000000268220901\n",
      "32/32 [==============================] - 0s 1ms/step\n",
      "Epoch 16/2000 => loss: 0.0076088672503829, Reward Mean: -0.012000000104308128\n",
      "32/32 [==============================] - 0s 1ms/step\n",
      "Epoch 17/2000 => loss: 0.00430250121280551, Reward Mean: -0.006000000052154064\n",
      "32/32 [==============================] - 0s 2ms/step\n",
      "Epoch 18/2000 => loss: 0.007503671105951071, Reward Mean: -0.01600000075995922\n",
      "32/32 [==============================] - 0s 1ms/step\n",
      "Epoch 19/2000 => loss: 0.004448033403605223, Reward Mean: -0.02199999801814556\n",
      "32/32 [==============================] - 0s 1ms/step\n",
      "Epoch 20/2000 => loss: 0.007261244580149651, Reward Mean: -0.00800000037997961\n",
      "32/32 [==============================] - 0s 1ms/step\n",
      "Epoch 21/2000 => loss: 0.004293342120945454, Reward Mean: -0.010999999940395355\n",
      "32/32 [==============================] - 0s 1ms/step\n",
      "Epoch 22/2000 => loss: 0.0069236960262060165, Reward Mean: -0.013000000268220901\n",
      "32/32 [==============================] - 0s 1ms/step\n",
      "Epoch 23/2000 => loss: 0.004051311407238245, Reward Mean: -0.008999999612569809\n",
      "32/32 [==============================] - 0s 1ms/step\n",
      "Epoch 24/2000 => loss: 0.006557949353009462, Reward Mean: -0.006000000052154064\n",
      "32/32 [==============================] - 0s 1ms/step\n",
      "Epoch 25/2000 => loss: 0.004086384084075689, Reward Mean: -0.003999999724328518\n",
      "32/32 [==============================] - 0s 1ms/step\n",
      "Epoch 26/2000 => loss: 0.0065572550520300865, Reward Mean: -0.001999999862164259\n",
      "32/32 [==============================] - 0s 1ms/step\n",
      "Epoch 27/2000 => loss: 0.004138827323913574, Reward Mean: -0.0020000000949949026\n",
      "32/32 [==============================] - 0s 1ms/step\n",
      "Epoch 28/2000 => loss: 0.00666767219081521, Reward Mean: -0.00800000037997961\n",
      "32/32 [==============================] - 0s 1ms/step\n",
      "Epoch 29/2000 => loss: 0.004003998823463917, Reward Mean: -0.004999999888241291\n",
      "32/32 [==============================] - 0s 1ms/step\n",
      "Epoch 30/2000 => loss: 0.006376906763762236, Reward Mean: -0.001999999862164259\n",
      "32/32 [==============================] - 0s 2ms/step\n",
      "Epoch 31/2000 => loss: 0.004557181615382433, Reward Mean: -0.0010000001639127731\n",
      "32/32 [==============================] - 0s 1ms/step\n",
      "Epoch 32/2000 => loss: 0.006882862187922001, Reward Mean: -0.004000000189989805\n",
      "32/32 [==============================] - 0s 1ms/step\n",
      "Epoch 33/2000 => loss: 0.0042663803324103355, Reward Mean: -0.019999999552965164\n",
      "32/32 [==============================] - 0s 1ms/step\n",
      "Epoch 34/2000 => loss: 0.006478849332779646, Reward Mean: -0.019999999552965164\n",
      "32/32 [==============================] - 0s 1ms/step\n",
      "Epoch 35/2000 => loss: 0.004224829375743866, Reward Mean: -0.014999999664723873\n",
      "32/32 [==============================] - 0s 2ms/step\n",
      "Epoch 36/2000 => loss: 0.005694500636309385, Reward Mean: -0.009999999776482582\n",
      "32/32 [==============================] - 0s 1ms/step\n",
      "Epoch 37/2000 => loss: 0.004216567613184452, Reward Mean: -0.006000000052154064\n",
      "32/32 [==============================] - 0s 1ms/step\n",
      "Epoch 38/2000 => loss: 0.006685248110443354, Reward Mean: -0.01900000125169754\n",
      "32/32 [==============================] - 0s 1ms/step\n",
      "Epoch 39/2000 => loss: 0.00457491772249341, Reward Mean: -0.007000000681728125\n",
      "32/32 [==============================] - 0s 1ms/step\n",
      "Epoch 40/2000 => loss: 0.006413219962269068, Reward Mean: -0.012999999336898327\n",
      "32/32 [==============================] - 0s 1ms/step\n",
      "Epoch 41/2000 => loss: 0.00457061966881156, Reward Mean: -0.009999999776482582\n",
      "32/32 [==============================] - 0s 1ms/step\n",
      "Epoch 42/2000 => loss: 0.005916908383369446, Reward Mean: -0.00699999975040555\n",
      "32/32 [==============================] - 0s 1ms/step\n",
      "Epoch 43/2000 => loss: 0.0043153660371899605, Reward Mean: -0.009000000543892384\n",
      "32/32 [==============================] - 0s 1ms/step\n",
      "Epoch 44/2000 => loss: 0.006671960465610027, Reward Mean: -0.0029999997932463884\n",
      "32/32 [==============================] - 0s 1ms/step\n",
      "Epoch 45/2000 => loss: 0.004133038688451052, Reward Mean: -0.014999999664723873\n",
      "32/32 [==============================] - 0s 1ms/step\n",
      "Epoch 46/2000 => loss: 0.006453108508139849, Reward Mean: -0.019999999552965164\n",
      "32/32 [==============================] - 0s 1ms/step\n",
      "Epoch 47/2000 => loss: 0.004492277279496193, Reward Mean: -0.009999999776482582\n",
      "32/32 [==============================] - 0s 1ms/step\n",
      "Epoch 48/2000 => loss: 0.005875966511666775, Reward Mean: -0.01900000125169754\n",
      "32/32 [==============================] - 0s 1ms/step\n",
      "Epoch 49/2000 => loss: 0.004162118304520845, Reward Mean: -0.00800000037997961\n",
      "32/32 [==============================] - 0s 1ms/step\n",
      "Epoch 50/2000 => loss: 0.005527755245566368, Reward Mean: -0.00699999975040555\n",
      "32/32 [==============================] - 0s 1ms/step\n",
      "Epoch 51/2000 => loss: 0.003942178562283516, Reward Mean: -0.010999999940395355\n",
      "32/32 [==============================] - 0s 1ms/step\n",
      "Epoch 52/2000 => loss: 0.004807683639228344, Reward Mean: -0.010999999940395355\n",
      "32/32 [==============================] - 0s 1ms/step\n",
      "Epoch 53/2000 => loss: 0.0030329683795571327, Reward Mean: -0.00800000037997961\n",
      "32/32 [==============================] - 0s 1ms/step\n",
      "Epoch 54/2000 => loss: 0.0038598920218646526, Reward Mean: -0.01899999938905239\n",
      "32/32 [==============================] - 0s 1ms/step\n",
      "Epoch 55/2000 => loss: 0.002596612088382244, Reward Mean: -0.010999999940395355\n",
      "32/32 [==============================] - 0s 1ms/step\n",
      "Epoch 56/2000 => loss: 0.0028277502860873938, Reward Mean: -0.004999999888241291\n",
      "32/32 [==============================] - 0s 1ms/step\n",
      "Epoch 57/2000 => loss: 0.002081141574308276, Reward Mean: -0.01900000125169754\n",
      "32/32 [==============================] - 0s 1ms/step\n",
      "Epoch 58/2000 => loss: 0.002925314474850893, Reward Mean: -0.010999999940395355\n",
      "32/32 [==============================] - 0s 2ms/step\n",
      "Epoch 59/2000 => loss: 0.00266864150762558, Reward Mean: -0.006000000052154064\n",
      "32/32 [==============================] - 0s 1ms/step\n",
      "Epoch 60/2000 => loss: 0.0023647742345929146, Reward Mean: -0.009999999776482582\n",
      "32/32 [==============================] - 0s 1ms/step\n",
      "Epoch 61/2000 => loss: 0.0016443559434264898, Reward Mean: -0.008999999612569809\n",
      "32/32 [==============================] - 0s 1ms/step\n",
      "Epoch 62/2000 => loss: 0.001870601437985897, Reward Mean: -0.013000000268220901\n",
      "32/32 [==============================] - 0s 1ms/step\n",
      "Epoch 63/2000 => loss: 0.002130728680640459, Reward Mean: -0.015000001527369022\n",
      "32/32 [==============================] - 0s 1ms/step\n",
      "Epoch 64/2000 => loss: 0.002419483382254839, Reward Mean: -0.013000000268220901\n",
      "32/32 [==============================] - 0s 2ms/step\n",
      "Epoch 65/2000 => loss: 0.0018308113794773817, Reward Mean: -0.010999999940395355\n",
      "32/32 [==============================] - 0s 1ms/step\n",
      "Epoch 66/2000 => loss: 0.0016904398798942566, Reward Mean: -0.012999999336898327\n",
      "32/32 [==============================] - 0s 1ms/step\n",
      "Epoch 67/2000 => loss: 0.002018966479226947, Reward Mean: -0.004000000189989805\n",
      "32/32 [==============================] - 0s 1ms/step\n",
      "Epoch 68/2000 => loss: 0.0017368776025250554, Reward Mean: -0.008999999612569809\n",
      "32/32 [==============================] - 0s 2ms/step\n",
      "Epoch 69/2000 => loss: 0.0019863201305270195, Reward Mean: 0.0010000000474974513\n",
      "32/32 [==============================] - 0s 1ms/step\n",
      "Epoch 70/2000 => loss: 0.0018172746058553457, Reward Mean: -0.00800000037997961\n",
      "32/32 [==============================] - 0s 1ms/step\n",
      "Epoch 71/2000 => loss: 0.0019418627489358187, Reward Mean: -0.009999999776482582\n",
      "32/32 [==============================] - 0s 2ms/step\n",
      "Epoch 72/2000 => loss: 0.00150175835005939, Reward Mean: -0.004999999888241291\n",
      "32/32 [==============================] - 0s 4ms/step\n",
      "Epoch 73/2000 => loss: 0.0018962160684168339, Reward Mean: -0.008999999612569809\n",
      "32/32 [==============================] - 0s 2ms/step\n",
      "Epoch 74/2000 => loss: 0.0015701318625360727, Reward Mean: -0.009000000543892384\n",
      "32/32 [==============================] - 0s 2ms/step\n",
      "Epoch 75/2000 => loss: 0.0017050086753442883, Reward Mean: -0.004000000189989805\n",
      "32/32 [==============================] - 0s 1ms/step\n",
      "Epoch 76/2000 => loss: 0.0019948030821979046, Reward Mean: -0.008999999612569809\n",
      "32/32 [==============================] - 0s 1ms/step\n",
      "Epoch 77/2000 => loss: 0.0013730016071349382, Reward Mean: -0.010999999940395355\n",
      "32/32 [==============================] - 0s 1ms/step\n",
      "Epoch 78/2000 => loss: 0.0014886370627209544, Reward Mean: -0.009999999776482582\n",
      "32/32 [==============================] - 0s 1ms/step\n",
      "Epoch 79/2000 => loss: 0.0011851023882627487, Reward Mean: -0.017999999225139618\n",
      "32/32 [==============================] - 0s 1ms/step\n",
      "Epoch 80/2000 => loss: 0.0016382684698328376, Reward Mean: -0.018000001087784767\n",
      "32/32 [==============================] - 0s 1ms/step\n",
      "Epoch 81/2000 => loss: 0.001968439668416977, Reward Mean: -0.020999999716877937\n",
      "32/32 [==============================] - 0s 1ms/step\n",
      "Epoch 82/2000 => loss: 0.0017258271109312773, Reward Mean: -0.015000001527369022\n",
      "32/32 [==============================] - 0s 1ms/step\n",
      "Epoch 83/2000 => loss: 0.001604641554877162, Reward Mean: -0.0029999997932463884\n",
      "32/32 [==============================] - 0s 2ms/step\n",
      "Epoch 84/2000 => loss: 0.0015897606499493122, Reward Mean: -0.007000000681728125\n",
      "32/32 [==============================] - 0s 1ms/step\n",
      "Epoch 85/2000 => loss: 0.002139369025826454, Reward Mean: -0.012000000104308128\n",
      "32/32 [==============================] - 0s 1ms/step\n",
      "Epoch 86/2000 => loss: 0.0015083069447427988, Reward Mean: -0.024000000208616257\n",
      "32/32 [==============================] - 0s 1ms/step\n",
      "Epoch 87/2000 => loss: 0.0021590357646346092, Reward Mean: -0.012000000104308128\n",
      "32/32 [==============================] - 0s 1ms/step\n",
      "Epoch 88/2000 => loss: 0.0018074859399348497, Reward Mean: -0.00800000037997961\n",
      "32/32 [==============================] - 0s 2ms/step\n",
      "Epoch 89/2000 => loss: 0.001668664743192494, Reward Mean: -0.012000000104308128\n",
      "32/32 [==============================] - 0s 1ms/step\n",
      "Epoch 90/2000 => loss: 0.0014986027963459492, Reward Mean: -0.004999999888241291\n",
      "32/32 [==============================] - 0s 1ms/step\n",
      "Epoch 91/2000 => loss: 0.0018694900209084153, Reward Mean: -0.009000000543892384\n",
      "32/32 [==============================] - 0s 1ms/step\n",
      "Epoch 92/2000 => loss: 0.0017501621041446924, Reward Mean: -0.006000000052154064\n",
      "32/32 [==============================] - 0s 2ms/step\n",
      "Epoch 93/2000 => loss: 0.0015528283547610044, Reward Mean: -0.008999999612569809\n",
      "32/32 [==============================] - 0s 2ms/step\n",
      "Epoch 94/2000 => loss: 0.0019529054407030344, Reward Mean: -0.018000001087784767\n",
      "32/32 [==============================] - 0s 2ms/step\n",
      "Epoch 95/2000 => loss: 0.0019847643561661243, Reward Mean: -0.0010000000474974513\n",
      "32/32 [==============================] - 0s 2ms/step\n",
      "Epoch 96/2000 => loss: 0.0018933005630970001, Reward Mean: -0.01400000136345625\n",
      "32/32 [==============================] - 0s 1ms/step\n",
      "Epoch 97/2000 => loss: 0.0018642130307853222, Reward Mean: -0.012000000104308128\n",
      "32/32 [==============================] - 0s 1ms/step\n",
      "Epoch 98/2000 => loss: 0.0020825425162911415, Reward Mean: 0.003999999724328518\n",
      "32/32 [==============================] - 0s 1ms/step\n",
      "Epoch 99/2000 => loss: 0.001950658275745809, Reward Mean: -0.009999999776482582\n",
      "32/32 [==============================] - 0s 1ms/step\n",
      "Epoch 100/2000 => loss: 0.0015730184968560934, Reward Mean: -0.012999999336898327\n",
      "32/32 [==============================] - 0s 1ms/step\n",
      "Epoch 101/2000 => loss: 0.001913634710945189, Reward Mean: -0.012000000104308128\n",
      "32/32 [==============================] - 0s 1ms/step\n",
      "Epoch 102/2000 => loss: 0.0018583473283797503, Reward Mean: -0.017999999225139618\n",
      "32/32 [==============================] - 0s 1ms/step\n",
      "Epoch 103/2000 => loss: 0.001977673266083002, Reward Mean: -0.006000000052154064\n",
      "32/32 [==============================] - 0s 1ms/step\n",
      "Epoch 104/2000 => loss: 0.0021237675100564957, Reward Mean: -0.009999999776482582\n",
      "32/32 [==============================] - 0s 1ms/step\n",
      "Epoch 105/2000 => loss: 0.001914402935653925, Reward Mean: -0.00800000037997961\n",
      "32/32 [==============================] - 0s 1ms/step\n",
      "Epoch 106/2000 => loss: 0.0017738607712090015, Reward Mean: -0.007000000681728125\n",
      "32/32 [==============================] - 0s 1ms/step\n",
      "Epoch 107/2000 => loss: 0.0019838816951960325, Reward Mean: -0.013000000268220901\n",
      "32/32 [==============================] - 0s 1ms/step\n",
      "Epoch 108/2000 => loss: 0.0015111940447241068, Reward Mean: -0.010999999940395355\n",
      "32/32 [==============================] - 0s 1ms/step\n",
      "Epoch 109/2000 => loss: 0.0017745407531037927, Reward Mean: -0.003999999724328518\n",
      "32/32 [==============================] - 0s 1ms/step\n",
      "Epoch 110/2000 => loss: 0.002163892611861229, Reward Mean: -0.017999999225139618\n",
      "32/32 [==============================] - 0s 1ms/step\n",
      "Epoch 111/2000 => loss: 0.0017948811873793602, Reward Mean: -0.01400000136345625\n",
      "32/32 [==============================] - 0s 1ms/step\n",
      "Epoch 112/2000 => loss: 0.0018589887768030167, Reward Mean: -0.017000000923871994\n",
      "32/32 [==============================] - 0s 1ms/step\n",
      "Epoch 113/2000 => loss: 0.0019586877897381783, Reward Mean: -0.017999999225139618\n",
      "32/32 [==============================] - 0s 1ms/step\n",
      "Epoch 114/2000 => loss: 0.0018826033920049667, Reward Mean: -0.018000001087784767\n",
      "32/32 [==============================] - 0s 1ms/step\n",
      "Epoch 115/2000 => loss: 0.0020929034799337387, Reward Mean: -0.003999999724328518\n",
      "32/32 [==============================] - 0s 1ms/step\n",
      "Epoch 116/2000 => loss: 0.0018002244178205729, Reward Mean: -0.00800000037997961\n",
      "32/32 [==============================] - 0s 1ms/step\n",
      "Epoch 117/2000 => loss: 0.001726319082081318, Reward Mean: -0.003000000026077032\n",
      "32/32 [==============================] - 0s 1ms/step\n",
      "Epoch 118/2000 => loss: 0.0022522499784827232, Reward Mean: -0.009999999776482582\n",
      "32/32 [==============================] - 0s 1ms/step\n",
      "Epoch 119/2000 => loss: 0.0018919502617791295, Reward Mean: -0.014999999664723873\n",
      "32/32 [==============================] - 0s 1ms/step\n",
      "Epoch 120/2000 => loss: 0.0015827647875994444, Reward Mean: -0.009999999776482582\n",
      "32/32 [==============================] - 0s 1ms/step\n",
      "Epoch 121/2000 => loss: 0.002304977038875222, Reward Mean: -0.006000000052154064\n",
      "32/32 [==============================] - 0s 1ms/step\n",
      "Epoch 122/2000 => loss: 0.0016396275022998452, Reward Mean: -0.009000000543892384\n",
      "32/32 [==============================] - 0s 1ms/step\n",
      "Epoch 123/2000 => loss: 0.0022164832334965467, Reward Mean: -0.009000000543892384\n",
      "32/32 [==============================] - 0s 1ms/step\n",
      "Epoch 124/2000 => loss: 0.001830743858590722, Reward Mean: -0.01600000075995922\n",
      "32/32 [==============================] - 0s 1ms/step\n",
      "Epoch 125/2000 => loss: 0.001585664926096797, Reward Mean: -0.006000000052154064\n",
      "32/32 [==============================] - 0s 1ms/step\n",
      "Epoch 126/2000 => loss: 0.0019403058104217052, Reward Mean: -0.017000000923871994\n",
      "32/32 [==============================] - 0s 1ms/step\n",
      "Epoch 127/2000 => loss: 0.0018543683690950274, Reward Mean: -0.01600000075995922\n",
      "32/32 [==============================] - 0s 1ms/step\n",
      "Epoch 128/2000 => loss: 0.0024275798350572586, Reward Mean: -0.010999999940395355\n",
      "32/32 [==============================] - 0s 1ms/step\n",
      "Epoch 129/2000 => loss: 0.0020727624651044607, Reward Mean: -0.007000000681728125\n",
      "32/32 [==============================] - 0s 2ms/step\n",
      "Epoch 130/2000 => loss: 0.0020317386370152235, Reward Mean: -0.00800000037997961\n",
      "32/32 [==============================] - 0s 1ms/step\n",
      "Epoch 131/2000 => loss: 0.0018838965333998203, Reward Mean: -0.010999999940395355\n",
      "32/32 [==============================] - 0s 2ms/step\n",
      "Epoch 132/2000 => loss: 0.0020048203878104687, Reward Mean: -0.017000000923871994\n",
      "32/32 [==============================] - 0s 2ms/step\n",
      "Epoch 133/2000 => loss: 0.0019736597314476967, Reward Mean: -0.01899999938905239\n",
      "32/32 [==============================] - 0s 1ms/step\n",
      "Epoch 134/2000 => loss: 0.0020702865440398455, Reward Mean: -0.018000001087784767\n",
      "32/32 [==============================] - 0s 1ms/step\n",
      "Epoch 135/2000 => loss: 0.001618949230760336, Reward Mean: -0.006000000052154064\n",
      "32/32 [==============================] - 0s 1ms/step\n",
      "Epoch 136/2000 => loss: 0.001909372629597783, Reward Mean: 2.2351741291171123e-10\n",
      "32/32 [==============================] - 0s 1ms/step\n",
      "Epoch 137/2000 => loss: 0.0018664977978914976, Reward Mean: -0.014999999664723873\n",
      "32/32 [==============================] - 0s 1ms/step\n",
      "Epoch 138/2000 => loss: 0.002048949245363474, Reward Mean: -0.00800000037997961\n",
      "32/32 [==============================] - 0s 1ms/step\n",
      "Epoch 139/2000 => loss: 0.0018457910045981407, Reward Mean: -0.014999999664723873\n",
      "32/32 [==============================] - 0s 1ms/step\n",
      "Epoch 140/2000 => loss: 0.0017815682804211974, Reward Mean: -0.004999999888241291\n",
      "32/32 [==============================] - 0s 2ms/step\n",
      "Epoch 141/2000 => loss: 0.001991845201700926, Reward Mean: -0.012000000104308128\n",
      "32/32 [==============================] - 0s 2ms/step\n",
      "Epoch 142/2000 => loss: 0.002494953805580735, Reward Mean: 2.2351741291171123e-10\n",
      "32/32 [==============================] - 0s 2ms/step\n",
      "Epoch 143/2000 => loss: 0.0013999922666698694, Reward Mean: -0.009000000543892384\n",
      "32/32 [==============================] - 0s 2ms/step\n",
      "Epoch 144/2000 => loss: 0.0016318419948220253, Reward Mean: -0.007000000681728125\n",
      "32/32 [==============================] - 0s 1ms/step\n",
      "Epoch 145/2000 => loss: 0.002136160619556904, Reward Mean: -0.009999999776482582\n",
      "32/32 [==============================] - 0s 1ms/step\n",
      "Epoch 146/2000 => loss: 0.002032777527347207, Reward Mean: -0.004000000189989805\n",
      "32/32 [==============================] - 0s 1ms/step\n",
      "Epoch 147/2000 => loss: 0.001956661231815815, Reward Mean: -0.009000000543892384\n",
      "32/32 [==============================] - 0s 2ms/step\n",
      "Epoch 148/2000 => loss: 0.0020425538532435894, Reward Mean: -0.004999999888241291\n",
      "32/32 [==============================] - 0s 1ms/step\n",
      "Epoch 149/2000 => loss: 0.0023731060791760683, Reward Mean: -0.010999999940395355\n",
      "32/32 [==============================] - 0s 1ms/step\n",
      "Epoch 150/2000 => loss: 0.002070731483399868, Reward Mean: 0.0010000001639127731\n",
      "32/32 [==============================] - 0s 1ms/step\n",
      "Epoch 151/2000 => loss: 0.0021385117433965206, Reward Mean: -0.010999999940395355\n",
      "32/32 [==============================] - 0s 1ms/step\n",
      "Epoch 152/2000 => loss: 0.002370415488258004, Reward Mean: -0.013000000268220901\n",
      "32/32 [==============================] - 0s 1ms/step\n",
      "Epoch 153/2000 => loss: 0.0021548294462263584, Reward Mean: -0.010999999940395355\n",
      "32/32 [==============================] - 0s 1ms/step\n",
      "Epoch 154/2000 => loss: 0.0025454519782215357, Reward Mean: -0.01600000075995922\n",
      "32/32 [==============================] - 0s 1ms/step\n",
      "Epoch 155/2000 => loss: 0.0020992073696106672, Reward Mean: -0.003999999724328518\n",
      "32/32 [==============================] - 0s 1ms/step\n",
      "Epoch 156/2000 => loss: 0.002322392538189888, Reward Mean: -0.009000000543892384\n",
      "32/32 [==============================] - 0s 1ms/step\n",
      "Epoch 157/2000 => loss: 0.0021832240745425224, Reward Mean: -0.004999999888241291\n",
      "32/32 [==============================] - 0s 1ms/step\n",
      "Epoch 158/2000 => loss: 0.0017581538995727897, Reward Mean: -0.0139999995008111\n",
      "32/32 [==============================] - 0s 1ms/step\n",
      "Epoch 159/2000 => loss: 0.0020746251102536917, Reward Mean: -0.014999999664723873\n",
      "32/32 [==============================] - 0s 1ms/step\n",
      "Epoch 160/2000 => loss: 0.0022558486089110374, Reward Mean: -0.01400000136345625\n",
      "32/32 [==============================] - 0s 1ms/step\n",
      "Epoch 161/2000 => loss: 0.0024083321914076805, Reward Mean: -0.013000000268220901\n",
      "32/32 [==============================] - 0s 1ms/step\n",
      "Epoch 162/2000 => loss: 0.0017612744122743607, Reward Mean: -0.01600000075995922\n",
      "32/32 [==============================] - 0s 1ms/step\n",
      "Epoch 163/2000 => loss: 0.001775004668161273, Reward Mean: -0.012000000104308128\n",
      "32/32 [==============================] - 0s 1ms/step\n",
      "Epoch 164/2000 => loss: 0.0022528599947690964, Reward Mean: -0.01400000136345625\n",
      "32/32 [==============================] - 0s 1ms/step\n",
      "Epoch 165/2000 => loss: 0.002296817023307085, Reward Mean: -0.013000000268220901\n",
      "32/32 [==============================] - 0s 1ms/step\n",
      "Epoch 166/2000 => loss: 0.002018080558627844, Reward Mean: -0.009999999776482582\n",
      "32/32 [==============================] - 0s 1ms/step\n",
      "Epoch 167/2000 => loss: 0.0019370889058336616, Reward Mean: 0.003999999724328518\n",
      "32/32 [==============================] - 0s 1ms/step\n",
      "Epoch 168/2000 => loss: 0.0022018023300915956, Reward Mean: -0.012000000104308128\n",
      "32/32 [==============================] - 0s 1ms/step\n",
      "Epoch 169/2000 => loss: 0.0016316755209118128, Reward Mean: -0.01400000136345625\n",
      "32/32 [==============================] - 0s 1ms/step\n",
      "Epoch 170/2000 => loss: 0.0023197068367153406, Reward Mean: -0.015000001527369022\n",
      "32/32 [==============================] - 0s 1ms/step\n",
      "Epoch 171/2000 => loss: 0.001711888937279582, Reward Mean: -0.0139999995008111\n",
      "32/32 [==============================] - 0s 1ms/step\n",
      "Epoch 172/2000 => loss: 0.001984512899070978, Reward Mean: -0.013000000268220901\n",
      "32/32 [==============================] - 0s 1ms/step\n",
      "Epoch 173/2000 => loss: 0.0024300776422023773, Reward Mean: 0.0009999992325901985\n",
      "32/32 [==============================] - 0s 1ms/step\n",
      "Epoch 174/2000 => loss: 0.0016212166519835591, Reward Mean: -0.019999999552965164\n",
      "32/32 [==============================] - 0s 1ms/step\n",
      "Epoch 175/2000 => loss: 0.0016851366963237524, Reward Mean: -0.010999999940395355\n",
      "32/32 [==============================] - 0s 1ms/step\n",
      "Epoch 176/2000 => loss: 0.0022984915412962437, Reward Mean: -0.010999999940395355\n",
      "32/32 [==============================] - 0s 1ms/step\n",
      "Epoch 177/2000 => loss: 0.0020554931834340096, Reward Mean: -0.014999999664723873\n",
      "32/32 [==============================] - 0s 1ms/step\n",
      "Epoch 178/2000 => loss: 0.0018663456430658698, Reward Mean: -0.010999999940395355\n",
      "32/32 [==============================] - 0s 1ms/step\n",
      "Epoch 179/2000 => loss: 0.002096485812216997, Reward Mean: -0.01400000136345625\n",
      "32/32 [==============================] - 0s 1ms/step\n",
      "Epoch 180/2000 => loss: 0.0020989584736526012, Reward Mean: 0.001000000280328095\n",
      "32/32 [==============================] - 0s 1ms/step\n",
      "Epoch 181/2000 => loss: 0.0021042809821665287, Reward Mean: -0.012000000104308128\n",
      "32/32 [==============================] - 0s 1ms/step\n",
      "Epoch 182/2000 => loss: 0.0015518650179728866, Reward Mean: -0.01600000075995922\n",
      "32/32 [==============================] - 0s 1ms/step\n",
      "Epoch 183/2000 => loss: 0.0021575121209025383, Reward Mean: -0.015000001527369022\n",
      "32/32 [==============================] - 0s 1ms/step\n",
      "Epoch 184/2000 => loss: 0.0019192069303244352, Reward Mean: -0.009000000543892384\n",
      "32/32 [==============================] - 0s 2ms/step\n",
      "Epoch 185/2000 => loss: 0.0020636662375181913, Reward Mean: -0.017000000923871994\n",
      "32/32 [==============================] - 0s 1ms/step\n",
      "Epoch 186/2000 => loss: 0.0025557377375662327, Reward Mean: -0.004999999888241291\n",
      "32/32 [==============================] - 0s 1ms/step\n",
      "Epoch 187/2000 => loss: 0.0019405705388635397, Reward Mean: -0.023000001907348633\n",
      "32/32 [==============================] - 0s 1ms/step\n",
      "Epoch 188/2000 => loss: 0.0023394266609102488, Reward Mean: -0.012000000104308128\n",
      "32/32 [==============================] - 0s 1ms/step\n",
      "Epoch 189/2000 => loss: 0.002338285557925701, Reward Mean: -0.017000000923871994\n",
      "32/32 [==============================] - 0s 1ms/step\n",
      "Epoch 190/2000 => loss: 0.0024586310610175133, Reward Mean: -0.013000000268220901\n",
      "32/32 [==============================] - 0s 1ms/step\n",
      "Epoch 191/2000 => loss: 0.002188463695347309, Reward Mean: -0.012000000104308128\n",
      "32/32 [==============================] - 0s 1ms/step\n",
      "Epoch 192/2000 => loss: 0.0017301796469837427, Reward Mean: -0.006000000052154064\n",
      "32/32 [==============================] - 0s 1ms/step\n",
      "Epoch 193/2000 => loss: 0.0017752557760104537, Reward Mean: 0.0\n",
      "32/32 [==============================] - 0s 1ms/step\n",
      "Epoch 194/2000 => loss: 0.0030498881824314594, Reward Mean: -0.009999999776482582\n",
      "32/32 [==============================] - 0s 1ms/step\n",
      "Epoch 195/2000 => loss: 0.0022208839654922485, Reward Mean: -0.004000000189989805\n",
      "32/32 [==============================] - 0s 1ms/step\n",
      "Epoch 196/2000 => loss: 0.002108892658725381, Reward Mean: -0.007000000681728125\n",
      "32/32 [==============================] - 0s 1ms/step\n",
      "Epoch 197/2000 => loss: 0.001618044450879097, Reward Mean: -0.010999999940395355\n",
      "32/32 [==============================] - 0s 1ms/step\n",
      "Epoch 198/2000 => loss: 0.002113626804202795, Reward Mean: -0.009999999776482582\n",
      "32/32 [==============================] - 0s 1ms/step\n",
      "Epoch 199/2000 => loss: 0.0019918072503060102, Reward Mean: -0.009999999776482582\n",
      "32/32 [==============================] - 0s 1ms/step\n",
      "Epoch 200/2000 => loss: 0.0015273303724825382, Reward Mean: -0.009000000543892384\n",
      "32/32 [==============================] - 0s 1ms/step\n",
      "Epoch 201/2000 => loss: 0.001846563769504428, Reward Mean: -0.007000000681728125\n",
      "32/32 [==============================] - 0s 1ms/step\n",
      "Epoch 202/2000 => loss: 0.0020537814125418663, Reward Mean: -0.017000000923871994\n",
      "32/32 [==============================] - 0s 1ms/step\n",
      "Epoch 203/2000 => loss: 0.002084834035485983, Reward Mean: -0.004000000189989805\n",
      "32/32 [==============================] - 0s 1ms/step\n",
      "Epoch 204/2000 => loss: 0.0018296733032912016, Reward Mean: -0.01400000136345625\n",
      "32/32 [==============================] - 0s 2ms/step\n",
      "Epoch 205/2000 => loss: 0.0015892393421381712, Reward Mean: -0.007000000681728125\n",
      "32/32 [==============================] - 0s 1ms/step\n",
      "Epoch 206/2000 => loss: 0.001962357433512807, Reward Mean: -0.013000000268220901\n",
      "32/32 [==============================] - 0s 1ms/step\n",
      "Epoch 207/2000 => loss: 0.0019518493209034204, Reward Mean: -0.006000000052154064\n",
      "32/32 [==============================] - 0s 1ms/step\n",
      "Epoch 208/2000 => loss: 0.0020024930126965046, Reward Mean: -0.004000000189989805\n",
      "32/32 [==============================] - 0s 1ms/step\n",
      "Epoch 209/2000 => loss: 0.0018930218648165464, Reward Mean: -0.012999999336898327\n",
      "32/32 [==============================] - 0s 1ms/step\n",
      "Epoch 210/2000 => loss: 0.002382026519626379, Reward Mean: -0.02199999988079071\n",
      "32/32 [==============================] - 0s 1ms/step\n",
      "Epoch 211/2000 => loss: 0.002126567531377077, Reward Mean: -0.012000000104308128\n",
      "32/32 [==============================] - 0s 1ms/step\n",
      "Epoch 212/2000 => loss: 0.0021074635442346334, Reward Mean: -0.012000000104308128\n",
      "32/32 [==============================] - 0s 1ms/step\n",
      "Epoch 213/2000 => loss: 0.0019629402086138725, Reward Mean: -0.009999999776482582\n",
      "32/32 [==============================] - 0s 1ms/step\n",
      "Epoch 214/2000 => loss: 0.002192038344219327, Reward Mean: -0.015000001527369022\n",
      "32/32 [==============================] - 0s 1ms/step\n",
      "Epoch 215/2000 => loss: 0.0022506932727992535, Reward Mean: -0.0020000000949949026\n",
      "32/32 [==============================] - 0s 1ms/step\n",
      "Epoch 216/2000 => loss: 0.0018500863807275891, Reward Mean: -0.01600000075995922\n",
      "32/32 [==============================] - 0s 1ms/step\n",
      "Epoch 217/2000 => loss: 0.001875558402389288, Reward Mean: -0.0139999995008111\n",
      "32/32 [==============================] - 0s 3ms/step\n",
      "Epoch 218/2000 => loss: 0.0018740282393991947, Reward Mean: -0.009999999776482582\n",
      "32/32 [==============================] - 0s 1ms/step\n",
      "Epoch 219/2000 => loss: 0.0019246030133217573, Reward Mean: -0.005999999586492777\n",
      "32/32 [==============================] - 0s 1ms/step\n",
      "Epoch 220/2000 => loss: 0.002170721534639597, Reward Mean: -0.009999999776482582\n",
      "32/32 [==============================] - 0s 2ms/step\n",
      "Epoch 221/2000 => loss: 0.002035620389506221, Reward Mean: -0.01400000136345625\n",
      "32/32 [==============================] - 0s 1ms/step\n",
      "Epoch 222/2000 => loss: 0.0022585054393857718, Reward Mean: -0.0139999995008111\n",
      "32/32 [==============================] - 0s 1ms/step\n",
      "Epoch 223/2000 => loss: 0.0020347784738987684, Reward Mean: -0.015000001527369022\n",
      "32/32 [==============================] - 0s 1ms/step\n",
      "Epoch 224/2000 => loss: 0.0025127544067800045, Reward Mean: -0.01899999938905239\n",
      "32/32 [==============================] - 0s 1ms/step\n",
      "Epoch 225/2000 => loss: 0.0017617435660213232, Reward Mean: -0.012000000104308128\n",
      "32/32 [==============================] - 0s 1ms/step\n",
      "Epoch 226/2000 => loss: 0.0018438291735947132, Reward Mean: -0.01400000136345625\n",
      "32/32 [==============================] - 0s 1ms/step\n",
      "Epoch 227/2000 => loss: 0.002111460780724883, Reward Mean: -0.013000000268220901\n",
      "32/32 [==============================] - 0s 1ms/step\n",
      "Epoch 228/2000 => loss: 0.002097778022289276, Reward Mean: -0.015000001527369022\n",
      "32/32 [==============================] - 0s 1ms/step\n",
      "Epoch 229/2000 => loss: 0.0017257053405046463, Reward Mean: -0.020999999716877937\n",
      "32/32 [==============================] - 0s 1ms/step\n",
      "Epoch 230/2000 => loss: 0.0017812552396208048, Reward Mean: -0.00800000037997961\n",
      "32/32 [==============================] - 0s 1ms/step\n",
      "Epoch 231/2000 => loss: 0.0021239686757326126, Reward Mean: -0.010999999940395355\n",
      "32/32 [==============================] - 0s 1ms/step\n",
      "Epoch 232/2000 => loss: 0.002191926119849086, Reward Mean: -0.009000000543892384\n",
      "32/32 [==============================] - 0s 1ms/step\n",
      "Epoch 233/2000 => loss: 0.0023849881254136562, Reward Mean: -0.009000000543892384\n",
      "32/32 [==============================] - 0s 1ms/step\n",
      "Epoch 234/2000 => loss: 0.0022246045991778374, Reward Mean: 0.004999999888241291\n",
      "32/32 [==============================] - 0s 1ms/step\n",
      "Epoch 235/2000 => loss: 0.0017978240502998233, Reward Mean: -0.00699999975040555\n",
      "32/32 [==============================] - 0s 1ms/step\n",
      "Epoch 236/2000 => loss: 0.0016071680001914501, Reward Mean: -0.00800000037997961\n",
      "32/32 [==============================] - 0s 1ms/step\n",
      "Epoch 237/2000 => loss: 0.001630978542380035, Reward Mean: -0.012999999336898327\n",
      "32/32 [==============================] - 0s 1ms/step\n",
      "Epoch 238/2000 => loss: 0.001733735203742981, Reward Mean: -0.009000000543892384\n",
      "32/32 [==============================] - 0s 1ms/step\n",
      "Epoch 239/2000 => loss: 0.002374395029619336, Reward Mean: -0.02199999988079071\n",
      "32/32 [==============================] - 0s 1ms/step\n",
      "Epoch 240/2000 => loss: 0.001963426126167178, Reward Mean: -0.00800000037997961\n",
      "32/32 [==============================] - 0s 1ms/step\n",
      "Epoch 241/2000 => loss: 0.0019789927173405886, Reward Mean: -0.012999999336898327\n",
      "32/32 [==============================] - 0s 1ms/step\n",
      "Epoch 242/2000 => loss: 0.002191915875300765, Reward Mean: -0.0020000000949949026\n",
      "32/32 [==============================] - 0s 1ms/step\n",
      "Epoch 243/2000 => loss: 0.0020064208656549454, Reward Mean: 0.0\n",
      "32/32 [==============================] - 0s 3ms/step\n",
      "Epoch 244/2000 => loss: 0.0020085207652300596, Reward Mean: -0.012000000104308128\n",
      "32/32 [==============================] - 0s 1ms/step\n",
      "Epoch 245/2000 => loss: 0.0022441577166318893, Reward Mean: -0.004999999888241291\n",
      "32/32 [==============================] - 0s 1ms/step\n",
      "Epoch 246/2000 => loss: 0.002133814850822091, Reward Mean: -0.0139999995008111\n",
      "32/32 [==============================] - 0s 1ms/step\n",
      "Epoch 247/2000 => loss: 0.0018221675418317318, Reward Mean: -0.009999999776482582\n",
      "32/32 [==============================] - 0s 1ms/step\n",
      "Epoch 248/2000 => loss: 0.002050071721896529, Reward Mean: -0.012000000104308128\n",
      "32/32 [==============================] - 0s 1ms/step\n",
      "Epoch 249/2000 => loss: 0.0017672243993729353, Reward Mean: -0.009999999776482582\n",
      "32/32 [==============================] - 0s 1ms/step\n",
      "Epoch 250/2000 => loss: 0.0024348455481231213, Reward Mean: -0.013000000268220901\n",
      "32/32 [==============================] - 0s 1ms/step\n",
      "Epoch 251/2000 => loss: 0.0016755040269345045, Reward Mean: -0.009999999776482582\n",
      "32/32 [==============================] - 0s 1ms/step\n",
      "Epoch 252/2000 => loss: 0.002456406829878688, Reward Mean: -0.01400000136345625\n",
      "32/32 [==============================] - 0s 1ms/step\n",
      "Epoch 253/2000 => loss: 0.002039289567619562, Reward Mean: -0.00800000037997961\n",
      "32/32 [==============================] - 0s 1ms/step\n",
      "Epoch 254/2000 => loss: 0.0020165371242910624, Reward Mean: -0.01400000136345625\n",
      "32/32 [==============================] - 0s 1ms/step\n",
      "Epoch 255/2000 => loss: 0.0015525131020694971, Reward Mean: -0.009999999776482582\n",
      "32/32 [==============================] - 0s 1ms/step\n",
      "Epoch 256/2000 => loss: 0.0018191265407949686, Reward Mean: -0.017000000923871994\n",
      "32/32 [==============================] - 0s 1ms/step\n",
      "Epoch 257/2000 => loss: 0.001967853168025613, Reward Mean: -0.01900000125169754\n",
      "32/32 [==============================] - 0s 1ms/step\n",
      "Epoch 258/2000 => loss: 0.0018461192958056927, Reward Mean: -0.01400000136345625\n",
      "32/32 [==============================] - 0s 1ms/step\n",
      "Epoch 259/2000 => loss: 0.002110715489834547, Reward Mean: -0.019999999552965164\n",
      "32/32 [==============================] - 0s 1ms/step\n",
      "Epoch 260/2000 => loss: 0.0022375918924808502, Reward Mean: -0.01900000125169754\n",
      "32/32 [==============================] - 0s 1ms/step\n",
      "Epoch 261/2000 => loss: 0.0020255153067409992, Reward Mean: -0.009999999776482582\n",
      "32/32 [==============================] - 0s 1ms/step\n",
      "Epoch 262/2000 => loss: 0.0018946642521768808, Reward Mean: -0.01899999938905239\n",
      "32/32 [==============================] - 0s 1ms/step\n",
      "Epoch 263/2000 => loss: 0.002163015305995941, Reward Mean: -0.00800000037997961\n",
      "32/32 [==============================] - 0s 1ms/step\n",
      "Epoch 264/2000 => loss: 0.001867357175797224, Reward Mean: -0.007000000681728125\n",
      "32/32 [==============================] - 0s 1ms/step\n",
      "Epoch 265/2000 => loss: 0.001897494657896459, Reward Mean: -0.01400000136345625\n",
      "32/32 [==============================] - 0s 1ms/step\n",
      "Epoch 266/2000 => loss: 0.002114738803356886, Reward Mean: -0.0020000000949949026\n",
      "32/32 [==============================] - 0s 1ms/step\n",
      "Epoch 267/2000 => loss: 0.0018382545094937086, Reward Mean: -0.00800000037997961\n",
      "32/32 [==============================] - 0s 1ms/step\n",
      "Epoch 268/2000 => loss: 0.002246952848508954, Reward Mean: -0.00800000037997961\n",
      "32/32 [==============================] - 0s 1ms/step\n",
      "Epoch 269/2000 => loss: 0.002015302423387766, Reward Mean: -0.009000000543892384\n",
      "32/32 [==============================] - 0s 1ms/step\n",
      "Epoch 270/2000 => loss: 0.00193980080075562, Reward Mean: -0.00800000037997961\n",
      "32/32 [==============================] - 0s 1ms/step\n",
      "Epoch 271/2000 => loss: 0.0018000167328864336, Reward Mean: -0.001999999862164259\n",
      "32/32 [==============================] - 0s 1ms/step\n",
      "Epoch 272/2000 => loss: 0.00198035454377532, Reward Mean: -0.009999999776482582\n",
      "32/32 [==============================] - 0s 1ms/step\n",
      "Epoch 273/2000 => loss: 0.0022490639239549637, Reward Mean: -0.014999999664723873\n",
      "32/32 [==============================] - 0s 1ms/step\n",
      "Epoch 274/2000 => loss: 0.0017938843229785562, Reward Mean: -0.010999999940395355\n",
      "32/32 [==============================] - 0s 1ms/step\n",
      "Epoch 275/2000 => loss: 0.002333013340830803, Reward Mean: -0.012999999336898327\n",
      "32/32 [==============================] - 0s 1ms/step\n",
      "Epoch 276/2000 => loss: 0.0021039636339992285, Reward Mean: -0.009000000543892384\n",
      "32/32 [==============================] - 0s 1ms/step\n",
      "Epoch 277/2000 => loss: 0.0022148226853460073, Reward Mean: -0.0029999997932463884\n",
      "32/32 [==============================] - 0s 1ms/step\n",
      "Epoch 278/2000 => loss: 0.002125122118741274, Reward Mean: -0.009999999776482582\n",
      "32/32 [==============================] - 0s 1ms/step\n",
      "Epoch 279/2000 => loss: 0.002448695246130228, Reward Mean: -0.012000000104308128\n",
      "32/32 [==============================] - 0s 1ms/step\n",
      "Epoch 280/2000 => loss: 0.0020598447881639004, Reward Mean: -0.004000000189989805\n",
      "32/32 [==============================] - 0s 1ms/step\n",
      "Epoch 281/2000 => loss: 0.0020187818445265293, Reward Mean: -0.004000000189989805\n",
      "32/32 [==============================] - 0s 1ms/step\n",
      "Epoch 282/2000 => loss: 0.002309406641870737, Reward Mean: -0.009999999776482582\n",
      "32/32 [==============================] - 0s 1ms/step\n",
      "Epoch 283/2000 => loss: 0.0021392800845205784, Reward Mean: -0.004000000189989805\n",
      "32/32 [==============================] - 0s 1ms/step\n",
      "Epoch 284/2000 => loss: 0.001818503369577229, Reward Mean: -0.010000001639127731\n",
      "32/32 [==============================] - 0s 1ms/step\n",
      "Epoch 285/2000 => loss: 0.002321186475455761, Reward Mean: -0.018000001087784767\n",
      "32/32 [==============================] - 0s 1ms/step\n",
      "Epoch 286/2000 => loss: 0.0017711682012304664, Reward Mean: -0.009000000543892384\n",
      "32/32 [==============================] - 0s 1ms/step\n",
      "Epoch 287/2000 => loss: 0.001971652265638113, Reward Mean: -0.017000000923871994\n",
      "32/32 [==============================] - 0s 1ms/step\n",
      "Epoch 288/2000 => loss: 0.0023225576151162386, Reward Mean: -0.009000000543892384\n",
      "32/32 [==============================] - 0s 2ms/step\n",
      "Epoch 289/2000 => loss: 0.002506343647837639, Reward Mean: -0.00800000037997961\n",
      "32/32 [==============================] - 0s 1ms/step\n",
      "Epoch 290/2000 => loss: 0.002813044935464859, Reward Mean: -0.007000000681728125\n",
      "32/32 [==============================] - 0s 3ms/step\n",
      "Epoch 291/2000 => loss: 0.0020538053940981627, Reward Mean: -0.006000000052154064\n",
      "32/32 [==============================] - 0s 1ms/step\n",
      "Epoch 292/2000 => loss: 0.0017998924013227224, Reward Mean: -0.017000000923871994\n",
      "32/32 [==============================] - 0s 1ms/step\n",
      "Epoch 293/2000 => loss: 0.0017316725570708513, Reward Mean: -0.012999999336898327\n",
      "32/32 [==============================] - 0s 1ms/step\n",
      "Epoch 294/2000 => loss: 0.0022087148390710354, Reward Mean: -0.015000001527369022\n",
      "32/32 [==============================] - 0s 1ms/step\n",
      "Epoch 295/2000 => loss: 0.002596670761704445, Reward Mean: -0.001000000280328095\n",
      "32/32 [==============================] - 0s 1ms/step\n",
      "Epoch 296/2000 => loss: 0.002071527997031808, Reward Mean: -0.015000001527369022\n",
      "32/32 [==============================] - 0s 1ms/step\n",
      "Epoch 297/2000 => loss: 0.0021192068234086037, Reward Mean: -0.01899999938905239\n",
      "32/32 [==============================] - 0s 1ms/step\n",
      "Epoch 298/2000 => loss: 0.002000836655497551, Reward Mean: -0.00800000037997961\n",
      "32/32 [==============================] - 0s 1ms/step\n",
      "Epoch 299/2000 => loss: 0.0026087185833603144, Reward Mean: -0.010999999940395355\n",
      "32/32 [==============================] - 0s 1ms/step\n",
      "Epoch 300/2000 => loss: 0.002079737139865756, Reward Mean: -0.004999999888241291\n",
      "32/32 [==============================] - 0s 2ms/step\n",
      "Epoch 301/2000 => loss: 0.00209595775231719, Reward Mean: -0.015000001527369022\n",
      "32/32 [==============================] - 0s 1ms/step\n",
      "Epoch 302/2000 => loss: 0.001915425295010209, Reward Mean: -0.01400000136345625\n",
      "32/32 [==============================] - 0s 1ms/step\n",
      "Epoch 303/2000 => loss: 0.001640442293137312, Reward Mean: -0.009000000543892384\n",
      "32/32 [==============================] - 0s 1ms/step\n",
      "Epoch 304/2000 => loss: 0.0018721275264397264, Reward Mean: -0.01400000136345625\n",
      "32/32 [==============================] - 0s 1ms/step\n",
      "Epoch 305/2000 => loss: 0.0015106461942195892, Reward Mean: -0.003000000026077032\n",
      "32/32 [==============================] - 0s 1ms/step\n",
      "Epoch 306/2000 => loss: 0.00214931252412498, Reward Mean: -0.017000000923871994\n",
      "32/32 [==============================] - 0s 1ms/step\n",
      "Epoch 307/2000 => loss: 0.0018645974341779947, Reward Mean: -0.003000000026077032\n",
      "32/32 [==============================] - 0s 1ms/step\n",
      "Epoch 308/2000 => loss: 0.0019886703230440617, Reward Mean: -0.012999999336898327\n",
      "32/32 [==============================] - 0s 1ms/step\n",
      "Epoch 309/2000 => loss: 0.0018195528537034988, Reward Mean: -0.009000000543892384\n",
      "32/32 [==============================] - 0s 1ms/step\n",
      "Epoch 310/2000 => loss: 0.002085916232317686, Reward Mean: -0.007999999448657036\n",
      "32/32 [==============================] - 0s 1ms/step\n",
      "Epoch 311/2000 => loss: 0.001704278402030468, Reward Mean: 0.006000000052154064\n",
      "32/32 [==============================] - 0s 1ms/step\n",
      "Epoch 312/2000 => loss: 0.0019073905423283577, Reward Mean: -0.015000001527369022\n",
      "32/32 [==============================] - 0s 2ms/step\n",
      "Epoch 313/2000 => loss: 0.002144410740584135, Reward Mean: -0.018000001087784767\n",
      "32/32 [==============================] - 0s 1ms/step\n",
      "Epoch 314/2000 => loss: 0.0017898286459967494, Reward Mean: -0.01400000136345625\n",
      "32/32 [==============================] - 0s 1ms/step\n",
      "Epoch 315/2000 => loss: 0.0023199189454317093, Reward Mean: -0.012999999336898327\n",
      "32/32 [==============================] - 0s 1ms/step\n",
      "Epoch 316/2000 => loss: 0.002049562521278858, Reward Mean: -0.012000000104308128\n",
      "32/32 [==============================] - 0s 1ms/step\n",
      "Epoch 317/2000 => loss: 0.00164674106054008, Reward Mean: -0.01600000075995922\n",
      "32/32 [==============================] - 0s 1ms/step\n",
      "Epoch 318/2000 => loss: 0.0019487967947497964, Reward Mean: -0.017000000923871994\n",
      "32/32 [==============================] - 0s 1ms/step\n",
      "Epoch 319/2000 => loss: 0.0026035173796117306, Reward Mean: -0.012000000104308128\n",
      "32/32 [==============================] - 0s 1ms/step\n",
      "Epoch 320/2000 => loss: 0.0018994552083313465, Reward Mean: -0.012000000104308128\n",
      "32/32 [==============================] - 0s 1ms/step\n",
      "Epoch 321/2000 => loss: 0.0021940728183835745, Reward Mean: -0.010999999940395355\n",
      "32/32 [==============================] - 0s 1ms/step\n",
      "Epoch 322/2000 => loss: 0.002047038171440363, Reward Mean: -0.010999999940395355\n",
      "32/32 [==============================] - 0s 1ms/step\n",
      "Epoch 323/2000 => loss: 0.0019523629453033209, Reward Mean: -0.009999999776482582\n",
      "32/32 [==============================] - 0s 2ms/step\n",
      "Epoch 324/2000 => loss: 0.002002359600737691, Reward Mean: -0.013000000268220901\n",
      "32/32 [==============================] - 0s 1ms/step\n",
      "Epoch 325/2000 => loss: 0.0019077430479228497, Reward Mean: -0.010000001639127731\n",
      "32/32 [==============================] - 0s 1ms/step\n",
      "Epoch 326/2000 => loss: 0.0018756925128400326, Reward Mean: -0.01400000136345625\n",
      "32/32 [==============================] - 0s 1ms/step\n",
      "Epoch 327/2000 => loss: 0.001629380974918604, Reward Mean: -0.013000000268220901\n",
      "32/32 [==============================] - 0s 2ms/step\n",
      "Epoch 328/2000 => loss: 0.0019160652300342917, Reward Mean: -0.009000000543892384\n",
      "32/32 [==============================] - 0s 2ms/step\n",
      "Epoch 329/2000 => loss: 0.0015285804402083158, Reward Mean: -0.00800000037997961\n",
      "32/32 [==============================] - 0s 1ms/step\n",
      "Epoch 330/2000 => loss: 0.00204847427085042, Reward Mean: -0.012000000104308128\n",
      "32/32 [==============================] - 0s 1ms/step\n",
      "Epoch 331/2000 => loss: 0.0019639944657683372, Reward Mean: -0.009000000543892384\n",
      "32/32 [==============================] - 0s 1ms/step\n",
      "Epoch 332/2000 => loss: 0.0023817624896764755, Reward Mean: -0.008999999612569809\n",
      "32/32 [==============================] - 0s 1ms/step\n",
      "Epoch 333/2000 => loss: 0.002407244173809886, Reward Mean: 0.003000000026077032\n",
      "32/32 [==============================] - 0s 1ms/step\n",
      "Epoch 334/2000 => loss: 0.0022499822080135345, Reward Mean: 0.0010000000474974513\n",
      "32/32 [==============================] - 0s 2ms/step\n",
      "Epoch 335/2000 => loss: 0.0020469194278120995, Reward Mean: -0.004000000189989805\n",
      "32/32 [==============================] - 0s 1ms/step\n",
      "Epoch 336/2000 => loss: 0.0022784657776355743, Reward Mean: -0.009999999776482582\n",
      "32/32 [==============================] - 0s 1ms/step\n",
      "Epoch 337/2000 => loss: 0.0021403981372714043, Reward Mean: 0.004999999888241291\n",
      "32/32 [==============================] - 0s 1ms/step\n",
      "Epoch 338/2000 => loss: 0.0020585721358656883, Reward Mean: -0.0029999997932463884\n",
      "32/32 [==============================] - 0s 1ms/step\n",
      "Epoch 339/2000 => loss: 0.0019155479967594147, Reward Mean: -0.015000001527369022\n",
      "32/32 [==============================] - 0s 1ms/step\n",
      "Epoch 340/2000 => loss: 0.0020849413704127073, Reward Mean: -0.021000001579523087\n",
      "32/32 [==============================] - 0s 1ms/step\n",
      "Epoch 341/2000 => loss: 0.0014189386274665594, Reward Mean: -0.018000001087784767\n",
      "32/32 [==============================] - 0s 2ms/step\n",
      "Epoch 342/2000 => loss: 0.0021179369650781155, Reward Mean: -0.012000000104308128\n",
      "32/32 [==============================] - 0s 2ms/step\n",
      "Epoch 343/2000 => loss: 0.0024438381660729647, Reward Mean: -0.006000000052154064\n",
      "32/32 [==============================] - 0s 1ms/step\n",
      "Epoch 344/2000 => loss: 0.0024816570803523064, Reward Mean: -0.014999999664723873\n",
      "32/32 [==============================] - 0s 1ms/step\n",
      "Epoch 345/2000 => loss: 0.0024621400516480207, Reward Mean: -0.015000001527369022\n",
      "32/32 [==============================] - 0s 1ms/step\n",
      "Epoch 346/2000 => loss: 0.0027958531863987446, Reward Mean: -0.008999999612569809\n",
      "32/32 [==============================] - 0s 1ms/step\n",
      "Epoch 347/2000 => loss: 0.0019829696975648403, Reward Mean: 0.004000000189989805\n",
      "32/32 [==============================] - 0s 1ms/step\n",
      "Epoch 348/2000 => loss: 0.0025164117105305195, Reward Mean: -0.009000000543892384\n",
      "32/32 [==============================] - 0s 2ms/step\n",
      "Epoch 349/2000 => loss: 0.002547942567616701, Reward Mean: -0.01400000136345625\n",
      "32/32 [==============================] - 0s 1ms/step\n",
      "Epoch 350/2000 => loss: 0.0020855162292718887, Reward Mean: -0.02199999988079071\n",
      "32/32 [==============================] - 0s 2ms/step\n",
      "Epoch 351/2000 => loss: 0.0019155882764607668, Reward Mean: -0.006000000052154064\n",
      "32/32 [==============================] - 0s 1ms/step\n",
      "Epoch 352/2000 => loss: 0.0016057008178904653, Reward Mean: -0.004000000189989805\n",
      "32/32 [==============================] - 0s 1ms/step\n",
      "Epoch 353/2000 => loss: 0.002391277579590678, Reward Mean: -0.010999999940395355\n",
      "32/32 [==============================] - 0s 1ms/step\n",
      "Epoch 354/2000 => loss: 0.002295315731316805, Reward Mean: 2.98023217215615e-10\n",
      "32/32 [==============================] - 0s 1ms/step\n",
      "Epoch 355/2000 => loss: 0.0018335205968469381, Reward Mean: -0.018000001087784767\n",
      "32/32 [==============================] - 0s 1ms/step\n",
      "Epoch 356/2000 => loss: 0.0019301369320601225, Reward Mean: -0.01400000136345625\n",
      "32/32 [==============================] - 0s 1ms/step\n",
      "Epoch 357/2000 => loss: 0.0025476841256022453, Reward Mean: -0.010999999940395355\n",
      "32/32 [==============================] - 0s 1ms/step\n",
      "Epoch 358/2000 => loss: 0.002589254640042782, Reward Mean: -0.010999999940395355\n",
      "32/32 [==============================] - 0s 1ms/step\n",
      "Epoch 359/2000 => loss: 0.001821337267756462, Reward Mean: -0.020999999716877937\n",
      "32/32 [==============================] - 0s 1ms/step\n",
      "Epoch 360/2000 => loss: 0.0023546800948679447, Reward Mean: -0.014999999664723873\n",
      "32/32 [==============================] - 0s 1ms/step\n",
      "Epoch 361/2000 => loss: 0.001932953717187047, Reward Mean: -0.010999999940395355\n",
      "32/32 [==============================] - 0s 2ms/step\n",
      "Epoch 362/2000 => loss: 0.0017758700996637344, Reward Mean: -0.004999999888241291\n",
      "32/32 [==============================] - 0s 2ms/step\n",
      "Epoch 363/2000 => loss: 0.002468295395374298, Reward Mean: 0.0009999999310821295\n",
      "32/32 [==============================] - 0s 2ms/step\n",
      "Epoch 364/2000 => loss: 0.0018427602481096983, Reward Mean: -0.009999999776482582\n",
      "32/32 [==============================] - 0s 1ms/step\n",
      "Epoch 365/2000 => loss: 0.0021874867379665375, Reward Mean: -0.004000000189989805\n",
      "32/32 [==============================] - 0s 1ms/step\n",
      "Epoch 366/2000 => loss: 0.002430276945233345, Reward Mean: -0.017000000923871994\n",
      "32/32 [==============================] - 0s 1ms/step\n",
      "Epoch 367/2000 => loss: 0.0019032780546694994, Reward Mean: -0.01400000136345625\n",
      "32/32 [==============================] - 0s 2ms/step\n",
      "Epoch 368/2000 => loss: 0.0022211147006601095, Reward Mean: 0.0020000000949949026\n",
      "32/32 [==============================] - 0s 1ms/step\n",
      "Epoch 369/2000 => loss: 0.0021514147520065308, Reward Mean: -0.010999999940395355\n",
      "32/32 [==============================] - 0s 1ms/step\n",
      "Epoch 370/2000 => loss: 0.0025265219155699015, Reward Mean: -0.009999999776482582\n",
      "32/32 [==============================] - 0s 1ms/step\n",
      "Epoch 371/2000 => loss: 0.001766715431585908, Reward Mean: -0.009999999776482582\n",
      "32/32 [==============================] - 0s 1ms/step\n",
      "Epoch 372/2000 => loss: 0.002113024704158306, Reward Mean: -0.01600000075995922\n",
      "32/32 [==============================] - 0s 1ms/step\n",
      "Epoch 373/2000 => loss: 0.0017832379089668393, Reward Mean: -0.013000000268220901\n",
      "32/32 [==============================] - 0s 1ms/step\n",
      "Epoch 374/2000 => loss: 0.002097944263368845, Reward Mean: -0.010999999940395355\n",
      "32/32 [==============================] - 0s 1ms/step\n",
      "Epoch 375/2000 => loss: 0.0016893692081794143, Reward Mean: -0.006000000052154064\n",
      "32/32 [==============================] - 0s 1ms/step\n",
      "Epoch 376/2000 => loss: 0.0022383052855730057, Reward Mean: -0.0010000000474974513\n",
      "32/32 [==============================] - 0s 1ms/step\n",
      "Epoch 377/2000 => loss: 0.002633216092363, Reward Mean: -0.007000000681728125\n",
      "32/32 [==============================] - 0s 1ms/step\n",
      "Epoch 378/2000 => loss: 0.0021703557576984167, Reward Mean: -0.00699999975040555\n",
      "32/32 [==============================] - 0s 2ms/step\n",
      "Epoch 379/2000 => loss: 0.0016782657476142049, Reward Mean: -0.008999999612569809\n",
      "32/32 [==============================] - 0s 1ms/step\n",
      "Epoch 380/2000 => loss: 0.001855421345680952, Reward Mean: -0.009999999776482582\n",
      "32/32 [==============================] - 0s 1ms/step\n",
      "Epoch 381/2000 => loss: 0.0020820507779717445, Reward Mean: -0.009999999776482582\n",
      "32/32 [==============================] - 0s 1ms/step\n",
      "Epoch 382/2000 => loss: 0.0019403875339776278, Reward Mean: 0.001999999862164259\n",
      "32/32 [==============================] - 0s 1ms/step\n",
      "Epoch 383/2000 => loss: 0.002204912481829524, Reward Mean: -0.011000001803040504\n",
      "32/32 [==============================] - 0s 1ms/step\n",
      "Epoch 384/2000 => loss: 0.001640441594645381, Reward Mean: -0.006000000052154064\n",
      "32/32 [==============================] - 0s 1ms/step\n",
      "Epoch 385/2000 => loss: 0.0018122715409845114, Reward Mean: -0.009000000543892384\n",
      "32/32 [==============================] - 0s 1ms/step\n",
      "Epoch 386/2000 => loss: 0.0019385966006666422, Reward Mean: -0.014999999664723873\n",
      "32/32 [==============================] - 0s 1ms/step\n",
      "Epoch 387/2000 => loss: 0.0020304243080317974, Reward Mean: -0.010999999940395355\n",
      "32/32 [==============================] - 0s 1ms/step\n",
      "Epoch 388/2000 => loss: 0.002332022413611412, Reward Mean: -0.012000000104308128\n",
      "32/32 [==============================] - 0s 2ms/step\n",
      "Epoch 389/2000 => loss: 0.0018686596304178238, Reward Mean: -0.012000000104308128\n",
      "32/32 [==============================] - 0s 1ms/step\n",
      "Epoch 390/2000 => loss: 0.00243273819796741, Reward Mean: -0.017000000923871994\n",
      "32/32 [==============================] - 0s 1ms/step\n",
      "Epoch 391/2000 => loss: 0.0017557968385517597, Reward Mean: -0.015000001527369022\n",
      "32/32 [==============================] - 0s 1ms/step\n",
      "Epoch 392/2000 => loss: 0.0022497556637972593, Reward Mean: -0.012000000104308128\n",
      "32/32 [==============================] - 0s 1ms/step\n",
      "Epoch 393/2000 => loss: 0.0019884712528437376, Reward Mean: -0.010999999940395355\n",
      "32/32 [==============================] - 0s 1ms/step\n",
      "Epoch 394/2000 => loss: 0.001391841098666191, Reward Mean: -0.009000000543892384\n",
      "32/32 [==============================] - 0s 1ms/step\n",
      "Epoch 395/2000 => loss: 0.002722848206758499, Reward Mean: -0.006000000052154064\n",
      "32/32 [==============================] - 0s 1ms/step\n",
      "Epoch 396/2000 => loss: 0.0022173235192894936, Reward Mean: -0.01600000075995922\n",
      "32/32 [==============================] - 0s 1ms/step\n",
      "Epoch 397/2000 => loss: 0.002468796679750085, Reward Mean: -0.004000000189989805\n",
      "32/32 [==============================] - 0s 1ms/step\n",
      "Epoch 398/2000 => loss: 0.0016576293855905533, Reward Mean: -0.012000000104308128\n",
      "32/32 [==============================] - 0s 1ms/step\n",
      "Epoch 399/2000 => loss: 0.002119573298841715, Reward Mean: -0.00699999975040555\n",
      "32/32 [==============================] - 0s 1ms/step\n",
      "Epoch 400/2000 => loss: 0.0019279851112514734, Reward Mean: -0.009999999776482582\n",
      "32/32 [==============================] - 0s 1ms/step\n",
      "Epoch 401/2000 => loss: 0.0026109390892088413, Reward Mean: -0.01400000136345625\n",
      "32/32 [==============================] - 0s 1ms/step\n",
      "Epoch 402/2000 => loss: 0.0016044938238337636, Reward Mean: -0.013000000268220901\n",
      "32/32 [==============================] - 0s 1ms/step\n",
      "Epoch 403/2000 => loss: 0.002181408228352666, Reward Mean: -0.012999999336898327\n",
      "32/32 [==============================] - 0s 1ms/step\n",
      "Epoch 404/2000 => loss: 0.002258423250168562, Reward Mean: -0.009000000543892384\n",
      "32/32 [==============================] - 0s 2ms/step\n",
      "Epoch 405/2000 => loss: 0.0024481243453919888, Reward Mean: -0.013000000268220901\n",
      "32/32 [==============================] - 0s 1ms/step\n",
      "Epoch 406/2000 => loss: 0.002083428669720888, Reward Mean: -0.017000000923871994\n",
      "32/32 [==============================] - 0s 1ms/step\n",
      "Epoch 407/2000 => loss: 0.002449107589200139, Reward Mean: -0.010999999940395355\n",
      "32/32 [==============================] - 0s 2ms/step\n",
      "Epoch 408/2000 => loss: 0.002085492480546236, Reward Mean: -0.004999999888241291\n",
      "32/32 [==============================] - 0s 1ms/step\n",
      "Epoch 409/2000 => loss: 0.0021875544916838408, Reward Mean: -0.012000000104308128\n",
      "32/32 [==============================] - 0s 1ms/step\n",
      "Epoch 410/2000 => loss: 0.0021882527507841587, Reward Mean: -0.017000000923871994\n",
      "32/32 [==============================] - 0s 1ms/step\n",
      "Epoch 411/2000 => loss: 0.0021834182552993298, Reward Mean: -0.007000000681728125\n",
      "32/32 [==============================] - 0s 1ms/step\n",
      "Epoch 412/2000 => loss: 0.0018183307256549597, Reward Mean: -0.004000000189989805\n",
      "32/32 [==============================] - 0s 2ms/step\n",
      "Epoch 413/2000 => loss: 0.0021895975805819035, Reward Mean: -0.004999999888241291\n",
      "32/32 [==============================] - 0s 1ms/step\n",
      "Epoch 414/2000 => loss: 0.0025049918331205845, Reward Mean: -0.017000000923871994\n",
      "32/32 [==============================] - 0s 2ms/step\n",
      "Epoch 415/2000 => loss: 0.0019899001345038414, Reward Mean: -0.010999999940395355\n",
      "32/32 [==============================] - 0s 1ms/step\n",
      "Epoch 416/2000 => loss: 0.0025214734487235546, Reward Mean: -0.00699999975040555\n",
      "32/32 [==============================] - 0s 1ms/step\n",
      "Epoch 417/2000 => loss: 0.001845641527324915, Reward Mean: -0.012000000104308128\n",
      "32/32 [==============================] - 0s 1ms/step\n",
      "Epoch 418/2000 => loss: 0.0023360634222626686, Reward Mean: -0.009999999776482582\n",
      "32/32 [==============================] - 0s 2ms/step\n",
      "Epoch 419/2000 => loss: 0.0024176989682018757, Reward Mean: -0.009999999776482582\n",
      "32/32 [==============================] - 0s 1ms/step\n",
      "Epoch 420/2000 => loss: 0.0020039209630340338, Reward Mean: -0.0030000004917383194\n",
      "32/32 [==============================] - 0s 1ms/step\n",
      "Epoch 421/2000 => loss: 0.0022285631857812405, Reward Mean: -0.015000001527369022\n",
      "32/32 [==============================] - 0s 1ms/step\n",
      "Epoch 422/2000 => loss: 0.0018203196814283729, Reward Mean: -0.01600000075995922\n",
      "32/32 [==============================] - 0s 1ms/step\n",
      "Epoch 423/2000 => loss: 0.002070026472210884, Reward Mean: -0.013000000268220901\n",
      "32/32 [==============================] - 0s 1ms/step\n",
      "Epoch 424/2000 => loss: 0.0020057985093444586, Reward Mean: -0.009000000543892384\n",
      "32/32 [==============================] - 0s 1ms/step\n",
      "Epoch 425/2000 => loss: 0.002334131859242916, Reward Mean: -0.012000000104308128\n",
      "32/32 [==============================] - 0s 2ms/step\n",
      "Epoch 426/2000 => loss: 0.00216430751606822, Reward Mean: -0.017000000923871994\n",
      "32/32 [==============================] - 0s 1ms/step\n",
      "Epoch 427/2000 => loss: 0.0016305256867781281, Reward Mean: -0.009999999776482582\n",
      "32/32 [==============================] - 0s 2ms/step\n",
      "Epoch 428/2000 => loss: 0.0020359805785119534, Reward Mean: 0.0009999999310821295\n",
      "32/32 [==============================] - 0s 1ms/step\n",
      "Epoch 429/2000 => loss: 0.002096332609653473, Reward Mean: -0.012999999336898327\n",
      "32/32 [==============================] - 0s 1ms/step\n",
      "Epoch 430/2000 => loss: 0.0016112702433019876, Reward Mean: -0.014999999664723873\n",
      "32/32 [==============================] - 0s 1ms/step\n",
      "Epoch 431/2000 => loss: 0.00227023521438241, Reward Mean: -0.008999999612569809\n",
      "32/32 [==============================] - 0s 1ms/step\n",
      "Epoch 432/2000 => loss: 0.001950940233655274, Reward Mean: 0.0\n",
      "32/32 [==============================] - 0s 2ms/step\n",
      "Epoch 433/2000 => loss: 0.0017529125325381756, Reward Mean: -0.008999999612569809\n",
      "32/32 [==============================] - 0s 1ms/step\n",
      "Epoch 434/2000 => loss: 0.0021759294904768467, Reward Mean: -0.003999999724328518\n",
      "32/32 [==============================] - 0s 1ms/step\n",
      "Epoch 435/2000 => loss: 0.0016337938141077757, Reward Mean: -0.009999999776482582\n",
      "32/32 [==============================] - 0s 1ms/step\n",
      "Epoch 436/2000 => loss: 0.0017767379758879542, Reward Mean: -0.0139999995008111\n",
      "32/32 [==============================] - 0s 1ms/step\n",
      "Epoch 437/2000 => loss: 0.0017605831380933523, Reward Mean: -0.009999999776482582\n",
      "32/32 [==============================] - 0s 1ms/step\n",
      "Epoch 438/2000 => loss: 0.0017118518007919192, Reward Mean: -0.00800000037997961\n",
      "32/32 [==============================] - 0s 1ms/step\n",
      "Epoch 439/2000 => loss: 0.0021159229800105095, Reward Mean: -0.00800000037997961\n",
      "32/32 [==============================] - 0s 1ms/step\n",
      "Epoch 440/2000 => loss: 0.0021384344436228275, Reward Mean: -0.009000000543892384\n",
      "32/32 [==============================] - 0s 1ms/step\n",
      "Epoch 441/2000 => loss: 0.0018928874051198363, Reward Mean: 0.001000000280328095\n",
      "32/32 [==============================] - 0s 1ms/step\n",
      "Epoch 442/2000 => loss: 0.0019140213262289762, Reward Mean: -0.009000000543892384\n",
      "32/32 [==============================] - 0s 1ms/step\n",
      "Epoch 443/2000 => loss: 0.0023413565941154957, Reward Mean: -0.01600000075995922\n",
      "32/32 [==============================] - 0s 2ms/step\n",
      "Epoch 444/2000 => loss: 0.001784246414899826, Reward Mean: -0.010999999940395355\n",
      "32/32 [==============================] - 0s 1ms/step\n",
      "Epoch 445/2000 => loss: 0.0014450588496401906, Reward Mean: -0.02500000037252903\n",
      "32/32 [==============================] - 0s 1ms/step\n",
      "Epoch 446/2000 => loss: 0.0023003879468888044, Reward Mean: -0.01900000125169754\n",
      "32/32 [==============================] - 0s 1ms/step\n",
      "Epoch 447/2000 => loss: 0.001752948621287942, Reward Mean: -0.010999999940395355\n",
      "32/32 [==============================] - 0s 1ms/step\n",
      "Epoch 448/2000 => loss: 0.0023088911548256874, Reward Mean: 0.003000000026077032\n",
      "32/32 [==============================] - 0s 2ms/step\n",
      "Epoch 449/2000 => loss: 0.0018279338255524635, Reward Mean: -0.013000000268220901\n",
      "32/32 [==============================] - 0s 2ms/step\n",
      "Epoch 450/2000 => loss: 0.0018628907855600119, Reward Mean: -0.013000000268220901\n",
      "32/32 [==============================] - 0s 1ms/step\n",
      "Epoch 451/2000 => loss: 0.0023885508999228477, Reward Mean: -0.003000000026077032\n",
      "32/32 [==============================] - 0s 2ms/step\n",
      "Epoch 452/2000 => loss: 0.0013526063412427902, Reward Mean: -0.010999999940395355\n",
      "32/32 [==============================] - 0s 1ms/step\n",
      "Epoch 453/2000 => loss: 0.0024500410072505474, Reward Mean: -0.004999999888241291\n",
      "32/32 [==============================] - 0s 1ms/step\n",
      "Epoch 454/2000 => loss: 0.0020720071624964476, Reward Mean: -0.013000000268220901\n",
      "32/32 [==============================] - 0s 1ms/step\n",
      "Epoch 455/2000 => loss: 0.001353819970972836, Reward Mean: -0.009999999776482582\n",
      "32/32 [==============================] - 0s 1ms/step\n",
      "Epoch 456/2000 => loss: 0.0025140484794974327, Reward Mean: -0.012999999336898327\n",
      "32/32 [==============================] - 0s 2ms/step\n",
      "Epoch 457/2000 => loss: 0.0025189053267240524, Reward Mean: -0.003999999724328518\n",
      "32/32 [==============================] - 0s 2ms/step\n",
      "Epoch 458/2000 => loss: 0.0018294028704985976, Reward Mean: -0.006000000052154064\n",
      "32/32 [==============================] - 0s 2ms/step\n",
      "Epoch 459/2000 => loss: 0.002077808603644371, Reward Mean: -0.01400000136345625\n",
      "32/32 [==============================] - 0s 2ms/step\n",
      "Epoch 460/2000 => loss: 0.002267646137624979, Reward Mean: -0.003000000026077032\n",
      "32/32 [==============================] - 0s 1ms/step\n",
      "Epoch 461/2000 => loss: 0.002042624168097973, Reward Mean: -0.017000000923871994\n",
      "32/32 [==============================] - 0s 1ms/step\n",
      "Epoch 462/2000 => loss: 0.001966191455721855, Reward Mean: -0.015000001527369022\n",
      "32/32 [==============================] - 0s 1ms/step\n",
      "Epoch 463/2000 => loss: 0.0015506220515817404, Reward Mean: -0.015000001527369022\n",
      "32/32 [==============================] - 0s 1ms/step\n",
      "Epoch 464/2000 => loss: 0.002187680685892701, Reward Mean: -0.007000000681728125\n",
      "32/32 [==============================] - 0s 1ms/step\n",
      "Epoch 465/2000 => loss: 0.0020694956183433533, Reward Mean: -0.012000000104308128\n",
      "32/32 [==============================] - 0s 1ms/step\n",
      "Epoch 466/2000 => loss: 0.0018094817642122507, Reward Mean: -0.009000000543892384\n",
      "32/32 [==============================] - 0s 1ms/step\n",
      "Epoch 467/2000 => loss: 0.0024980311281979084, Reward Mean: -0.00699999975040555\n",
      "32/32 [==============================] - 0s 1ms/step\n",
      "Epoch 468/2000 => loss: 0.002212807536125183, Reward Mean: -0.007000000681728125\n",
      "32/32 [==============================] - 0s 1ms/step\n",
      "Epoch 469/2000 => loss: 0.0018734927289187908, Reward Mean: -0.012000000104308128\n",
      "32/32 [==============================] - 0s 1ms/step\n",
      "Epoch 470/2000 => loss: 0.0019894978031516075, Reward Mean: -0.004999999888241291\n",
      "32/32 [==============================] - 0s 1ms/step\n",
      "Epoch 471/2000 => loss: 0.0019248508615419269, Reward Mean: -0.009999999776482582\n",
      "32/32 [==============================] - 0s 1ms/step\n",
      "Epoch 472/2000 => loss: 0.0021017175167798996, Reward Mean: -0.004999999888241291\n",
      "32/32 [==============================] - 0s 1ms/step\n",
      "Epoch 473/2000 => loss: 0.0019051112467423081, Reward Mean: -0.009000000543892384\n",
      "32/32 [==============================] - 0s 1ms/step\n",
      "Epoch 474/2000 => loss: 0.0017726689111441374, Reward Mean: -0.00800000037997961\n",
      "32/32 [==============================] - 0s 1ms/step\n",
      "Epoch 475/2000 => loss: 0.0022173793986439705, Reward Mean: -0.006000000052154064\n",
      "32/32 [==============================] - 0s 1ms/step\n",
      "Epoch 476/2000 => loss: 0.002275383798405528, Reward Mean: -0.007000000681728125\n",
      "32/32 [==============================] - 0s 1ms/step\n",
      "Epoch 477/2000 => loss: 0.0023607881739735603, Reward Mean: 0.0019999993965029716\n",
      "32/32 [==============================] - 0s 1ms/step\n",
      "Epoch 478/2000 => loss: 0.002090573078021407, Reward Mean: -0.007000000681728125\n",
      "32/32 [==============================] - 0s 1ms/step\n",
      "Epoch 479/2000 => loss: 0.0019551957957446575, Reward Mean: -0.007000000681728125\n",
      "32/32 [==============================] - 0s 1ms/step\n",
      "Epoch 480/2000 => loss: 0.0024967228528112173, Reward Mean: -0.017000000923871994\n",
      "32/32 [==============================] - 0s 1ms/step\n",
      "Epoch 481/2000 => loss: 0.002458019182085991, Reward Mean: -0.017999999225139618\n",
      "32/32 [==============================] - 0s 2ms/step\n",
      "Epoch 482/2000 => loss: 0.0020796661265194416, Reward Mean: 0.0020000000949949026\n",
      "32/32 [==============================] - 0s 1ms/step\n",
      "Epoch 483/2000 => loss: 0.0018650011625140905, Reward Mean: -0.017000000923871994\n",
      "32/32 [==============================] - 0s 1ms/step\n",
      "Epoch 484/2000 => loss: 0.002502948511391878, Reward Mean: -0.01400000136345625\n",
      "32/32 [==============================] - 0s 1ms/step\n",
      "Epoch 485/2000 => loss: 0.0023390022106468678, Reward Mean: -0.0029999995604157448\n",
      "32/32 [==============================] - 0s 1ms/step\n",
      "Epoch 486/2000 => loss: 0.0020256727002561092, Reward Mean: -0.014999999664723873\n",
      "32/32 [==============================] - 0s 1ms/step\n",
      "Epoch 487/2000 => loss: 0.0020008061546832323, Reward Mean: -0.009000000543892384\n",
      "32/32 [==============================] - 0s 1ms/step\n",
      "Epoch 488/2000 => loss: 0.0023447172716259956, Reward Mean: -0.012999999336898327\n",
      "32/32 [==============================] - 0s 1ms/step\n",
      "Epoch 489/2000 => loss: 0.002403132850304246, Reward Mean: -0.007000000681728125\n",
      "32/32 [==============================] - 0s 1ms/step\n",
      "Epoch 490/2000 => loss: 0.0017476167995482683, Reward Mean: -0.01400000136345625\n",
      "32/32 [==============================] - 0s 1ms/step\n",
      "Epoch 491/2000 => loss: 0.0022197789512574673, Reward Mean: -0.009000000543892384\n",
      "32/32 [==============================] - 0s 1ms/step\n",
      "Epoch 492/2000 => loss: 0.0018578716553747654, Reward Mean: -0.005000000819563866\n",
      "32/32 [==============================] - 0s 1ms/step\n",
      "Epoch 493/2000 => loss: 0.0018289476865902543, Reward Mean: -0.012000000104308128\n",
      "32/32 [==============================] - 0s 1ms/step\n",
      "Epoch 494/2000 => loss: 0.002038168255239725, Reward Mean: -0.010999999940395355\n",
      "32/32 [==============================] - 0s 1ms/step\n",
      "Epoch 495/2000 => loss: 0.0020428223069757223, Reward Mean: -0.001000000280328095\n",
      "32/32 [==============================] - 0s 1ms/step\n",
      "Epoch 496/2000 => loss: 0.0017059736419469118, Reward Mean: -0.017999999225139618\n",
      "32/32 [==============================] - 0s 1ms/step\n",
      "Epoch 497/2000 => loss: 0.0018942664610221982, Reward Mean: -0.010999999940395355\n",
      "32/32 [==============================] - 0s 1ms/step\n",
      "Epoch 498/2000 => loss: 0.001863942015916109, Reward Mean: -0.017000000923871994\n",
      "32/32 [==============================] - 0s 1ms/step\n",
      "Epoch 499/2000 => loss: 0.002472414169460535, Reward Mean: -0.004000000189989805\n",
      "32/32 [==============================] - 0s 1ms/step\n",
      "Epoch 500/2000 => loss: 0.0022876551374793053, Reward Mean: -0.009999999776482582\n",
      "32/32 [==============================] - 0s 1ms/step\n",
      "Epoch 501/2000 => loss: 0.002037410857155919, Reward Mean: -0.012000000104308128\n",
      "32/32 [==============================] - 0s 1ms/step\n",
      "Epoch 502/2000 => loss: 0.00174884800799191, Reward Mean: -0.010999999940395355\n",
      "32/32 [==============================] - 0s 1ms/step\n",
      "Epoch 503/2000 => loss: 0.00188265775796026, Reward Mean: -0.00800000037997961\n",
      "32/32 [==============================] - 0s 1ms/step\n",
      "Epoch 504/2000 => loss: 0.002459498355165124, Reward Mean: -0.012000000104308128\n",
      "32/32 [==============================] - 0s 1ms/step\n",
      "Epoch 505/2000 => loss: 0.002241727663204074, Reward Mean: -0.009999999776482582\n",
      "32/32 [==============================] - 0s 1ms/step\n",
      "Epoch 506/2000 => loss: 0.002349032089114189, Reward Mean: -0.008999999612569809\n",
      "32/32 [==============================] - 0s 1ms/step\n",
      "Epoch 507/2000 => loss: 0.0017909342423081398, Reward Mean: -0.007000000681728125\n",
      "32/32 [==============================] - 0s 1ms/step\n",
      "Epoch 508/2000 => loss: 0.0019969623535871506, Reward Mean: -0.012000000104308128\n",
      "32/32 [==============================] - 0s 1ms/step\n",
      "Epoch 509/2000 => loss: 0.0017634837422519922, Reward Mean: -0.013000000268220901\n",
      "32/32 [==============================] - 0s 1ms/step\n",
      "Epoch 510/2000 => loss: 0.00174023921135813, Reward Mean: -0.012999999336898327\n",
      "32/32 [==============================] - 0s 1ms/step\n",
      "Epoch 511/2000 => loss: 0.002617286052554846, Reward Mean: -0.01899999938905239\n",
      "32/32 [==============================] - 0s 1ms/step\n",
      "Epoch 512/2000 => loss: 0.0023681840393692255, Reward Mean: -0.014999999664723873\n",
      "32/32 [==============================] - 0s 1ms/step\n",
      "Epoch 513/2000 => loss: 0.0023617015685886145, Reward Mean: -0.006000000052154064\n",
      "32/32 [==============================] - 0s 1ms/step\n",
      "Epoch 514/2000 => loss: 0.0021974542178213596, Reward Mean: -0.012000000104308128\n",
      "32/32 [==============================] - 0s 1ms/step\n",
      "Epoch 515/2000 => loss: 0.00187340856064111, Reward Mean: -0.013000000268220901\n",
      "32/32 [==============================] - 0s 1ms/step\n",
      "Epoch 516/2000 => loss: 0.0020920266397297382, Reward Mean: -0.009000000543892384\n",
      "32/32 [==============================] - 0s 2ms/step\n",
      "Epoch 517/2000 => loss: 0.0026782911736518145, Reward Mean: -0.0139999995008111\n",
      "32/32 [==============================] - 0s 1ms/step\n",
      "Epoch 518/2000 => loss: 0.002542044036090374, Reward Mean: -0.018000001087784767\n",
      "32/32 [==============================] - 0s 1ms/step\n",
      "Epoch 519/2000 => loss: 0.0020831660367548466, Reward Mean: -0.0030000004917383194\n",
      "32/32 [==============================] - 0s 2ms/step\n",
      "Epoch 520/2000 => loss: 0.002267905045300722, Reward Mean: -0.010999999940395355\n",
      "32/32 [==============================] - 0s 1ms/step\n",
      "Epoch 521/2000 => loss: 0.0023012945894151926, Reward Mean: -0.006000000052154064\n",
      "32/32 [==============================] - 0s 1ms/step\n",
      "Epoch 522/2000 => loss: 0.0021304218098521233, Reward Mean: -0.007000000681728125\n",
      "32/32 [==============================] - 0s 1ms/step\n",
      "Epoch 523/2000 => loss: 0.002389314351603389, Reward Mean: -0.012000000104308128\n",
      "32/32 [==============================] - 0s 1ms/step\n",
      "Epoch 524/2000 => loss: 0.0019866377115249634, Reward Mean: -0.020999999716877937\n",
      "32/32 [==============================] - 0s 2ms/step\n",
      "Epoch 525/2000 => loss: 0.0021785530261695385, Reward Mean: -0.012000000104308128\n",
      "32/32 [==============================] - 0s 1ms/step\n",
      "Epoch 526/2000 => loss: 0.0018961767200380564, Reward Mean: -0.012000000104308128\n",
      "32/32 [==============================] - 0s 1ms/step\n",
      "Epoch 527/2000 => loss: 0.0021390444599092007, Reward Mean: -0.004999999888241291\n",
      "32/32 [==============================] - 0s 1ms/step\n",
      "Epoch 528/2000 => loss: 0.0022567319683730602, Reward Mean: -0.009999999776482582\n",
      "32/32 [==============================] - 0s 1ms/step\n",
      "Epoch 529/2000 => loss: 0.0018804019782692194, Reward Mean: -0.017999999225139618\n",
      "32/32 [==============================] - 0s 1ms/step\n",
      "Epoch 530/2000 => loss: 0.0022112708538770676, Reward Mean: -0.01400000136345625\n",
      "32/32 [==============================] - 0s 1ms/step\n",
      "Epoch 531/2000 => loss: 0.0015984915662556887, Reward Mean: -0.014999999664723873\n",
      "32/32 [==============================] - 0s 2ms/step\n",
      "Epoch 532/2000 => loss: 0.0019670347683131695, Reward Mean: -0.0010000005131587386\n",
      "32/32 [==============================] - 0s 1ms/step\n",
      "Epoch 533/2000 => loss: 0.0023988441098481417, Reward Mean: -0.014999999664723873\n",
      "32/32 [==============================] - 0s 1ms/step\n",
      "Epoch 534/2000 => loss: 0.0016442857449874282, Reward Mean: -0.012999999336898327\n",
      "32/32 [==============================] - 0s 2ms/step\n",
      "Epoch 535/2000 => loss: 0.0020982930436730385, Reward Mean: -0.014999999664723873\n",
      "32/32 [==============================] - 0s 1ms/step\n",
      "Epoch 536/2000 => loss: 0.0016777159180492163, Reward Mean: -0.003000000026077032\n",
      "32/32 [==============================] - 0s 1ms/step\n",
      "Epoch 537/2000 => loss: 0.002350092399865389, Reward Mean: -0.001999999862164259\n",
      "32/32 [==============================] - 0s 2ms/step\n",
      "Epoch 538/2000 => loss: 0.0022064840886741877, Reward Mean: -0.009999999776482582\n",
      "32/32 [==============================] - 0s 1ms/step\n",
      "Epoch 539/2000 => loss: 0.002415011404082179, Reward Mean: 0.0\n",
      "32/32 [==============================] - 0s 1ms/step\n",
      "Epoch 540/2000 => loss: 0.001848442479968071, Reward Mean: -0.006000000052154064\n",
      "32/32 [==============================] - 0s 1ms/step\n",
      "Epoch 541/2000 => loss: 0.002984090941026807, Reward Mean: -0.014999999664723873\n",
      "32/32 [==============================] - 0s 1ms/step\n",
      "Epoch 542/2000 => loss: 0.0022387064527720213, Reward Mean: -0.020999999716877937\n",
      "32/32 [==============================] - 0s 1ms/step\n",
      "Epoch 543/2000 => loss: 0.0023665635380893946, Reward Mean: -0.013000000268220901\n",
      "32/32 [==============================] - 0s 1ms/step\n",
      "Epoch 544/2000 => loss: 0.001733250916004181, Reward Mean: -0.01400000136345625\n",
      "32/32 [==============================] - 0s 1ms/step\n",
      "Epoch 545/2000 => loss: 0.0022623250260949135, Reward Mean: -0.017000000923871994\n",
      "32/32 [==============================] - 0s 2ms/step\n",
      "Epoch 546/2000 => loss: 0.0022635147906839848, Reward Mean: -0.017999999225139618\n",
      "32/32 [==============================] - 0s 2ms/step\n",
      "Epoch 547/2000 => loss: 0.0019900230690836906, Reward Mean: -0.00699999975040555\n",
      "32/32 [==============================] - 0s 1ms/step\n",
      "Epoch 548/2000 => loss: 0.002077719196677208, Reward Mean: -0.012000000104308128\n",
      "32/32 [==============================] - 0s 1ms/step\n",
      "Epoch 549/2000 => loss: 0.002024252898991108, Reward Mean: -0.007999999448657036\n",
      "32/32 [==============================] - 0s 1ms/step\n",
      "Epoch 550/2000 => loss: 0.0022036724258214235, Reward Mean: -0.0139999995008111\n",
      "32/32 [==============================] - 0s 1ms/step\n",
      "Epoch 551/2000 => loss: 0.002364324638620019, Reward Mean: -0.01400000136345625\n",
      "32/32 [==============================] - 0s 1ms/step\n",
      "Epoch 552/2000 => loss: 0.0015215130988508463, Reward Mean: -0.013000000268220901\n",
      "32/32 [==============================] - 0s 1ms/step\n",
      "Epoch 553/2000 => loss: 0.0019122186349704862, Reward Mean: -0.014999999664723873\n",
      "32/32 [==============================] - 0s 1ms/step\n",
      "Epoch 554/2000 => loss: 0.00257975235581398, Reward Mean: -0.01900000125169754\n",
      "32/32 [==============================] - 0s 1ms/step\n",
      "Epoch 555/2000 => loss: 0.002277965657413006, Reward Mean: -0.017000000923871994\n",
      "32/32 [==============================] - 0s 1ms/step\n",
      "Epoch 556/2000 => loss: 0.002189233899116516, Reward Mean: -0.012000000104308128\n",
      "32/32 [==============================] - 0s 1ms/step\n",
      "Epoch 557/2000 => loss: 0.0018503034953027964, Reward Mean: -0.0139999995008111\n",
      "32/32 [==============================] - 0s 2ms/step\n",
      "Epoch 558/2000 => loss: 0.001799627672880888, Reward Mean: -0.01400000136345625\n",
      "32/32 [==============================] - 0s 1ms/step\n",
      "Epoch 559/2000 => loss: 0.001985454000532627, Reward Mean: -0.01600000075995922\n",
      "32/32 [==============================] - 0s 1ms/step\n",
      "Epoch 560/2000 => loss: 0.0021432344801723957, Reward Mean: -0.013000000268220901\n",
      "32/32 [==============================] - 0s 1ms/step\n",
      "Epoch 561/2000 => loss: 0.0024519406724721193, Reward Mean: -0.010999999940395355\n",
      "32/32 [==============================] - 0s 1ms/step\n",
      "Epoch 562/2000 => loss: 0.0016870544059202075, Reward Mean: -0.009000000543892384\n",
      "32/32 [==============================] - 0s 1ms/step\n",
      "Epoch 563/2000 => loss: 0.0021990290842950344, Reward Mean: -0.01400000136345625\n",
      "32/32 [==============================] - 0s 2ms/step\n",
      "Epoch 564/2000 => loss: 0.002004394307732582, Reward Mean: -0.008999999612569809\n",
      "32/32 [==============================] - 0s 1ms/step\n",
      "Epoch 565/2000 => loss: 0.0026954340282827616, Reward Mean: -0.018000001087784767\n",
      "32/32 [==============================] - 0s 1ms/step\n",
      "Epoch 566/2000 => loss: 0.0020453501492738724, Reward Mean: -0.015000001527369022\n",
      "32/32 [==============================] - 0s 1ms/step\n",
      "Epoch 567/2000 => loss: 0.0020369666162878275, Reward Mean: -0.006000000052154064\n",
      "32/32 [==============================] - 0s 1ms/step\n",
      "Epoch 568/2000 => loss: 0.0018587589729577303, Reward Mean: -0.009000000543892384\n",
      "32/32 [==============================] - 0s 2ms/step\n",
      "Epoch 569/2000 => loss: 0.0022023541387170553, Reward Mean: -0.0020000000949949026\n",
      "32/32 [==============================] - 0s 3ms/step\n",
      "Epoch 570/2000 => loss: 0.002133312402293086, Reward Mean: -0.022999996319413185\n",
      "32/32 [==============================] - 0s 1ms/step\n",
      "Epoch 571/2000 => loss: 0.0019784942269325256, Reward Mean: -0.012999999336898327\n",
      "32/32 [==============================] - 0s 1ms/step\n",
      "Epoch 572/2000 => loss: 0.002212743740528822, Reward Mean: -0.00800000037997961\n",
      "32/32 [==============================] - 0s 1ms/step\n",
      "Epoch 573/2000 => loss: 0.0023743000347167253, Reward Mean: -0.007000001147389412\n",
      "32/32 [==============================] - 0s 1ms/step\n",
      "Epoch 574/2000 => loss: 0.0020902734249830246, Reward Mean: -0.009000000543892384\n",
      "32/32 [==============================] - 0s 1ms/step\n",
      "Epoch 575/2000 => loss: 0.0020608636550605297, Reward Mean: -0.009000000543892384\n",
      "32/32 [==============================] - 0s 1ms/step\n",
      "Epoch 576/2000 => loss: 0.002147783525288105, Reward Mean: -0.012000000104308128\n",
      "32/32 [==============================] - 0s 1ms/step\n",
      "Epoch 577/2000 => loss: 0.0022120573557913303, Reward Mean: 0.004000000189989805\n",
      "32/32 [==============================] - 0s 1ms/step\n",
      "Epoch 578/2000 => loss: 0.001882507698610425, Reward Mean: 0.0009999999310821295\n",
      "32/32 [==============================] - 0s 2ms/step\n",
      "Epoch 579/2000 => loss: 0.0015559224411845207, Reward Mean: -0.009999999776482582\n",
      "32/32 [==============================] - 0s 2ms/step\n",
      "Epoch 580/2000 => loss: 0.00217942101880908, Reward Mean: -0.0029999995604157448\n",
      "32/32 [==============================] - 0s 2ms/step\n",
      "Epoch 581/2000 => loss: 0.0018284190446138382, Reward Mean: -0.007000000681728125\n",
      "32/32 [==============================] - 0s 1ms/step\n",
      "Epoch 582/2000 => loss: 0.002091213595122099, Reward Mean: -0.009000000543892384\n",
      "32/32 [==============================] - 0s 2ms/step\n",
      "Epoch 583/2000 => loss: 0.002709552412852645, Reward Mean: -0.018000001087784767\n",
      "32/32 [==============================] - 0s 1ms/step\n",
      "Epoch 584/2000 => loss: 0.0019863410852849483, Reward Mean: -0.009999999776482582\n",
      "32/32 [==============================] - 0s 2ms/step\n",
      "Epoch 585/2000 => loss: 0.0022805011831223965, Reward Mean: -0.006000000052154064\n",
      "32/32 [==============================] - 0s 2ms/step\n",
      "Epoch 586/2000 => loss: 0.0017832259181886911, Reward Mean: -0.018000001087784767\n",
      "32/32 [==============================] - 0s 2ms/step\n",
      "Epoch 587/2000 => loss: 0.0017760589253157377, Reward Mean: -0.017999999225139618\n",
      "32/32 [==============================] - 0s 1ms/step\n",
      "Epoch 588/2000 => loss: 0.0018015193054452538, Reward Mean: -0.00800000037997961\n",
      "32/32 [==============================] - 0s 2ms/step\n",
      "Epoch 589/2000 => loss: 0.0017862273380160332, Reward Mean: -0.015000001527369022\n",
      "32/32 [==============================] - 0s 1ms/step\n",
      "Epoch 590/2000 => loss: 0.0026202360168099403, Reward Mean: -0.004999999888241291\n",
      "32/32 [==============================] - 0s 1ms/step\n",
      "Epoch 591/2000 => loss: 0.002114838920533657, Reward Mean: -0.009000000543892384\n",
      "32/32 [==============================] - 0s 1ms/step\n",
      "Epoch 592/2000 => loss: 0.0020595386158674955, Reward Mean: -0.020999999716877937\n",
      "32/32 [==============================] - 0s 1ms/step\n",
      "Epoch 593/2000 => loss: 0.0022971751168370247, Reward Mean: -0.007000000681728125\n",
      "32/32 [==============================] - 0s 1ms/step\n",
      "Epoch 594/2000 => loss: 0.0015903916209936142, Reward Mean: -0.015000001527369022\n",
      "32/32 [==============================] - 0s 2ms/step\n",
      "Epoch 595/2000 => loss: 0.0021626492962241173, Reward Mean: -0.007000000681728125\n",
      "32/32 [==============================] - 0s 2ms/step\n",
      "Epoch 596/2000 => loss: 0.0019739801064133644, Reward Mean: -0.01600000075995922\n",
      "32/32 [==============================] - 0s 1ms/step\n",
      "Epoch 597/2000 => loss: 0.0017905667191371322, Reward Mean: -0.004999999888241291\n",
      "32/32 [==============================] - 0s 1ms/step\n",
      "Epoch 598/2000 => loss: 0.002053037052974105, Reward Mean: -0.010999999940395355\n",
      "32/32 [==============================] - 0s 1ms/step\n",
      "Epoch 599/2000 => loss: 0.0021023305598646402, Reward Mean: -0.02199999801814556\n",
      "32/32 [==============================] - 0s 2ms/step\n",
      "Epoch 600/2000 => loss: 0.0017849705182015896, Reward Mean: -0.019999999552965164\n",
      "32/32 [==============================] - 0s 1ms/step\n",
      "Epoch 601/2000 => loss: 0.0019697844982147217, Reward Mean: -0.0029999997932463884\n",
      "32/32 [==============================] - 0s 1ms/step\n",
      "Epoch 602/2000 => loss: 0.001798312645405531, Reward Mean: -0.018000001087784767\n",
      "32/32 [==============================] - 0s 1ms/step\n",
      "Epoch 603/2000 => loss: 0.0021601004991680384, Reward Mean: -0.014999999664723873\n",
      "32/32 [==============================] - 0s 1ms/step\n",
      "Epoch 604/2000 => loss: 0.001826040679588914, Reward Mean: -0.004999999888241291\n",
      "32/32 [==============================] - 0s 1ms/step\n",
      "Epoch 605/2000 => loss: 0.002023640787228942, Reward Mean: 0.003999999724328518\n",
      "32/32 [==============================] - 0s 1ms/step\n",
      "Epoch 606/2000 => loss: 0.0018627657555043697, Reward Mean: -0.009999999776482582\n",
      "32/32 [==============================] - 0s 1ms/step\n",
      "Epoch 607/2000 => loss: 0.0017574243247509003, Reward Mean: -0.017000000923871994\n",
      "32/32 [==============================] - 0s 1ms/step\n",
      "Epoch 608/2000 => loss: 0.002135378075763583, Reward Mean: -0.00800000037997961\n",
      "32/32 [==============================] - 0s 1ms/step\n",
      "Epoch 609/2000 => loss: 0.002272295765578747, Reward Mean: -0.012000000104308128\n",
      "32/32 [==============================] - 0s 1ms/step\n",
      "Epoch 610/2000 => loss: 0.002234562998637557, Reward Mean: -0.01900000125169754\n",
      "32/32 [==============================] - 0s 1ms/step\n",
      "Epoch 611/2000 => loss: 0.0016064296942204237, Reward Mean: -0.00800000037997961\n",
      "32/32 [==============================] - 0s 1ms/step\n",
      "Epoch 612/2000 => loss: 0.001680454588495195, Reward Mean: -0.010999999940395355\n",
      "32/32 [==============================] - 0s 1ms/step\n",
      "Epoch 613/2000 => loss: 0.0021007899194955826, Reward Mean: -0.013000000268220901\n",
      "32/32 [==============================] - 0s 1ms/step\n",
      "Epoch 614/2000 => loss: 0.002257927320897579, Reward Mean: -0.010999999940395355\n",
      "32/32 [==============================] - 0s 1ms/step\n",
      "Epoch 615/2000 => loss: 0.0016702936263754964, Reward Mean: -0.00800000037997961\n",
      "32/32 [==============================] - 0s 2ms/step\n",
      "Epoch 616/2000 => loss: 0.0020049642771482468, Reward Mean: -0.010999999940395355\n",
      "32/32 [==============================] - 0s 1ms/step\n",
      "Epoch 617/2000 => loss: 0.002002870198339224, Reward Mean: -0.009000000543892384\n",
      "32/32 [==============================] - 0s 1ms/step\n",
      "Epoch 618/2000 => loss: 0.0024835041258484125, Reward Mean: -0.010999999940395355\n",
      "32/32 [==============================] - 0s 1ms/step\n",
      "Epoch 619/2000 => loss: 0.0020317460875958204, Reward Mean: -0.014999999664723873\n",
      "32/32 [==============================] - 0s 1ms/step\n",
      "Epoch 620/2000 => loss: 0.002282844390720129, Reward Mean: -0.017000000923871994\n",
      "32/32 [==============================] - 0s 1ms/step\n",
      "Epoch 621/2000 => loss: 0.0024752733297646046, Reward Mean: -0.015000001527369022\n",
      "32/32 [==============================] - 0s 1ms/step\n",
      "Epoch 622/2000 => loss: 0.0018351732287555933, Reward Mean: -0.01400000136345625\n",
      "32/32 [==============================] - 0s 1ms/step\n",
      "Epoch 623/2000 => loss: 0.0022401725873351097, Reward Mean: 0.00699999975040555\n",
      "32/32 [==============================] - 0s 1ms/step\n",
      "Epoch 624/2000 => loss: 0.001919479575008154, Reward Mean: -0.013000000268220901\n",
      "32/32 [==============================] - 0s 1ms/step\n",
      "Epoch 625/2000 => loss: 0.002259056083858013, Reward Mean: -0.012999999336898327\n",
      "32/32 [==============================] - 0s 1ms/step\n",
      "Epoch 626/2000 => loss: 0.0028282329440116882, Reward Mean: -0.009999999776482582\n",
      "32/32 [==============================] - 0s 1ms/step\n",
      "Epoch 627/2000 => loss: 0.0018506445921957493, Reward Mean: -0.009999999776482582\n",
      "32/32 [==============================] - 0s 1ms/step\n",
      "Epoch 628/2000 => loss: 0.002003937028348446, Reward Mean: -0.013000000268220901\n",
      "32/32 [==============================] - 0s 2ms/step\n",
      "Epoch 629/2000 => loss: 0.0023058238439261913, Reward Mean: -0.009999999776482582\n",
      "32/32 [==============================] - 0s 1ms/step\n",
      "Epoch 630/2000 => loss: 0.0022101690992712975, Reward Mean: -0.009999999776482582\n",
      "32/32 [==============================] - 0s 1ms/step\n",
      "Epoch 631/2000 => loss: 0.0022332787048071623, Reward Mean: -0.007000000681728125\n",
      "32/32 [==============================] - 0s 2ms/step\n",
      "Epoch 632/2000 => loss: 0.0018658081535249949, Reward Mean: -0.009999999776482582\n",
      "32/32 [==============================] - 0s 1ms/step\n",
      "Epoch 633/2000 => loss: 0.0018804334104061127, Reward Mean: -0.010999999940395355\n",
      "32/32 [==============================] - 0s 1ms/step\n",
      "Epoch 634/2000 => loss: 0.001915573957376182, Reward Mean: -0.01600000075995922\n",
      "32/32 [==============================] - 0s 2ms/step\n",
      "Epoch 635/2000 => loss: 0.00172024080529809, Reward Mean: -0.004999999888241291\n",
      "32/32 [==============================] - 0s 2ms/step\n",
      "Epoch 636/2000 => loss: 0.0020828633569180965, Reward Mean: -0.010999999940395355\n",
      "32/32 [==============================] - 0s 1ms/step\n",
      "Epoch 637/2000 => loss: 0.0020824712701141834, Reward Mean: -0.010999999940395355\n",
      "32/32 [==============================] - 0s 1ms/step\n",
      "Epoch 638/2000 => loss: 0.001927063800394535, Reward Mean: 0.004999999888241291\n",
      "32/32 [==============================] - 0s 1ms/step\n",
      "Epoch 639/2000 => loss: 0.0026900391094386578, Reward Mean: -0.01400000136345625\n",
      "32/32 [==============================] - 0s 1ms/step\n",
      "Epoch 640/2000 => loss: 0.0020826472900807858, Reward Mean: -0.004999999888241291\n",
      "32/32 [==============================] - 0s 1ms/step\n",
      "Epoch 641/2000 => loss: 0.0018658828921616077, Reward Mean: -0.012000000104308128\n",
      "32/32 [==============================] - 0s 3ms/step\n",
      "Epoch 642/2000 => loss: 0.0019490559352561831, Reward Mean: -0.003000000026077032\n",
      "32/32 [==============================] - 0s 1ms/step\n",
      "Epoch 643/2000 => loss: 0.002790327649563551, Reward Mean: -0.012000000104308128\n",
      "32/32 [==============================] - 0s 1ms/step\n",
      "Epoch 644/2000 => loss: 0.0014635351253673434, Reward Mean: -0.015000001527369022\n",
      "32/32 [==============================] - 0s 1ms/step\n",
      "Epoch 645/2000 => loss: 0.0017999124247580767, Reward Mean: -0.009999999776482582\n",
      "32/32 [==============================] - 0s 1ms/step\n",
      "Epoch 646/2000 => loss: 0.0024546345230191946, Reward Mean: -0.009999999776482582\n",
      "32/32 [==============================] - 0s 1ms/step\n",
      "Epoch 647/2000 => loss: 0.00219636014662683, Reward Mean: -0.004999999888241291\n",
      "32/32 [==============================] - 0s 1ms/step\n",
      "Epoch 648/2000 => loss: 0.002179493196308613, Reward Mean: -0.007000000681728125\n",
      "32/32 [==============================] - 0s 1ms/step\n",
      "Epoch 649/2000 => loss: 0.002228008583188057, Reward Mean: -0.012999999336898327\n",
      "32/32 [==============================] - 0s 1ms/step\n",
      "Epoch 650/2000 => loss: 0.0017610001377761364, Reward Mean: 0.0009999999310821295\n",
      "32/32 [==============================] - 0s 1ms/step\n",
      "Epoch 651/2000 => loss: 0.0017437689239159226, Reward Mean: -0.018000001087784767\n",
      "32/32 [==============================] - 0s 1ms/step\n",
      "Epoch 652/2000 => loss: 0.001796784228645265, Reward Mean: -0.010999999940395355\n",
      "32/32 [==============================] - 0s 1ms/step\n",
      "Epoch 653/2000 => loss: 0.0017871176823973656, Reward Mean: -0.01600000075995922\n",
      "32/32 [==============================] - 0s 1ms/step\n",
      "Epoch 654/2000 => loss: 0.002002946101129055, Reward Mean: -0.012000000104308128\n",
      "32/32 [==============================] - 0s 3ms/step\n",
      "Epoch 655/2000 => loss: 0.0018514111870899796, Reward Mean: -0.0020000000949949026\n",
      "32/32 [==============================] - 0s 1ms/step\n",
      "Epoch 656/2000 => loss: 0.00263440259732306, Reward Mean: -0.0139999995008111\n",
      "32/32 [==============================] - 0s 1ms/step\n",
      "Epoch 657/2000 => loss: 0.0015160080511122942, Reward Mean: -0.010999999940395355\n",
      "32/32 [==============================] - 0s 1ms/step\n",
      "Epoch 658/2000 => loss: 0.002001214772462845, Reward Mean: -0.0029999997932463884\n",
      "32/32 [==============================] - 0s 1ms/step\n",
      "Epoch 659/2000 => loss: 0.0018847142346203327, Reward Mean: -0.019999999552965164\n",
      "32/32 [==============================] - 0s 2ms/step\n",
      "Epoch 660/2000 => loss: 0.001741353189572692, Reward Mean: -0.010999999940395355\n",
      "32/32 [==============================] - 0s 1ms/step\n",
      "Epoch 661/2000 => loss: 0.002251294907182455, Reward Mean: -0.001999999862164259\n",
      "32/32 [==============================] - 0s 1ms/step\n",
      "Epoch 662/2000 => loss: 0.0019395096460357308, Reward Mean: -0.004000000189989805\n",
      "32/32 [==============================] - 0s 1ms/step\n",
      "Epoch 663/2000 => loss: 0.0020286967046558857, Reward Mean: -0.009999999776482582\n",
      "32/32 [==============================] - 0s 1ms/step\n",
      "Epoch 664/2000 => loss: 0.001892100553959608, Reward Mean: -0.006000000052154064\n",
      "32/32 [==============================] - 0s 1ms/step\n",
      "Epoch 665/2000 => loss: 0.001768435351550579, Reward Mean: -0.013000000268220901\n",
      "32/32 [==============================] - 0s 2ms/step\n",
      "Epoch 666/2000 => loss: 0.002369347959756851, Reward Mean: -0.009999999776482582\n",
      "32/32 [==============================] - 0s 1ms/step\n",
      "Epoch 667/2000 => loss: 0.0018891097279265523, Reward Mean: -0.009999999776482582\n",
      "32/32 [==============================] - 0s 1ms/step\n",
      "Epoch 668/2000 => loss: 0.002065404085442424, Reward Mean: -0.014999999664723873\n",
      "32/32 [==============================] - 0s 1ms/step\n",
      "Epoch 669/2000 => loss: 0.0018222269136458635, Reward Mean: -0.017000000923871994\n",
      "32/32 [==============================] - 0s 1ms/step\n",
      "Epoch 670/2000 => loss: 0.0023578323889523745, Reward Mean: -0.013000000268220901\n",
      "32/32 [==============================] - 0s 2ms/step\n",
      "Epoch 671/2000 => loss: 0.002047155983746052, Reward Mean: -0.013000000268220901\n",
      "32/32 [==============================] - 0s 2ms/step\n",
      "Epoch 672/2000 => loss: 0.0018318952061235905, Reward Mean: -0.0020000000949949026\n",
      "32/32 [==============================] - 0s 1ms/step\n",
      "Epoch 673/2000 => loss: 0.0017927923472598195, Reward Mean: -0.017999999225139618\n",
      "32/32 [==============================] - 0s 2ms/step\n",
      "Epoch 674/2000 => loss: 0.002058986574411392, Reward Mean: -0.014999999664723873\n",
      "32/32 [==============================] - 0s 1ms/step\n",
      "Epoch 675/2000 => loss: 0.0019113649614155293, Reward Mean: -0.00400000112131238\n",
      "32/32 [==============================] - 0s 1ms/step\n",
      "Epoch 676/2000 => loss: 0.00235088262706995, Reward Mean: 2.2351741291171123e-10\n",
      "32/32 [==============================] - 0s 1ms/step\n",
      "Epoch 677/2000 => loss: 0.002625218126922846, Reward Mean: -0.014999999664723873\n",
      "32/32 [==============================] - 0s 1ms/step\n",
      "Epoch 678/2000 => loss: 0.0021986712235957384, Reward Mean: -0.006000000052154064\n",
      "32/32 [==============================] - 0s 1ms/step\n",
      "Epoch 679/2000 => loss: 0.0019201359245926142, Reward Mean: -0.012999999336898327\n",
      "32/32 [==============================] - 0s 1ms/step\n",
      "Epoch 680/2000 => loss: 0.0018766637658700347, Reward Mean: -0.010999999940395355\n",
      "32/32 [==============================] - 0s 1ms/step\n",
      "Epoch 681/2000 => loss: 0.0019064084626734257, Reward Mean: -0.009999999776482582\n",
      "32/32 [==============================] - 0s 1ms/step\n",
      "Epoch 682/2000 => loss: 0.0023127365857362747, Reward Mean: -0.010999999940395355\n",
      "32/32 [==============================] - 0s 1ms/step\n",
      "Epoch 683/2000 => loss: 0.002011468168348074, Reward Mean: -0.013000000268220901\n",
      "32/32 [==============================] - 0s 1ms/step\n",
      "Epoch 684/2000 => loss: 0.001973652746528387, Reward Mean: -0.003000000026077032\n",
      "32/32 [==============================] - 0s 1ms/step\n",
      "Epoch 685/2000 => loss: 0.0016718744300305843, Reward Mean: -0.015000001527369022\n",
      "32/32 [==============================] - 0s 1ms/step\n",
      "Epoch 686/2000 => loss: 0.002132132649421692, Reward Mean: -0.003000000026077032\n",
      "32/32 [==============================] - 0s 1ms/step\n",
      "Epoch 687/2000 => loss: 0.0019004702335223556, Reward Mean: -0.005000000819563866\n",
      "32/32 [==============================] - 0s 1ms/step\n",
      "Epoch 688/2000 => loss: 0.00180156622081995, Reward Mean: -0.001999999862164259\n",
      "32/32 [==============================] - 0s 1ms/step\n",
      "Epoch 689/2000 => loss: 0.0022615818306803703, Reward Mean: -0.00800000037997961\n",
      "32/32 [==============================] - 0s 2ms/step\n",
      "Epoch 690/2000 => loss: 0.0017874417826533318, Reward Mean: -0.007000000681728125\n",
      "32/32 [==============================] - 0s 1ms/step\n",
      "Epoch 691/2000 => loss: 0.0024126237258315086, Reward Mean: -0.012000000104308128\n",
      "32/32 [==============================] - 0s 1ms/step\n",
      "Epoch 692/2000 => loss: 0.001713430043309927, Reward Mean: -0.01400000136345625\n",
      "32/32 [==============================] - 0s 1ms/step\n",
      "Epoch 693/2000 => loss: 0.002396560739725828, Reward Mean: -0.009999999776482582\n",
      "32/32 [==============================] - 0s 1ms/step\n",
      "Epoch 694/2000 => loss: 0.002141219098120928, Reward Mean: -0.009999999776482582\n",
      "32/32 [==============================] - 0s 1ms/step\n",
      "Epoch 695/2000 => loss: 0.0019311245996505022, Reward Mean: -0.018000001087784767\n",
      "32/32 [==============================] - 0s 2ms/step\n",
      "Epoch 696/2000 => loss: 0.001644855597987771, Reward Mean: -0.012000000104308128\n",
      "32/32 [==============================] - 0s 1ms/step\n",
      "Epoch 697/2000 => loss: 0.002370678586885333, Reward Mean: -0.01600000075995922\n",
      "32/32 [==============================] - 0s 1ms/step\n",
      "Epoch 698/2000 => loss: 0.0021884203888475895, Reward Mean: -0.010999999940395355\n",
      "32/32 [==============================] - 0s 1ms/step\n",
      "Epoch 699/2000 => loss: 0.00192640395835042, Reward Mean: -0.015000001527369022\n",
      "32/32 [==============================] - 0s 1ms/step\n",
      "Epoch 700/2000 => loss: 0.002029922790825367, Reward Mean: -0.009999999776482582\n",
      "32/32 [==============================] - 0s 1ms/step\n",
      "Epoch 701/2000 => loss: 0.001641141134314239, Reward Mean: -0.004999999888241291\n",
      "32/32 [==============================] - 0s 2ms/step\n",
      "Epoch 702/2000 => loss: 0.0017541126580908895, Reward Mean: -0.009000000543892384\n",
      "32/32 [==============================] - 0s 1ms/step\n",
      "Epoch 703/2000 => loss: 0.0015995834255591035, Reward Mean: -0.013000000268220901\n",
      "32/32 [==============================] - 0s 1ms/step\n",
      "Epoch 704/2000 => loss: 0.00223321421071887, Reward Mean: -0.013000000268220901\n",
      "32/32 [==============================] - 0s 1ms/step\n",
      "Epoch 705/2000 => loss: 0.002186499536037445, Reward Mean: -0.012000000104308128\n",
      "32/32 [==============================] - 0s 1ms/step\n",
      "Epoch 706/2000 => loss: 0.001913257408887148, Reward Mean: -0.01899999938905239\n",
      "32/32 [==============================] - 0s 2ms/step\n",
      "Epoch 707/2000 => loss: 0.002024636138230562, Reward Mean: -0.01600000075995922\n",
      "32/32 [==============================] - 0s 1ms/step\n",
      "Epoch 708/2000 => loss: 0.0020149946212768555, Reward Mean: -0.018000001087784767\n",
      "32/32 [==============================] - 0s 1ms/step\n",
      "Epoch 709/2000 => loss: 0.001814478193409741, Reward Mean: -0.013000000268220901\n",
      "32/32 [==============================] - 0s 1ms/step\n",
      "Epoch 710/2000 => loss: 0.0018815179355442524, Reward Mean: -0.014999999664723873\n",
      "32/32 [==============================] - 0s 1ms/step\n",
      "Epoch 711/2000 => loss: 0.001831626403145492, Reward Mean: -0.01400000136345625\n",
      "32/32 [==============================] - 0s 1ms/step\n",
      "Epoch 712/2000 => loss: 0.001584016252309084, Reward Mean: -0.012999999336898327\n",
      "32/32 [==============================] - 0s 1ms/step\n",
      "Epoch 713/2000 => loss: 0.002277230843901634, Reward Mean: -0.008999999612569809\n",
      "32/32 [==============================] - 0s 1ms/step\n",
      "Epoch 714/2000 => loss: 0.0016276000533252954, Reward Mean: -0.010999999940395355\n",
      "32/32 [==============================] - 0s 1ms/step\n",
      "Epoch 715/2000 => loss: 0.0017877453938126564, Reward Mean: -0.013000000268220901\n",
      "32/32 [==============================] - 0s 2ms/step\n",
      "Epoch 716/2000 => loss: 0.002266973489895463, Reward Mean: -0.014999999664723873\n",
      "32/32 [==============================] - 0s 1ms/step\n",
      "Epoch 717/2000 => loss: 0.001692808698862791, Reward Mean: -0.01400000136345625\n",
      "32/32 [==============================] - 0s 2ms/step\n",
      "Epoch 718/2000 => loss: 0.0017667976208031178, Reward Mean: -0.009000000543892384\n",
      "32/32 [==============================] - 0s 1ms/step\n",
      "Epoch 719/2000 => loss: 0.0020990276243537664, Reward Mean: -0.009000000543892384\n",
      "32/32 [==============================] - 0s 1ms/step\n",
      "Epoch 720/2000 => loss: 0.0017516894731670618, Reward Mean: 2.2351741291171123e-10\n",
      "32/32 [==============================] - 0s 1ms/step\n",
      "Epoch 721/2000 => loss: 0.002545434283092618, Reward Mean: -0.015000001527369022\n",
      "32/32 [==============================] - 0s 1ms/step\n",
      "Epoch 722/2000 => loss: 0.0021322863176465034, Reward Mean: -0.003999999724328518\n",
      "32/32 [==============================] - 0s 1ms/step\n",
      "Epoch 723/2000 => loss: 0.0019284408772364259, Reward Mean: -0.015000001527369022\n",
      "32/32 [==============================] - 0s 1ms/step\n",
      "Epoch 724/2000 => loss: 0.0024754400365054607, Reward Mean: -0.015000001527369022\n",
      "32/32 [==============================] - 0s 1ms/step\n",
      "Epoch 725/2000 => loss: 0.0021248357370495796, Reward Mean: -0.009999999776482582\n",
      "32/32 [==============================] - 0s 1ms/step\n",
      "Epoch 726/2000 => loss: 0.0017610773211345077, Reward Mean: -0.013000000268220901\n",
      "32/32 [==============================] - 0s 1ms/step\n",
      "Epoch 727/2000 => loss: 0.0025850762613117695, Reward Mean: -0.009999999776482582\n",
      "32/32 [==============================] - 0s 3ms/step\n",
      "Epoch 728/2000 => loss: 0.002274715341627598, Reward Mean: -0.003000000026077032\n",
      "32/32 [==============================] - 0s 1ms/step\n",
      "Epoch 729/2000 => loss: 0.0019332817755639553, Reward Mean: -0.007000000681728125\n",
      "32/32 [==============================] - 0s 1ms/step\n",
      "Epoch 730/2000 => loss: 0.0019922510255128145, Reward Mean: -0.01900000125169754\n",
      "32/32 [==============================] - 0s 1ms/step\n",
      "Epoch 731/2000 => loss: 0.0020874186884611845, Reward Mean: -0.014999999664723873\n",
      "32/32 [==============================] - 0s 1ms/step\n",
      "Epoch 732/2000 => loss: 0.0022673062048852444, Reward Mean: -0.003000000026077032\n",
      "32/32 [==============================] - 0s 1ms/step\n",
      "Epoch 733/2000 => loss: 0.0020558470860123634, Reward Mean: -0.02500000037252903\n",
      "32/32 [==============================] - 0s 1ms/step\n",
      "Epoch 734/2000 => loss: 0.0016785002080723643, Reward Mean: -0.019999999552965164\n",
      "32/32 [==============================] - 0s 1ms/step\n",
      "Epoch 735/2000 => loss: 0.0017333189025521278, Reward Mean: -0.010999999940395355\n",
      "32/32 [==============================] - 0s 1ms/step\n",
      "Epoch 736/2000 => loss: 0.0022338794078677893, Reward Mean: -0.018000001087784767\n",
      "32/32 [==============================] - 0s 1ms/step\n",
      "Epoch 737/2000 => loss: 0.002474496839568019, Reward Mean: -0.012000000104308128\n",
      "32/32 [==============================] - 0s 1ms/step\n",
      "Epoch 738/2000 => loss: 0.0021905191242694855, Reward Mean: -0.019999999552965164\n",
      "32/32 [==============================] - 0s 1ms/step\n",
      "Epoch 739/2000 => loss: 0.002007649280130863, Reward Mean: -0.0139999995008111\n",
      "32/32 [==============================] - 0s 3ms/step\n",
      "Epoch 740/2000 => loss: 0.0021669368725270033, Reward Mean: -0.01600000075995922\n",
      "32/32 [==============================] - 0s 2ms/step\n",
      "Epoch 741/2000 => loss: 0.001855229726061225, Reward Mean: -0.007999999448657036\n",
      "32/32 [==============================] - 0s 1ms/step\n",
      "Epoch 742/2000 => loss: 0.0023179175332188606, Reward Mean: -0.004000000189989805\n",
      "32/32 [==============================] - 0s 1ms/step\n",
      "Epoch 743/2000 => loss: 0.0018385624280199409, Reward Mean: -0.012000000104308128\n",
      "32/32 [==============================] - 0s 1ms/step\n",
      "Epoch 744/2000 => loss: 0.002081680577248335, Reward Mean: -0.017000000923871994\n",
      "32/32 [==============================] - 0s 1ms/step\n",
      "Epoch 745/2000 => loss: 0.0021810431499034166, Reward Mean: -0.01400000136345625\n",
      "32/32 [==============================] - 0s 1ms/step\n",
      "Epoch 746/2000 => loss: 0.0015346017898991704, Reward Mean: -0.01400000136345625\n",
      "32/32 [==============================] - 0s 1ms/step\n",
      "Epoch 747/2000 => loss: 0.0017247542273253202, Reward Mean: -0.015000001527369022\n",
      "32/32 [==============================] - 0s 1ms/step\n",
      "Epoch 748/2000 => loss: 0.0023712357506155968, Reward Mean: -0.01899999938905239\n",
      "32/32 [==============================] - 0s 1ms/step\n",
      "Epoch 749/2000 => loss: 0.0019233431667089462, Reward Mean: -0.010999999940395355\n",
      "32/32 [==============================] - 0s 1ms/step\n",
      "Epoch 750/2000 => loss: 0.0022213610354810953, Reward Mean: -0.004999999888241291\n",
      "32/32 [==============================] - 0s 1ms/step\n",
      "Epoch 751/2000 => loss: 0.0023440392687916756, Reward Mean: -0.013000000268220901\n",
      "32/32 [==============================] - 0s 1ms/step\n",
      "Epoch 752/2000 => loss: 0.00193271494936198, Reward Mean: -0.00800000037997961\n",
      "32/32 [==============================] - 0s 1ms/step\n",
      "Epoch 753/2000 => loss: 0.002222725423052907, Reward Mean: -0.017000000923871994\n",
      "32/32 [==============================] - 0s 1ms/step\n",
      "Epoch 754/2000 => loss: 0.002134989481419325, Reward Mean: -0.014999999664723873\n",
      "32/32 [==============================] - 0s 1ms/step\n",
      "Epoch 755/2000 => loss: 0.0018102761823683977, Reward Mean: -0.012000000104308128\n",
      "32/32 [==============================] - 0s 1ms/step\n",
      "Epoch 756/2000 => loss: 0.0020063305273652077, Reward Mean: -0.01400000136345625\n",
      "32/32 [==============================] - 0s 1ms/step\n",
      "Epoch 757/2000 => loss: 0.0021847959142178297, Reward Mean: -0.01400000136345625\n",
      "32/32 [==============================] - 0s 1ms/step\n",
      "Epoch 758/2000 => loss: 0.002089942805469036, Reward Mean: -0.0019999996293336153\n",
      "32/32 [==============================] - 0s 1ms/step\n",
      "Epoch 759/2000 => loss: 0.0018031129147857428, Reward Mean: -0.009999999776482582\n",
      "32/32 [==============================] - 0s 1ms/step\n",
      "Epoch 760/2000 => loss: 0.0020520908292382956, Reward Mean: -0.01400000136345625\n",
      "32/32 [==============================] - 0s 1ms/step\n",
      "Epoch 761/2000 => loss: 0.0018997103907167912, Reward Mean: 0.004000000189989805\n",
      "32/32 [==============================] - 0s 1ms/step\n",
      "Epoch 762/2000 => loss: 0.002142419805750251, Reward Mean: -0.018000001087784767\n",
      "32/32 [==============================] - 0s 2ms/step\n",
      "Epoch 763/2000 => loss: 0.0019828786607831717, Reward Mean: -0.012000000104308128\n",
      "32/32 [==============================] - 0s 1ms/step\n",
      "Epoch 764/2000 => loss: 0.0017422244418412447, Reward Mean: -0.010999999940395355\n",
      "32/32 [==============================] - 0s 1ms/step\n",
      "Epoch 765/2000 => loss: 0.0018512823153287172, Reward Mean: -0.0009999999310821295\n",
      "32/32 [==============================] - 0s 1ms/step\n",
      "Epoch 766/2000 => loss: 0.0017551546916365623, Reward Mean: -0.009000000543892384\n",
      "32/32 [==============================] - 0s 1ms/step\n",
      "Epoch 767/2000 => loss: 0.002021264284849167, Reward Mean: -0.012999999336898327\n",
      "32/32 [==============================] - 0s 1ms/step\n",
      "Epoch 768/2000 => loss: 0.0023321048356592655, Reward Mean: -0.00699999975040555\n",
      "32/32 [==============================] - 0s 1ms/step\n",
      "Epoch 769/2000 => loss: 0.0025110957212746143, Reward Mean: -0.018000001087784767\n",
      "32/32 [==============================] - 0s 1ms/step\n",
      "Epoch 770/2000 => loss: 0.0024219811893999577, Reward Mean: -0.00800000037997961\n",
      "32/32 [==============================] - 0s 1ms/step\n",
      "Epoch 771/2000 => loss: 0.002145554404705763, Reward Mean: -0.012000000104308128\n",
      "32/32 [==============================] - 0s 1ms/step\n",
      "Epoch 772/2000 => loss: 0.0017151429783552885, Reward Mean: -0.00800000037997961\n",
      "32/32 [==============================] - 0s 1ms/step\n",
      "Epoch 773/2000 => loss: 0.0019135393667966127, Reward Mean: -0.013000000268220901\n",
      "32/32 [==============================] - 0s 2ms/step\n",
      "Epoch 774/2000 => loss: 0.0019174384651705623, Reward Mean: -0.00800000037997961\n",
      "32/32 [==============================] - 0s 1ms/step\n",
      "Epoch 775/2000 => loss: 0.002029093448072672, Reward Mean: -0.010999999940395355\n",
      "32/32 [==============================] - 0s 1ms/step\n",
      "Epoch 776/2000 => loss: 0.0013950287830084562, Reward Mean: -0.0020000000949949026\n",
      "32/32 [==============================] - 0s 1ms/step\n",
      "Epoch 777/2000 => loss: 0.001678501139394939, Reward Mean: -0.00800000037997961\n",
      "32/32 [==============================] - 0s 1ms/step\n",
      "Epoch 778/2000 => loss: 0.0027717615012079477, Reward Mean: -0.012000000104308128\n",
      "32/32 [==============================] - 0s 1ms/step\n",
      "Epoch 779/2000 => loss: 0.002266457537189126, Reward Mean: -0.001999999862164259\n",
      "32/32 [==============================] - 0s 1ms/step\n",
      "Epoch 780/2000 => loss: 0.002033356809988618, Reward Mean: -0.010999999940395355\n",
      "32/32 [==============================] - 0s 1ms/step\n",
      "Epoch 781/2000 => loss: 0.002324978355318308, Reward Mean: -0.009000000543892384\n",
      "32/32 [==============================] - 0s 1ms/step\n",
      "Epoch 782/2000 => loss: 0.0014039017260074615, Reward Mean: -0.01600000075995922\n",
      "32/32 [==============================] - 0s 1ms/step\n",
      "Epoch 783/2000 => loss: 0.001843198318965733, Reward Mean: -0.01899999938905239\n",
      "32/32 [==============================] - 0s 1ms/step\n",
      "Epoch 784/2000 => loss: 0.001822036225348711, Reward Mean: -0.005000000819563866\n",
      "32/32 [==============================] - 0s 1ms/step\n",
      "Epoch 785/2000 => loss: 0.0023688836954534054, Reward Mean: -0.010999999940395355\n",
      "32/32 [==============================] - 0s 1ms/step\n",
      "Epoch 786/2000 => loss: 0.0022972640581429005, Reward Mean: -0.018000001087784767\n",
      "32/32 [==============================] - 0s 1ms/step\n",
      "Epoch 787/2000 => loss: 0.001735103433020413, Reward Mean: -0.017000000923871994\n",
      "32/32 [==============================] - 0s 1ms/step\n",
      "Epoch 788/2000 => loss: 0.0021006197202950716, Reward Mean: -0.013000000268220901\n",
      "32/32 [==============================] - 0s 1ms/step\n",
      "Epoch 789/2000 => loss: 0.002380445133894682, Reward Mean: 7.450580430390374e-11\n",
      "32/32 [==============================] - 0s 1ms/step\n",
      "Epoch 790/2000 => loss: 0.002057273406535387, Reward Mean: -0.017000000923871994\n",
      "32/32 [==============================] - 0s 1ms/step\n",
      "Epoch 791/2000 => loss: 0.0021431862842291594, Reward Mean: -0.01600000075995922\n",
      "32/32 [==============================] - 0s 1ms/step\n",
      "Epoch 792/2000 => loss: 0.0018765362910926342, Reward Mean: -0.00800000037997961\n",
      "32/32 [==============================] - 0s 1ms/step\n",
      "Epoch 793/2000 => loss: 0.001857185154221952, Reward Mean: -0.009999999776482582\n",
      "32/32 [==============================] - 0s 1ms/step\n",
      "Epoch 794/2000 => loss: 0.0020744632929563522, Reward Mean: -0.013000000268220901\n",
      "32/32 [==============================] - 0s 1ms/step\n",
      "Epoch 795/2000 => loss: 0.00272400863468647, Reward Mean: -0.01900000125169754\n",
      "32/32 [==============================] - 0s 1ms/step\n",
      "Epoch 796/2000 => loss: 0.0021415152586996555, Reward Mean: -0.013000000268220901\n",
      "32/32 [==============================] - 0s 1ms/step\n",
      "Epoch 797/2000 => loss: 0.002037777565419674, Reward Mean: -0.013000000268220901\n",
      "32/32 [==============================] - 0s 1ms/step\n",
      "Epoch 798/2000 => loss: 0.0018891104264184833, Reward Mean: -0.009999999776482582\n",
      "32/32 [==============================] - 0s 1ms/step\n",
      "Epoch 799/2000 => loss: 0.001821543206460774, Reward Mean: -0.017000000923871994\n",
      "32/32 [==============================] - 0s 2ms/step\n",
      "Epoch 800/2000 => loss: 0.0020333610009402037, Reward Mean: -0.012000000104308128\n",
      "32/32 [==============================] - 0s 1ms/step\n",
      "Epoch 801/2000 => loss: 0.0022709383629262447, Reward Mean: -0.01600000075995922\n",
      "32/32 [==============================] - 0s 1ms/step\n",
      "Epoch 802/2000 => loss: 0.0017706752987578511, Reward Mean: -0.012000000104308128\n",
      "32/32 [==============================] - 0s 1ms/step\n",
      "Epoch 803/2000 => loss: 0.0016871762927621603, Reward Mean: -0.019999999552965164\n",
      "32/32 [==============================] - 0s 1ms/step\n",
      "Epoch 804/2000 => loss: 0.002355325035750866, Reward Mean: -0.00800000037997961\n",
      "32/32 [==============================] - 0s 2ms/step\n",
      "Epoch 805/2000 => loss: 0.0019166180863976479, Reward Mean: -0.0139999995008111\n",
      "32/32 [==============================] - 0s 2ms/step\n",
      "Epoch 806/2000 => loss: 0.0020486456342041492, Reward Mean: -0.01400000136345625\n",
      "32/32 [==============================] - 0s 2ms/step\n",
      "Epoch 807/2000 => loss: 0.0016377544961869717, Reward Mean: -0.009000000543892384\n",
      "32/32 [==============================] - 0s 2ms/step\n",
      "Epoch 808/2000 => loss: 0.0022143241949379444, Reward Mean: -0.0139999995008111\n",
      "32/32 [==============================] - 0s 1ms/step\n",
      "Epoch 809/2000 => loss: 0.0019531080033630133, Reward Mean: -0.004000000189989805\n",
      "32/32 [==============================] - 0s 1ms/step\n",
      "Epoch 810/2000 => loss: 0.0019362892489880323, Reward Mean: -0.008999999612569809\n",
      "32/32 [==============================] - 0s 1ms/step\n",
      "Epoch 811/2000 => loss: 0.0018782862462103367, Reward Mean: -0.01600000075995922\n",
      "32/32 [==============================] - 0s 1ms/step\n",
      "Epoch 812/2000 => loss: 0.00251424266025424, Reward Mean: -0.0139999995008111\n",
      "32/32 [==============================] - 0s 1ms/step\n",
      "Epoch 813/2000 => loss: 0.0017404812388122082, Reward Mean: -0.009999999776482582\n",
      "32/32 [==============================] - 0s 1ms/step\n",
      "Epoch 814/2000 => loss: 0.002017992315813899, Reward Mean: 0.0029999997932463884\n",
      "32/32 [==============================] - 0s 1ms/step\n",
      "Epoch 815/2000 => loss: 0.0019640768878161907, Reward Mean: -0.010999999940395355\n",
      "32/32 [==============================] - 0s 1ms/step\n",
      "Epoch 816/2000 => loss: 0.0016342168673872948, Reward Mean: -0.012000000104308128\n",
      "32/32 [==============================] - 0s 1ms/step\n",
      "Epoch 817/2000 => loss: 0.0022672659251838923, Reward Mean: -0.012000000104308128\n",
      "32/32 [==============================] - 0s 1ms/step\n",
      "Epoch 818/2000 => loss: 0.0025101611390709877, Reward Mean: -0.012000000104308128\n",
      "32/32 [==============================] - 0s 1ms/step\n",
      "Epoch 819/2000 => loss: 0.0018870519706979394, Reward Mean: -0.0029999997932463884\n",
      "32/32 [==============================] - 0s 2ms/step\n",
      "Epoch 820/2000 => loss: 0.0020801129285246134, Reward Mean: -0.006000000052154064\n",
      "32/32 [==============================] - 0s 1ms/step\n",
      "Epoch 821/2000 => loss: 0.001859729876741767, Reward Mean: -0.01600000075995922\n",
      "32/32 [==============================] - 0s 1ms/step\n",
      "Epoch 822/2000 => loss: 0.0018376416992396116, Reward Mean: -0.004999999888241291\n",
      "32/32 [==============================] - 0s 1ms/step\n",
      "Epoch 823/2000 => loss: 0.002089163288474083, Reward Mean: -0.0139999995008111\n",
      "32/32 [==============================] - 0s 1ms/step\n",
      "Epoch 824/2000 => loss: 0.0022551098372787237, Reward Mean: -0.013000000268220901\n",
      "32/32 [==============================] - 0s 2ms/step\n",
      "Epoch 825/2000 => loss: 0.001773470314219594, Reward Mean: -0.01900000125169754\n",
      "32/32 [==============================] - 0s 1ms/step\n",
      "Epoch 826/2000 => loss: 0.002085162792354822, Reward Mean: -0.017000000923871994\n",
      "32/32 [==============================] - 0s 1ms/step\n",
      "Epoch 827/2000 => loss: 0.0019493955187499523, Reward Mean: -0.003000000026077032\n",
      "32/32 [==============================] - 0s 1ms/step\n",
      "Epoch 828/2000 => loss: 0.0021157972514629364, Reward Mean: -0.00800000037997961\n",
      "32/32 [==============================] - 0s 1ms/step\n",
      "Epoch 829/2000 => loss: 0.0018791110487654805, Reward Mean: -0.007000000681728125\n",
      "32/32 [==============================] - 0s 1ms/step\n",
      "Epoch 830/2000 => loss: 0.002438080031424761, Reward Mean: -0.009000000543892384\n",
      "32/32 [==============================] - 0s 1ms/step\n",
      "Epoch 831/2000 => loss: 0.001956608146429062, Reward Mean: -0.014999999664723873\n",
      "32/32 [==============================] - 0s 1ms/step\n",
      "Epoch 832/2000 => loss: 0.002024873625487089, Reward Mean: -0.009999999776482582\n",
      "32/32 [==============================] - 0s 1ms/step\n",
      "Epoch 833/2000 => loss: 0.0019715474918484688, Reward Mean: -0.01400000136345625\n",
      "32/32 [==============================] - 0s 1ms/step\n",
      "Epoch 834/2000 => loss: 0.0023118876852095127, Reward Mean: -0.010999999940395355\n",
      "32/32 [==============================] - 0s 1ms/step\n",
      "Epoch 835/2000 => loss: 0.001867788378149271, Reward Mean: -0.017999999225139618\n",
      "32/32 [==============================] - 0s 1ms/step\n",
      "Epoch 836/2000 => loss: 0.0018459041602909565, Reward Mean: -0.012000000104308128\n",
      "32/32 [==============================] - 0s 1ms/step\n",
      "Epoch 837/2000 => loss: 0.0016921714413911104, Reward Mean: -0.006000000052154064\n",
      "32/32 [==============================] - 0s 1ms/step\n",
      "Epoch 838/2000 => loss: 0.0017418439965695143, Reward Mean: -0.014999999664723873\n",
      "32/32 [==============================] - 0s 1ms/step\n",
      "Epoch 839/2000 => loss: 0.0016804386395961046, Reward Mean: -0.010999999940395355\n",
      "32/32 [==============================] - 0s 1ms/step\n",
      "Epoch 840/2000 => loss: 0.001791026908904314, Reward Mean: -0.005000000819563866\n",
      "32/32 [==============================] - 0s 1ms/step\n",
      "Epoch 841/2000 => loss: 0.002037337515503168, Reward Mean: -0.00699999975040555\n",
      "32/32 [==============================] - 0s 1ms/step\n",
      "Epoch 842/2000 => loss: 0.0020378525368869305, Reward Mean: 0.019999999552965164\n",
      "32/32 [==============================] - 0s 1ms/step\n",
      "Epoch 843/2000 => loss: 0.0023860782384872437, Reward Mean: -0.019999999552965164\n",
      "32/32 [==============================] - 0s 1ms/step\n",
      "Epoch 844/2000 => loss: 0.0018269293941557407, Reward Mean: -0.01600000075995922\n",
      "32/32 [==============================] - 0s 1ms/step\n",
      "Epoch 845/2000 => loss: 0.0016350166406482458, Reward Mean: -0.018000001087784767\n",
      "32/32 [==============================] - 0s 1ms/step\n",
      "Epoch 846/2000 => loss: 0.002084640320390463, Reward Mean: -0.013000000268220901\n",
      "32/32 [==============================] - 0s 1ms/step\n",
      "Epoch 847/2000 => loss: 0.001739477040246129, Reward Mean: -0.0020000000949949026\n",
      "32/32 [==============================] - 0s 1ms/step\n",
      "Epoch 848/2000 => loss: 0.0018146137008443475, Reward Mean: -0.012000000104308128\n",
      "32/32 [==============================] - 0s 1ms/step\n",
      "Epoch 849/2000 => loss: 0.002722203964367509, Reward Mean: -0.012000000104308128\n",
      "32/32 [==============================] - 0s 1ms/step\n",
      "Epoch 850/2000 => loss: 0.0017760061891749501, Reward Mean: -0.009000000543892384\n",
      "32/32 [==============================] - 0s 1ms/step\n",
      "Epoch 851/2000 => loss: 0.0019313199445605278, Reward Mean: -0.014999999664723873\n",
      "32/32 [==============================] - 0s 1ms/step\n",
      "Epoch 852/2000 => loss: 0.0024990621022880077, Reward Mean: -0.017000000923871994\n",
      "32/32 [==============================] - 0s 1ms/step\n",
      "Epoch 853/2000 => loss: 0.0019687130115926266, Reward Mean: -0.008999999612569809\n",
      "32/32 [==============================] - 0s 1ms/step\n",
      "Epoch 854/2000 => loss: 0.0018412144854664803, Reward Mean: -0.01600000075995922\n",
      "32/32 [==============================] - 0s 1ms/step\n",
      "Epoch 855/2000 => loss: 0.0018911513034254313, Reward Mean: -0.017000000923871994\n",
      "32/32 [==============================] - 0s 2ms/step\n",
      "Epoch 856/2000 => loss: 0.0019524111412465572, Reward Mean: -0.010999999940395355\n",
      "32/32 [==============================] - 0s 2ms/step\n",
      "Epoch 857/2000 => loss: 0.0021880825515836477, Reward Mean: 0.001999999862164259\n",
      "32/32 [==============================] - 0s 2ms/step\n",
      "Epoch 858/2000 => loss: 0.0020551993511617184, Reward Mean: -0.009000000543892384\n",
      "32/32 [==============================] - 0s 2ms/step\n",
      "Epoch 859/2000 => loss: 0.0016598391812294722, Reward Mean: -0.012999999336898327\n",
      "32/32 [==============================] - 0s 2ms/step\n",
      "Epoch 860/2000 => loss: 0.0017027193680405617, Reward Mean: -0.02199999988079071\n",
      "32/32 [==============================] - 0s 1ms/step\n",
      "Epoch 861/2000 => loss: 0.002179062459617853, Reward Mean: -0.013000000268220901\n",
      "32/32 [==============================] - 0s 1ms/step\n",
      "Epoch 862/2000 => loss: 0.0020576189272105694, Reward Mean: -0.012000000104308128\n",
      "32/32 [==============================] - 0s 1ms/step\n",
      "Epoch 863/2000 => loss: 0.0013249770272523165, Reward Mean: -0.010999999940395355\n",
      "32/32 [==============================] - 0s 1ms/step\n",
      "Epoch 864/2000 => loss: 0.0015453087398782372, Reward Mean: -0.00800000037997961\n",
      "32/32 [==============================] - 0s 1ms/step\n",
      "Epoch 865/2000 => loss: 0.0020953472703695297, Reward Mean: -0.012000000104308128\n",
      "32/32 [==============================] - 0s 2ms/step\n",
      "Epoch 866/2000 => loss: 0.001817663200199604, Reward Mean: -0.00800000037997961\n",
      "32/32 [==============================] - 0s 2ms/step\n",
      "Epoch 867/2000 => loss: 0.002328701550140977, Reward Mean: -0.012999999336898327\n",
      "32/32 [==============================] - 0s 2ms/step\n",
      "Epoch 868/2000 => loss: 0.001880859723314643, Reward Mean: -0.017999999225139618\n",
      "32/32 [==============================] - 0s 2ms/step\n",
      "Epoch 869/2000 => loss: 0.0019911513663828373, Reward Mean: -0.009000000543892384\n",
      "32/32 [==============================] - 0s 1ms/step\n",
      "Epoch 870/2000 => loss: 0.0020371894352138042, Reward Mean: -0.00800000037997961\n",
      "32/32 [==============================] - 0s 1ms/step\n",
      "Epoch 871/2000 => loss: 0.0023232311941683292, Reward Mean: -0.00699999975040555\n",
      "32/32 [==============================] - 0s 1ms/step\n",
      "Epoch 872/2000 => loss: 0.001597629045136273, Reward Mean: -0.0139999995008111\n",
      "32/32 [==============================] - 0s 2ms/step\n",
      "Epoch 873/2000 => loss: 0.0014602607116103172, Reward Mean: -0.009000000543892384\n",
      "32/32 [==============================] - 0s 1ms/step\n",
      "Epoch 874/2000 => loss: 0.0022710184566676617, Reward Mean: -0.014999999664723873\n",
      "32/32 [==============================] - 0s 1ms/step\n",
      "Epoch 875/2000 => loss: 0.0017647817730903625, Reward Mean: -0.012000000104308128\n",
      "32/32 [==============================] - 0s 1ms/step\n",
      "Epoch 876/2000 => loss: 0.0027240158524364233, Reward Mean: -0.00400000112131238\n",
      "32/32 [==============================] - 0s 1ms/step\n",
      "Epoch 877/2000 => loss: 0.0017757101450115442, Reward Mean: -0.01600000075995922\n",
      "32/32 [==============================] - 0s 1ms/step\n",
      "Epoch 878/2000 => loss: 0.001867984188720584, Reward Mean: -0.006000000052154064\n",
      "32/32 [==============================] - 0s 4ms/step\n",
      "Epoch 879/2000 => loss: 0.0020310147665441036, Reward Mean: -0.009000000543892384\n",
      "32/32 [==============================] - 0s 1ms/step\n",
      "Epoch 880/2000 => loss: 0.0014242602046579123, Reward Mean: -0.01400000136345625\n",
      "32/32 [==============================] - 0s 1ms/step\n",
      "Epoch 881/2000 => loss: 0.0017130437772721052, Reward Mean: -0.007000000681728125\n",
      "32/32 [==============================] - 0s 2ms/step\n",
      "Epoch 882/2000 => loss: 0.00308110099285841, Reward Mean: -0.015000001527369022\n",
      "32/32 [==============================] - 0s 2ms/step\n",
      "Epoch 883/2000 => loss: 0.0019730902276933193, Reward Mean: -0.012000000104308128\n",
      "32/32 [==============================] - 0s 1ms/step\n",
      "Epoch 884/2000 => loss: 0.001906430465169251, Reward Mean: 0.0010000005131587386\n",
      "32/32 [==============================] - 0s 1ms/step\n",
      "Epoch 885/2000 => loss: 0.001854279194958508, Reward Mean: -0.012000000104308128\n",
      "32/32 [==============================] - 0s 1ms/step\n",
      "Epoch 886/2000 => loss: 0.001581563614308834, Reward Mean: -0.010999999940395355\n",
      "32/32 [==============================] - 0s 2ms/step\n",
      "Epoch 887/2000 => loss: 0.002365950495004654, Reward Mean: -0.010999999940395355\n",
      "32/32 [==============================] - 0s 1ms/step\n",
      "Epoch 888/2000 => loss: 0.002393113449215889, Reward Mean: -0.012999999336898327\n",
      "32/32 [==============================] - 0s 1ms/step\n",
      "Epoch 889/2000 => loss: 0.0019893471617251635, Reward Mean: -0.015000001527369022\n",
      "32/32 [==============================] - 0s 1ms/step\n",
      "Epoch 890/2000 => loss: 0.0022558923810720444, Reward Mean: -0.014999999664723873\n",
      "32/32 [==============================] - 0s 1ms/step\n",
      "Epoch 891/2000 => loss: 0.0024129950907081366, Reward Mean: -0.009999999776482582\n",
      "32/32 [==============================] - 0s 1ms/step\n",
      "Epoch 892/2000 => loss: 0.001992179546505213, Reward Mean: 0.0029999995604157448\n",
      "32/32 [==============================] - 0s 1ms/step\n",
      "Epoch 893/2000 => loss: 0.001942643546499312, Reward Mean: -0.01900000125169754\n",
      "32/32 [==============================] - 0s 1ms/step\n",
      "Epoch 894/2000 => loss: 0.00216197338886559, Reward Mean: -0.017999999225139618\n",
      "32/32 [==============================] - 0s 1ms/step\n",
      "Epoch 895/2000 => loss: 0.0019814453553408384, Reward Mean: -0.010999999940395355\n",
      "32/32 [==============================] - 0s 2ms/step\n",
      "Epoch 896/2000 => loss: 0.002043740591034293, Reward Mean: -0.014999999664723873\n",
      "32/32 [==============================] - 0s 1ms/step\n",
      "Epoch 897/2000 => loss: 0.0021549381781369448, Reward Mean: -0.014999999664723873\n",
      "32/32 [==============================] - 0s 1ms/step\n",
      "Epoch 898/2000 => loss: 0.0023510742466896772, Reward Mean: -0.0020000000949949026\n",
      "32/32 [==============================] - 0s 1ms/step\n",
      "Epoch 899/2000 => loss: 0.0019822034519165754, Reward Mean: -0.0139999995008111\n",
      "32/32 [==============================] - 0s 1ms/step\n",
      "Epoch 900/2000 => loss: 0.0014979726402089, Reward Mean: -0.00800000037997961\n",
      "32/32 [==============================] - 0s 1ms/step\n",
      "Epoch 901/2000 => loss: 0.0019055558368563652, Reward Mean: -0.004000000189989805\n",
      "32/32 [==============================] - 0s 1ms/step\n",
      "Epoch 902/2000 => loss: 0.0021267523989081383, Reward Mean: -0.009000000543892384\n",
      "32/32 [==============================] - 0s 1ms/step\n",
      "Epoch 903/2000 => loss: 0.001854672096669674, Reward Mean: -0.01400000136345625\n",
      "32/32 [==============================] - 0s 1ms/step\n",
      "Epoch 904/2000 => loss: 0.0016165153356269002, Reward Mean: -0.017000000923871994\n",
      "32/32 [==============================] - 0s 1ms/step\n",
      "Epoch 905/2000 => loss: 0.0017809333512559533, Reward Mean: -0.018000001087784767\n",
      "32/32 [==============================] - 0s 1ms/step\n",
      "Epoch 906/2000 => loss: 0.001722302520647645, Reward Mean: -0.009000000543892384\n",
      "32/32 [==============================] - 0s 1ms/step\n",
      "Epoch 907/2000 => loss: 0.0023036031052470207, Reward Mean: -0.00800000037997961\n",
      "32/32 [==============================] - 0s 1ms/step\n",
      "Epoch 908/2000 => loss: 0.0022575489711016417, Reward Mean: -0.015000001527369022\n",
      "32/32 [==============================] - 0s 1ms/step\n",
      "Epoch 909/2000 => loss: 0.001755894860252738, Reward Mean: -0.013000000268220901\n",
      "32/32 [==============================] - 0s 1ms/step\n",
      "Epoch 910/2000 => loss: 0.002105996711179614, Reward Mean: -0.01400000136345625\n",
      "32/32 [==============================] - 0s 1ms/step\n",
      "Epoch 911/2000 => loss: 0.0020188582129776478, Reward Mean: -0.01600000075995922\n",
      "32/32 [==============================] - 0s 1ms/step\n",
      "Epoch 912/2000 => loss: 0.0024692427832633257, Reward Mean: -0.009000000543892384\n",
      "32/32 [==============================] - 0s 1ms/step\n",
      "Epoch 913/2000 => loss: 0.001850716769695282, Reward Mean: -0.014999999664723873\n",
      "32/32 [==============================] - 0s 1ms/step\n",
      "Epoch 914/2000 => loss: 0.001662008697167039, Reward Mean: -0.007000000681728125\n",
      "32/32 [==============================] - 0s 2ms/step\n",
      "Epoch 915/2000 => loss: 0.0014352785656228662, Reward Mean: -0.00800000037997961\n",
      "32/32 [==============================] - 0s 1ms/step\n",
      "Epoch 916/2000 => loss: 0.0020523262210190296, Reward Mean: -0.0139999995008111\n",
      "32/32 [==============================] - 0s 1ms/step\n",
      "Epoch 917/2000 => loss: 0.0017207718919962645, Reward Mean: -7.450580430390374e-11\n",
      "32/32 [==============================] - 0s 1ms/step\n",
      "Epoch 918/2000 => loss: 0.0015159542672336102, Reward Mean: -0.009999999776482582\n",
      "32/32 [==============================] - 0s 1ms/step\n",
      "Epoch 919/2000 => loss: 0.0018355275969952345, Reward Mean: -0.00699999975040555\n",
      "32/32 [==============================] - 0s 1ms/step\n",
      "Epoch 920/2000 => loss: 0.002358274068683386, Reward Mean: -0.009000000543892384\n",
      "32/32 [==============================] - 0s 1ms/step\n",
      "Epoch 921/2000 => loss: 0.0017131163040176034, Reward Mean: -0.010999999940395355\n",
      "32/32 [==============================] - 0s 1ms/step\n",
      "Epoch 922/2000 => loss: 0.002040786435827613, Reward Mean: -0.007000000681728125\n",
      "32/32 [==============================] - 0s 1ms/step\n",
      "Epoch 923/2000 => loss: 0.0018250680295750499, Reward Mean: -0.010999999940395355\n",
      "32/32 [==============================] - 0s 1ms/step\n",
      "Epoch 924/2000 => loss: 0.0019809699151664972, Reward Mean: -0.009999999776482582\n",
      "32/32 [==============================] - 0s 1ms/step\n",
      "Epoch 925/2000 => loss: 0.0022450750693678856, Reward Mean: -0.013000000268220901\n",
      "32/32 [==============================] - 0s 1ms/step\n",
      "Epoch 926/2000 => loss: 0.0015373185742646456, Reward Mean: -0.01400000136345625\n",
      "32/32 [==============================] - 0s 1ms/step\n",
      "Epoch 927/2000 => loss: 0.0023426362313330173, Reward Mean: -0.007000000681728125\n",
      "32/32 [==============================] - 0s 1ms/step\n",
      "Epoch 928/2000 => loss: 0.0018871382344514132, Reward Mean: 0.004999999888241291\n",
      "32/32 [==============================] - 0s 1ms/step\n",
      "Epoch 929/2000 => loss: 0.002076612086966634, Reward Mean: -0.012000000104308128\n",
      "32/32 [==============================] - 0s 1ms/step\n",
      "Epoch 930/2000 => loss: 0.001959281973540783, Reward Mean: -0.012000000104308128\n",
      "32/32 [==============================] - 0s 1ms/step\n",
      "Epoch 931/2000 => loss: 0.0025343620218336582, Reward Mean: -0.010999999940395355\n",
      "32/32 [==============================] - 0s 1ms/step\n",
      "Epoch 932/2000 => loss: 0.001459317747503519, Reward Mean: -0.007999999448657036\n",
      "32/32 [==============================] - 0s 2ms/step\n",
      "Epoch 933/2000 => loss: 0.002217840636149049, Reward Mean: -0.010999999940395355\n",
      "32/32 [==============================] - 0s 1ms/step\n",
      "Epoch 934/2000 => loss: 0.002082118298858404, Reward Mean: -0.018000001087784767\n",
      "32/32 [==============================] - 0s 1ms/step\n",
      "Epoch 935/2000 => loss: 0.0014891871251165867, Reward Mean: 0.003999999724328518\n",
      "32/32 [==============================] - 0s 2ms/step\n",
      "Epoch 936/2000 => loss: 0.0022902372293174267, Reward Mean: -0.012999999336898327\n",
      "32/32 [==============================] - 0s 1ms/step\n",
      "Epoch 937/2000 => loss: 0.0017432705499231815, Reward Mean: -0.010999999940395355\n",
      "32/32 [==============================] - 0s 1ms/step\n",
      "Epoch 938/2000 => loss: 0.00201071472838521, Reward Mean: -0.01900000125169754\n",
      "32/32 [==============================] - 0s 1ms/step\n",
      "Epoch 939/2000 => loss: 0.0022318053524941206, Reward Mean: -0.017000000923871994\n",
      "32/32 [==============================] - 0s 1ms/step\n",
      "Epoch 940/2000 => loss: 0.0025037883315235376, Reward Mean: -0.014999999664723873\n",
      "32/32 [==============================] - 0s 1ms/step\n",
      "Epoch 941/2000 => loss: 0.0018439425621181726, Reward Mean: -0.006000000052154064\n",
      "32/32 [==============================] - 0s 2ms/step\n",
      "Epoch 942/2000 => loss: 0.0020621628500521183, Reward Mean: -0.014999999664723873\n",
      "32/32 [==============================] - 0s 2ms/step\n",
      "Epoch 943/2000 => loss: 0.002399747958406806, Reward Mean: -0.017999999225139618\n",
      "32/32 [==============================] - 0s 1ms/step\n",
      "Epoch 944/2000 => loss: 0.0019877494778484106, Reward Mean: -0.015000001527369022\n",
      "32/32 [==============================] - 0s 1ms/step\n",
      "Epoch 945/2000 => loss: 0.0023652352392673492, Reward Mean: -0.01400000136345625\n",
      "32/32 [==============================] - 0s 2ms/step\n",
      "Epoch 946/2000 => loss: 0.002068884903565049, Reward Mean: -0.0020000000949949026\n",
      "32/32 [==============================] - 0s 2ms/step\n",
      "Epoch 947/2000 => loss: 0.002256344771012664, Reward Mean: -0.004000000189989805\n",
      "32/32 [==============================] - 0s 1ms/step\n",
      "Epoch 948/2000 => loss: 0.002167987637221813, Reward Mean: -0.019999999552965164\n",
      "32/32 [==============================] - 0s 2ms/step\n",
      "Epoch 949/2000 => loss: 0.0016404060879722238, Reward Mean: -0.0020000000949949026\n",
      "32/32 [==============================] - 0s 2ms/step\n",
      "Epoch 950/2000 => loss: 0.0016797101125121117, Reward Mean: -0.015000001527369022\n",
      "32/32 [==============================] - 0s 2ms/step\n",
      "Epoch 951/2000 => loss: 0.0024006215389817953, Reward Mean: -0.0029999997932463884\n",
      "32/32 [==============================] - 0s 2ms/step\n",
      "Epoch 952/2000 => loss: 0.0022363197058439255, Reward Mean: -0.010999999940395355\n",
      "32/32 [==============================] - 0s 1ms/step\n",
      "Epoch 953/2000 => loss: 0.0018500623991712928, Reward Mean: -0.0010000001639127731\n",
      "32/32 [==============================] - 0s 1ms/step\n",
      "Epoch 954/2000 => loss: 0.002129577798768878, Reward Mean: -0.009000000543892384\n",
      "32/32 [==============================] - 0s 2ms/step\n",
      "Epoch 955/2000 => loss: 0.0018531217938289046, Reward Mean: -0.010999999940395355\n",
      "32/32 [==============================] - 0s 2ms/step\n",
      "Epoch 956/2000 => loss: 0.0027052874211221933, Reward Mean: -0.012999999336898327\n",
      "32/32 [==============================] - 0s 1ms/step\n",
      "Epoch 957/2000 => loss: 0.001882519107311964, Reward Mean: -0.006000000052154064\n",
      "32/32 [==============================] - 0s 1ms/step\n",
      "Epoch 958/2000 => loss: 0.0021328364964574575, Reward Mean: -0.013000000268220901\n",
      "32/32 [==============================] - 0s 2ms/step\n",
      "Epoch 959/2000 => loss: 0.0020451548043638468, Reward Mean: -0.01400000136345625\n",
      "32/32 [==============================] - 0s 2ms/step\n",
      "Epoch 960/2000 => loss: 0.0021140757016837597, Reward Mean: -0.009999999776482582\n"
     ]
    }
   ],
   "source": [
    "DQN_agent.train(env_, ITERATIONS, 1024)"
   ]
  },
  {
   "cell_type": "code",
   "execution_count": null,
   "metadata": {},
   "outputs": [],
   "source": [
    "def DQN_execute(agent, steps, env):\n",
    "    rewards = np.zeros(env.n_boards, dtype=float)\n",
    "    for step in trange(steps):\n",
    "        state = env.to_state()\n",
    "        # Select actions using the DQN agent\n",
    "        actions = agent.select_actions(state).reshape(-1,1)\n",
    "        # Move in the environment and get rewards\n",
    "        rewards = rewards + env_.move(actions)\n",
    "        display_boards(env, 10)\n"
   ]
  },
  {
   "cell_type": "code",
   "execution_count": null,
   "metadata": {},
   "outputs": [],
   "source": [
    "def play(env, agent, steps=1000):\n",
    "    with tf.device('/GPU:0'):\n",
    "        # load the weights\n",
    "        # self.load_weights(WEIGHT_PATH+\"q_model.h5\", WEIGHT_PATH+\"v_model.h5\") \n",
    "        fruits = np.zeros(env.n_boards, dtype=int)\n",
    "\n",
    "        rewards = np.zeros(env.n_boards, dtype=float)[:,None]\n",
    "        for _ in trange(steps):\n",
    "            print(\"iteration: \", _)\n",
    "                # update the coordination of fruits in each board\n",
    "                # fruit_before = np.argwhere(env.boards == env.FRUIT)\n",
    "            state = env.to_state()\n",
    "            actions = agent.select_actions_exploitation(state).reshape(-1, 1)\n",
    "            reward = env.move(actions)\n",
    "                # fruit_after = np.argwhere(env.boards == env.FRUIT)\n",
    "                # diff = [np.array_equal(fruit_before[i], fruit_after[i]) for i in range(env.n_boards)]\n",
    "                # increment the fruit count in boards that have different fruit locations\n",
    "                # fruits = np.array([fruits[i] + 1 if not diff[i] else fruits[i] for i in range(env.n_boards)])\n",
    "                \n",
    "                # print(fruits)\n",
    "\n",
    "            rewards = rewards + reward\n",
    "            print(\"rewards: \", rewards)\n",
    "            display_boards(env, 5)"
   ]
  },
  {
   "cell_type": "code",
   "execution_count": null,
   "metadata": {},
   "outputs": [
    {
     "name": "stderr",
     "output_type": "stream",
     "text": [
      "  0%|          | 0/100 [00:00<?, ?it/s]"
     ]
    },
    {
     "name": "stdout",
     "output_type": "stream",
     "text": [
      "iteration:  0\n"
     ]
    },
    {
     "name": "stderr",
     "output_type": "stream",
     "text": [
      "  2%|▏         | 2/100 [00:00<00:05, 16.86it/s]"
     ]
    },
    {
     "name": "stdout",
     "output_type": "stream",
     "text": [
      "q_values:  [[0.07332955 0.17173319 0.19787274 0.18178153]\n",
      " [0.21605328 0.2538144  0.18006554 0.19592658]]\n",
      "actions:  [2 1]\n",
      "rewards:  tf.Tensor(\n",
      "[[0.]\n",
      " [0.]], shape=(2, 1), dtype=float32)\n",
      "iteration:  1\n",
      "q_values:  [[0.1630514  0.19913374 0.23567791 0.21342033]\n",
      " [0.23470412 0.2807214  0.20228796 0.21885827]]\n",
      "actions:  [2 1]\n",
      "rewards:  tf.Tensor(\n",
      "[[0.]\n",
      " [0.]], shape=(2, 1), dtype=float32)\n",
      "iteration:  2\n",
      "q_values:  [[0.18386713 0.22857797 0.27347884 0.24422164]\n",
      " [0.2758249  0.31540388 0.2364778  0.24018888]]\n",
      "actions:  [2 1]\n",
      "rewards:  tf.Tensor(\n",
      "[[0.]\n",
      " [0.]], shape=(2, 1), dtype=float32)\n",
      "iteration:  3\n"
     ]
    },
    {
     "name": "stderr",
     "output_type": "stream",
     "text": [
      "  4%|▍         | 4/100 [00:00<00:05, 17.75it/s]"
     ]
    },
    {
     "name": "stdout",
     "output_type": "stream",
     "text": [
      "q_values:  [[0.24027975 0.26001328 0.33081713 0.31324774]\n",
      " [0.31323934 0.3278263  0.24356826 0.2823091 ]]\n",
      "actions:  [2 1]\n",
      "rewards:  tf.Tensor(\n",
      "[[0.]\n",
      " [0.]], shape=(2, 1), dtype=float32)\n",
      "iteration:  4\n"
     ]
    },
    {
     "name": "stderr",
     "output_type": "stream",
     "text": [
      "  6%|▌         | 6/100 [00:00<00:05, 17.72it/s]"
     ]
    },
    {
     "name": "stdout",
     "output_type": "stream",
     "text": [
      "q_values:  [[0.27615574 0.3091676  0.41132286 0.3640652 ]\n",
      " [0.37589246 0.34908944 0.29319307 0.30825335]]\n",
      "actions:  [2 0]\n",
      "rewards:  tf.Tensor(\n",
      "[[0.]\n",
      " [0.]], shape=(2, 1), dtype=float32)\n",
      "iteration:  5\n",
      "q_values:  [[0.35676426 0.3827791  0.46181074 0.4330285 ]\n",
      " [0.39118776 0.4210962  0.3408786  0.33586633]]\n",
      "actions:  [2 1]\n",
      "rewards:  tf.Tensor(\n",
      "[[0.]\n",
      " [0.]], shape=(2, 1), dtype=float32)\n",
      "iteration:  6\n",
      "q_values:  [[0.40778068 0.4104713  0.48113155 0.5067295 ]\n",
      " [0.46834102 0.43095997 0.34355104 0.39260167]]\n",
      "actions:  [3 0]\n",
      "rewards:  tf.Tensor(\n",
      "[[0.]\n",
      " [0.]], shape=(2, 1), dtype=float32)\n",
      "iteration:  7\n"
     ]
    },
    {
     "name": "stderr",
     "output_type": "stream",
     "text": [
      "  8%|▊         | 8/100 [00:00<00:05, 17.75it/s]"
     ]
    },
    {
     "name": "stdout",
     "output_type": "stream",
     "text": [
      "q_values:  [[0.44460338 0.4354225  0.5042933  0.5120185 ]\n",
      " [0.48909718 0.4626239  0.43465966 0.44117317]]\n",
      "actions:  [3 0]\n",
      "rewards:  tf.Tensor(\n",
      "[[0.]\n",
      " [0.]], shape=(2, 1), dtype=float32)\n",
      "iteration:  8\n"
     ]
    },
    {
     "name": "stderr",
     "output_type": "stream",
     "text": [
      " 10%|█         | 10/100 [00:00<00:05, 17.90it/s]"
     ]
    },
    {
     "name": "stdout",
     "output_type": "stream",
     "text": [
      "q_values:  [[0.47605902 0.4522897  0.572172   0.4420479 ]\n",
      " [0.4118537  0.5248249  0.41884243 0.43627864]]\n",
      "actions:  [2 1]\n",
      "rewards:  tf.Tensor(\n",
      "[[0.5]\n",
      " [0.5]], shape=(2, 1), dtype=float32)\n",
      "iteration:  9\n",
      "q_values:  [[0.12436113 0.11543419 0.02447861 0.0805418 ]\n",
      " [0.09728719 0.14578658 0.25877753 0.19043057]]\n",
      "actions:  [0 2]\n",
      "rewards:  tf.Tensor(\n",
      "[[0.3]\n",
      " [0.5]], shape=(2, 1), dtype=float32)\n",
      "iteration:  10\n",
      "q_values:  [[0.2120569  0.23596877 0.17275056 0.19588485]\n",
      " [0.16797952 0.2405693  0.32099187 0.3655959 ]]\n",
      "actions:  [1 3]\n",
      "rewards:  tf.Tensor(\n",
      "[[0.3]\n",
      " [0.5]], shape=(2, 1), dtype=float32)\n",
      "iteration:  11\n",
      "q_values:  [[0.23321655 0.2423575  0.19135319 0.20290533]\n",
      " [0.27345234 0.22601755 0.32954872 0.4675898 ]]\n",
      "actions:  [1 3]\n",
      "rewards:  tf.Tensor(\n",
      "[[0.3]\n",
      " [0.5]], shape=(2, 1), dtype=float32)\n"
     ]
    },
    {
     "name": "stderr",
     "output_type": "stream",
     "text": [
      " 12%|█▏        | 12/100 [00:00<00:04, 18.02it/s]"
     ]
    },
    {
     "name": "stdout",
     "output_type": "stream",
     "text": [
      "iteration:  12\n"
     ]
    },
    {
     "name": "stderr",
     "output_type": "stream",
     "text": [
      " 14%|█▍        | 14/100 [00:00<00:04, 18.02it/s]"
     ]
    },
    {
     "name": "stdout",
     "output_type": "stream",
     "text": [
      "q_values:  [[0.27611768 0.25755334 0.19135745 0.21745291]\n",
      " [0.36924627 0.34012923 0.4685237  0.52135986]]\n",
      "actions:  [0 3]\n",
      "rewards:  tf.Tensor(\n",
      "[[0.3]\n",
      " [0.5]], shape=(2, 1), dtype=float32)\n",
      "iteration:  13\n",
      "q_values:  [[0.32966205 0.31460083 0.23428956 0.23488224]\n",
      " [0.40931344 0.33960554 0.5669369  0.53242207]]\n",
      "actions:  [0 2]\n",
      "rewards:  tf.Tensor(\n",
      "[[0.3]\n",
      " [1. ]], shape=(2, 1), dtype=float32)\n",
      "iteration:  14\n",
      "q_values:  [[ 0.41647467  0.3947661   0.30615625  0.32080215]\n",
      " [-0.0932033   0.10155132  0.07341515  0.03199613]]\n",
      "actions:  [0 1]\n",
      "rewards:  tf.Tensor(\n",
      "[[0.3]\n",
      " [1. ]], shape=(2, 1), dtype=float32)\n",
      "iteration:  15\n"
     ]
    },
    {
     "name": "stderr",
     "output_type": "stream",
     "text": [
      " 16%|█▌        | 16/100 [00:00<00:04, 18.15it/s]"
     ]
    },
    {
     "name": "stdout",
     "output_type": "stream",
     "text": [
      "q_values:  [[ 0.45231947  0.47963136  0.3631093   0.36348528]\n",
      " [-0.21167594  0.00385768 -0.05538547 -0.11199067]]\n",
      "actions:  [1 1]\n",
      "rewards:  tf.Tensor(\n",
      "[[0.3]\n",
      " [1. ]], shape=(2, 1), dtype=float32)\n",
      "iteration:  16\n",
      "q_values:  [[ 0.5174271   0.49890083  0.37188047  0.426158  ]\n",
      " [-0.15239313 -0.02153785 -0.04727669 -0.1069613 ]]\n",
      "actions:  [0 1]\n",
      "rewards:  tf.Tensor(\n",
      "[[0.3]\n",
      " [1. ]], shape=(2, 1), dtype=float32)\n",
      "iteration:  17\n"
     ]
    },
    {
     "name": "stderr",
     "output_type": "stream",
     "text": [
      " 18%|█▊        | 18/100 [00:01<00:06, 12.78it/s]C:\\Users\\user\\AppData\\Local\\Temp\\ipykernel_25704\\49746459.py:3: RuntimeWarning: More than 20 figures have been opened. Figures created through the pyplot interface (`matplotlib.pyplot.figure`) are retained until explicitly closed and may consume too much memory. (To control this warning, see the rcParam `figure.max_open_warning`). Consider using `matplotlib.pyplot.close()`.\n",
      "  fig,axs=plt.subplots(1,min(len(env.boards), n), figsize=(10,2))\n",
      " 20%|██        | 20/100 [00:01<00:05, 14.09it/s]"
     ]
    },
    {
     "name": "stdout",
     "output_type": "stream",
     "text": [
      "q_values:  [[ 0.5632037   0.5594179   0.45315948  0.4794252 ]\n",
      " [-0.08333586 -0.07312638 -0.02725757 -0.02982437]]\n",
      "actions:  [0 2]\n",
      "rewards:  tf.Tensor(\n",
      "[[0.3]\n",
      " [1. ]], shape=(2, 1), dtype=float32)\n",
      "iteration:  18\n",
      "q_values:  [[ 0.4663797   0.59466946  0.49402118  0.45438734]\n",
      " [-0.16048728 -0.08130766 -0.04828542  0.06674001]]\n",
      "actions:  [1 3]\n",
      "rewards:  tf.Tensor(\n",
      "[[0.8]\n",
      " [1. ]], shape=(2, 1), dtype=float32)\n",
      "iteration:  19\n",
      "q_values:  [[ 0.02167341  0.11007831  0.13198894  0.05219623]\n",
      " [-0.05832582 -0.04706255 -0.05786172  0.0848625 ]]\n",
      "actions:  [2 3]\n",
      "rewards:  tf.Tensor(\n",
      "[[0.8]\n",
      " [1. ]], shape=(2, 1), dtype=float32)\n",
      "iteration:  20\n",
      "q_values:  [[ 0.04076113  0.11990242  0.11012125  0.11759648]\n",
      " [-0.00954838  0.00821619 -0.00084699  0.11671641]]\n",
      "actions:  [1 3]\n",
      "rewards:  tf.Tensor(\n",
      "[[0.8]\n",
      " [1. ]], shape=(2, 1), dtype=float32)\n",
      "iteration:  21\n"
     ]
    },
    {
     "name": "stderr",
     "output_type": "stream",
     "text": [
      " 24%|██▍       | 24/100 [00:01<00:04, 15.45it/s]"
     ]
    },
    {
     "name": "stdout",
     "output_type": "stream",
     "text": [
      "q_values:  [[ 0.02379261  0.09590451  0.06399153  0.02651482]\n",
      " [-0.00831822 -0.06183985  0.02361998  0.06370161]]\n",
      "actions:  [1 3]\n",
      "rewards:  tf.Tensor(\n",
      "[[0.8]\n",
      " [1. ]], shape=(2, 1), dtype=float32)\n",
      "iteration:  22\n",
      "q_values:  [[0.009434   0.00387396 0.08799814 0.06686518]\n",
      " [0.00226792 0.00398096 0.07616717 0.10540573]]\n",
      "actions:  [2 3]\n",
      "rewards:  tf.Tensor(\n",
      "[[0.8]\n",
      " [1. ]], shape=(2, 1), dtype=float32)\n",
      "iteration:  23\n",
      "q_values:  [[-0.05162835  0.0367395   0.02407544  0.12596604]\n",
      " [ 0.09648057  0.06160649  0.1471      0.1912743 ]]\n",
      "actions:  [3 3]\n",
      "rewards:  tf.Tensor(\n",
      "[[0.8]\n",
      " [1. ]], shape=(2, 1), dtype=float32)\n",
      "iteration:  24\n",
      "q_values:  [[0.10336389 0.01694737 0.09958827 0.1615443 ]\n",
      " [0.09508581 0.04158834 0.14850922 0.12586927]]\n",
      "actions:  [3 2]\n",
      "rewards:  tf.Tensor(\n",
      "[[0.8]\n",
      " [1. ]], shape=(2, 1), dtype=float32)\n",
      "iteration:  25\n"
     ]
    },
    {
     "name": "stderr",
     "output_type": "stream",
     "text": [
      " 28%|██▊       | 28/100 [00:01<00:04, 16.64it/s]"
     ]
    },
    {
     "name": "stdout",
     "output_type": "stream",
     "text": [
      "q_values:  [[0.1433899  0.0494219  0.16885853 0.25031412]\n",
      " [0.10594633 0.26507798 0.37950632 0.2668875 ]]\n",
      "actions:  [3 2]\n",
      "rewards:  tf.Tensor(\n",
      "[[0.8]\n",
      " [1. ]], shape=(2, 1), dtype=float32)\n",
      "iteration:  26\n",
      "q_values:  [[0.12828647 0.05554318 0.26869103 0.25146472]\n",
      " [0.22721756 0.42361632 0.5171288  0.28217956]]\n",
      "actions:  [2 2]\n",
      "rewards:  tf.Tensor(\n",
      "[[0.8]\n",
      " [1. ]], shape=(2, 1), dtype=float32)\n",
      "iteration:  27\n",
      "q_values:  [[0.13461384 0.18327723 0.27683127 0.28948703]\n",
      " [0.3649771  0.43050092 0.57816774 0.31318322]]\n",
      "actions:  [3 2]\n",
      "rewards:  tf.Tensor(\n",
      "[[0.8]\n",
      " [1.5]], shape=(2, 1), dtype=float32)\n",
      "iteration:  28\n",
      "q_values:  [[0.2596569  0.11542539 0.39690974 0.44799334]\n",
      " [0.18424931 0.169329   0.07822158 0.09650885]]\n",
      "actions:  [3 0]\n",
      "rewards:  tf.Tensor(\n",
      "[[0.8]\n",
      " [1.3]], shape=(2, 1), dtype=float32)\n",
      "iteration:  29\n"
     ]
    },
    {
     "name": "stderr",
     "output_type": "stream",
     "text": [
      " 32%|███▏      | 32/100 [00:01<00:04, 16.09it/s]"
     ]
    },
    {
     "name": "stdout",
     "output_type": "stream",
     "text": [
      "q_values:  [[0.26845646 0.23460908 0.4761469  0.44546214]\n",
      " [0.38470653 0.36618134 0.27838692 0.2853844 ]]\n",
      "actions:  [2 0]\n",
      "rewards:  tf.Tensor(\n",
      "[[0.8]\n",
      " [1.3]], shape=(2, 1), dtype=float32)\n",
      "iteration:  30\n",
      "q_values:  [[0.42365056 0.41753113 0.5828526  0.5343756 ]\n",
      " [0.44844693 0.45540714 0.32887045 0.35396037]]\n",
      "actions:  [2 1]\n",
      "rewards:  tf.Tensor(\n",
      "[[0.8]\n",
      " [1.3]], shape=(2, 1), dtype=float32)\n",
      "iteration:  31\n",
      "q_values:  [[0.45515794 0.38248664 0.43235496 0.5903183 ]\n",
      " [0.5305304  0.4190484  0.382159   0.4328861 ]]\n",
      "actions:  [3 0]\n",
      "rewards:  tf.Tensor(\n",
      "[[1.3]\n",
      " [1.3]], shape=(2, 1), dtype=float32)\n",
      "iteration:  32\n",
      "q_values:  [[0.30774054 0.21563344 0.10805825 0.2332319 ]\n",
      " [0.59201074 0.46443513 0.42552167 0.4599074 ]]\n",
      "actions:  [0 0]\n",
      "rewards:  tf.Tensor(\n",
      "[[1.3]\n",
      " [1.8]], shape=(2, 1), dtype=float32)\n",
      "iteration:  33\n"
     ]
    },
    {
     "name": "stderr",
     "output_type": "stream",
     "text": [
      " 36%|███▌      | 36/100 [00:02<00:03, 16.98it/s]"
     ]
    },
    {
     "name": "stdout",
     "output_type": "stream",
     "text": [
      "q_values:  [[0.2641733  0.21452413 0.08793425 0.15894976]\n",
      " [0.3249474  0.3242936  0.40936026 0.4743208 ]]\n",
      "actions:  [0 3]\n",
      "rewards:  tf.Tensor(\n",
      "[[1.3]\n",
      " [1.8]], shape=(2, 1), dtype=float32)\n",
      "iteration:  34\n",
      "q_values:  [[0.28319094 0.17414424 0.1407752  0.17686155]\n",
      " [0.3405756  0.26973155 0.475119   0.46327657]]\n",
      "actions:  [0 2]\n",
      "rewards:  tf.Tensor(\n",
      "[[1.8]\n",
      " [1.8]], shape=(2, 1), dtype=float32)\n",
      "iteration:  35\n",
      "q_values:  [[0.2060347  0.14151645 0.21318506 0.20536402]\n",
      " [0.34921962 0.40844992 0.512781   0.5857124 ]]\n",
      "actions:  [2 3]\n",
      "rewards:  tf.Tensor(\n",
      "[[1.5999999]\n",
      " [2.3      ]], shape=(2, 1), dtype=float32)\n",
      "iteration:  36\n",
      "q_values:  [[ 0.31629953  0.36155283  0.4460456   0.360129  ]\n",
      " [ 0.05615139  0.10001715  0.10144552 -0.03671652]]\n",
      "actions:  [2 2]\n",
      "rewards:  tf.Tensor(\n",
      "[[1.5999999]\n",
      " [2.3      ]], shape=(2, 1), dtype=float32)\n",
      "iteration:  37\n"
     ]
    },
    {
     "name": "stderr",
     "output_type": "stream",
     "text": [
      " 40%|████      | 40/100 [00:02<00:03, 17.41it/s]"
     ]
    },
    {
     "name": "stdout",
     "output_type": "stream",
     "text": [
      "q_values:  [[ 0.39087236  0.39485794  0.5037114   0.4532255 ]\n",
      " [ 0.01697272  0.15551458  0.19587453 -0.01180043]]\n",
      "actions:  [2 2]\n",
      "rewards:  tf.Tensor(\n",
      "[[1.5999999]\n",
      " [2.3      ]], shape=(2, 1), dtype=float32)\n",
      "iteration:  38\n",
      "q_values:  [[ 0.4602072   0.4579563   0.5370384   0.5132453 ]\n",
      " [-0.01304062  0.12773243  0.01717259 -0.13397309]]\n",
      "actions:  [2 1]\n",
      "rewards:  tf.Tensor(\n",
      "[[1.5999999]\n",
      " [2.3      ]], shape=(2, 1), dtype=float32)\n",
      "iteration:  39\n",
      "q_values:  [[ 0.46546423  0.5136239   0.4591419   0.546348  ]\n",
      " [ 0.10693392  0.20426999  0.05581109 -0.0752242 ]]\n",
      "actions:  [3 1]\n",
      "rewards:  tf.Tensor(\n",
      "[[2.1]\n",
      " [2.3]], shape=(2, 1), dtype=float32)\n",
      "iteration:  40\n",
      "q_values:  [[0.20069769 0.06954445 0.03703773 0.03636779]\n",
      " [0.07517239 0.2288265  0.06469892 0.03512597]]\n",
      "actions:  [0 1]\n",
      "rewards:  tf.Tensor(\n",
      "[[2.1]\n",
      " [2.3]], shape=(2, 1), dtype=float32)\n",
      "iteration:  41\n"
     ]
    },
    {
     "name": "stderr",
     "output_type": "stream",
     "text": [
      " 44%|████▍     | 44/100 [00:02<00:03, 17.88it/s]"
     ]
    },
    {
     "name": "stdout",
     "output_type": "stream",
     "text": [
      "q_values:  [[ 0.20942618  0.18126078 -0.01726807  0.06820704]\n",
      " [ 0.1468061   0.25209993  0.03104058  0.02879861]]\n",
      "actions:  [0 1]\n",
      "rewards:  tf.Tensor(\n",
      "[[2.1]\n",
      " [2.3]], shape=(2, 1), dtype=float32)\n",
      "iteration:  42\n",
      "q_values:  [[0.21444269 0.23230626 0.04366168 0.09475835]\n",
      " [0.1622111  0.4479542  0.14029562 0.11580998]]\n",
      "actions:  [1 1]\n",
      "rewards:  tf.Tensor(\n",
      "[[2.1]\n",
      " [2.3]], shape=(2, 1), dtype=float32)\n",
      "iteration:  43\n",
      "q_values:  [[0.22873497 0.27231824 0.11929441 0.04243846]\n",
      " [0.27236742 0.52888244 0.19084957 0.18357797]]\n",
      "actions:  [1 1]\n",
      "rewards:  tf.Tensor(\n",
      "[[2.1]\n",
      " [2.3]], shape=(2, 1), dtype=float32)\n",
      "iteration:  44\n",
      "q_values:  [[0.32711738 0.2632508  0.15057491 0.16485193]\n",
      " [0.28789487 0.5546547  0.1923946  0.26518646]]\n",
      "actions:  [0 1]\n",
      "rewards:  tf.Tensor(\n",
      "[[2.1]\n",
      " [2.8]], shape=(2, 1), dtype=float32)\n",
      "iteration:  45\n"
     ]
    },
    {
     "name": "stderr",
     "output_type": "stream",
     "text": [
      " 48%|████▊     | 48/100 [00:02<00:02, 18.13it/s]"
     ]
    },
    {
     "name": "stdout",
     "output_type": "stream",
     "text": [
      "q_values:  [[ 0.34578502  0.38913554  0.19715098  0.2733377 ]\n",
      " [-0.17165317 -0.0632166  -0.17063038 -0.08311526]]\n",
      "actions:  [1 1]\n",
      "rewards:  tf.Tensor(\n",
      "[[2.1]\n",
      " [2.7]], shape=(2, 1), dtype=float32)\n",
      "iteration:  46\n",
      "q_values:  [[ 0.43190074  0.42352843  0.31809974  0.28617576]\n",
      " [-0.07520506 -0.02206442 -0.0519391   0.03774539]]\n",
      "actions:  [0 3]\n",
      "rewards:  tf.Tensor(\n",
      "[[2.1]\n",
      " [2.5]], shape=(2, 1), dtype=float32)\n",
      "iteration:  47\n",
      "q_values:  [[0.48190507 0.54678315 0.34399736 0.38446444]\n",
      " [0.07157957 0.03585541 0.09048337 0.17244926]]\n",
      "actions:  [1 3]\n",
      "rewards:  tf.Tensor(\n",
      "[[2.1]\n",
      " [2.5]], shape=(2, 1), dtype=float32)\n",
      "iteration:  48\n",
      "q_values:  [[0.50613266 0.49874634 0.35533944 0.3498346 ]\n",
      " [0.09815177 0.00071545 0.08517104 0.21587895]]\n",
      "actions:  [0 3]\n",
      "rewards:  tf.Tensor(\n",
      "[[2.6]\n",
      " [2.5]], shape=(2, 1), dtype=float32)\n",
      "iteration:  49\n"
     ]
    },
    {
     "name": "stderr",
     "output_type": "stream",
     "text": [
      " 52%|█████▏    | 52/100 [00:03<00:03, 14.22it/s]"
     ]
    },
    {
     "name": "stdout",
     "output_type": "stream",
     "text": [
      "q_values:  [[0.0266092  0.18506476 0.11968092 0.07312053]\n",
      " [0.1474917  0.00171536 0.11472548 0.2214785 ]]\n",
      "actions:  [1 3]\n",
      "rewards:  tf.Tensor(\n",
      "[[2.6]\n",
      " [2.5]], shape=(2, 1), dtype=float32)\n",
      "iteration:  50\n",
      "q_values:  [[-0.03807728  0.15452954  0.1433598   0.0500285 ]\n",
      " [ 0.24980727  0.08049099  0.17286491  0.29754913]]\n",
      "actions:  [1 3]\n",
      "rewards:  tf.Tensor(\n",
      "[[2.6]\n",
      " [2.5]], shape=(2, 1), dtype=float32)\n",
      "iteration:  51\n",
      "q_values:  [[-0.06266247  0.11245935  0.12923141 -0.0116393 ]\n",
      " [ 0.30112377  0.10638103  0.17249708  0.2758992 ]]\n",
      "actions:  [2 0]\n",
      "rewards:  tf.Tensor(\n",
      "[[2.6]\n",
      " [2.5]], shape=(2, 1), dtype=float32)\n",
      "iteration:  52\n",
      "q_values:  [[0.07227774 0.20170324 0.26339003 0.16322728]\n",
      " [0.36288613 0.26595455 0.14220072 0.31017202]]\n",
      "actions:  [2 0]\n",
      "rewards:  tf.Tensor(\n",
      "[[2.6]\n",
      " [2.5]], shape=(2, 1), dtype=float32)\n",
      "iteration:  53\n"
     ]
    },
    {
     "name": "stderr",
     "output_type": "stream",
     "text": [
      " 56%|█████▌    | 56/100 [00:03<00:02, 16.12it/s]"
     ]
    },
    {
     "name": "stdout",
     "output_type": "stream",
     "text": [
      "q_values:  [[0.1844011  0.26533407 0.3682672  0.2775805 ]\n",
      " [0.4592636  0.35767797 0.2516187  0.4464355 ]]\n",
      "actions:  [2 0]\n",
      "rewards:  tf.Tensor(\n",
      "[[3.1]\n",
      " [2.5]], shape=(2, 1), dtype=float32)\n",
      "iteration:  54\n",
      "q_values:  [[-0.04207286 -0.0122233  -0.09801233 -0.01231008]\n",
      " [ 0.37489733  0.3031276   0.32938427  0.49285144]]\n",
      "actions:  [1 3]\n",
      "rewards:  tf.Tensor(\n",
      "[[3.1]\n",
      " [3. ]], shape=(2, 1), dtype=float32)\n",
      "iteration:  55\n",
      "q_values:  [[-0.06021044 -0.1185714  -0.19837576 -0.04694678]\n",
      " [ 0.45208547  0.25787327  0.3219117   0.37920195]]\n",
      "actions:  [3 0]\n",
      "rewards:  tf.Tensor(\n",
      "[[2.8999999]\n",
      " [3.5      ]], shape=(2, 1), dtype=float32)\n",
      "iteration:  56\n",
      "q_values:  [[ 0.25176167  0.20314479  0.17100528  0.22794254]\n",
      " [-0.01180981 -0.04362322 -0.05671149 -0.0140735 ]]\n",
      "actions:  [0 0]\n",
      "rewards:  tf.Tensor(\n",
      "[[2.8999999]\n",
      " [3.5      ]], shape=(2, 1), dtype=float32)\n",
      "iteration:  57\n"
     ]
    },
    {
     "name": "stderr",
     "output_type": "stream",
     "text": [
      " 60%|██████    | 60/100 [00:03<00:02, 17.27it/s]"
     ]
    },
    {
     "name": "stdout",
     "output_type": "stream",
     "text": [
      "q_values:  [[ 0.27574596  0.22203468  0.19917     0.28456268]\n",
      " [-0.10261089 -0.10001863 -0.1680977  -0.04170261]]\n",
      "actions:  [3 3]\n",
      "rewards:  tf.Tensor(\n",
      "[[2.8999999]\n",
      " [3.5      ]], shape=(2, 1), dtype=float32)\n",
      "iteration:  58\n",
      "q_values:  [[ 0.3199703   0.2604191   0.22172406  0.29231036]\n",
      " [-0.11413649 -0.09956552 -0.10446694 -0.1274985 ]]\n",
      "actions:  [0 1]\n",
      "rewards:  tf.Tensor(\n",
      "[[2.8999999]\n",
      " [3.3      ]], shape=(2, 1), dtype=float32)\n",
      "iteration:  59\n",
      "q_values:  [[0.3630658  0.29896715 0.2643777  0.35981473]\n",
      " [0.19270279 0.2531781  0.20469463 0.18549106]]\n",
      "actions:  [0 1]\n",
      "rewards:  tf.Tensor(\n",
      "[[2.8999999]\n",
      " [3.3      ]], shape=(2, 1), dtype=float32)\n",
      "iteration:  60\n",
      "q_values:  [[0.4273448  0.33223403 0.32025436 0.40714502]\n",
      " [0.19583388 0.2788878  0.21431643 0.19427653]]\n",
      "actions:  [0 1]\n",
      "rewards:  tf.Tensor(\n",
      "[[2.8999999]\n",
      " [3.3      ]], shape=(2, 1), dtype=float32)\n",
      "iteration:  61\n",
      "q_values:  [[0.4697263  0.36858884 0.37814373 0.47630414]\n",
      " [0.24907537 0.3428568  0.2757222  0.2297107 ]]\n",
      "actions:  [3 1]\n",
      "rewards:  tf.Tensor(\n",
      "[[2.8999999]\n",
      " [3.3      ]], shape=(2, 1), dtype=float32)\n"
     ]
    },
    {
     "name": "stderr",
     "output_type": "stream",
     "text": [
      " 64%|██████▍   | 64/100 [00:03<00:01, 18.03it/s]"
     ]
    },
    {
     "name": "stdout",
     "output_type": "stream",
     "text": [
      "iteration:  62\n",
      "q_values:  [[0.5806089  0.45846742 0.44880936 0.49508762]\n",
      " [0.3218437  0.41309407 0.3271884  0.2863866 ]]\n",
      "actions:  [0 1]\n",
      "rewards:  tf.Tensor(\n",
      "[[3.3999999]\n",
      " [3.3      ]], shape=(2, 1), dtype=float32)\n",
      "iteration:  63\n",
      "q_values:  [[0.25499803 0.41401473 0.29880908 0.29492354]\n",
      " [0.4081448  0.47082105 0.39979076 0.34838465]]\n",
      "actions:  [1 1]\n",
      "rewards:  tf.Tensor(\n",
      "[[3.3999999]\n",
      " [3.3      ]], shape=(2, 1), dtype=float32)\n",
      "iteration:  64\n",
      "q_values:  [[0.21819088 0.31788817 0.45514107 0.23548795]\n",
      " [0.48909718 0.4626239  0.43465966 0.44117317]]\n",
      "actions:  [2 0]\n",
      "rewards:  tf.Tensor(\n",
      "[[3.3999999]\n",
      " [3.3      ]], shape=(2, 1), dtype=float32)\n",
      "iteration:  65\n",
      "q_values:  [[0.34725708 0.4896356  0.45285562 0.36400446]\n",
      " [0.4118537  0.5248249  0.41884243 0.43627864]]\n",
      "actions:  [1 1]\n"
     ]
    },
    {
     "name": "stderr",
     "output_type": "stream",
     "text": [
      " 68%|██████▊   | 68/100 [00:04<00:01, 18.36it/s]"
     ]
    },
    {
     "name": "stdout",
     "output_type": "stream",
     "text": [
      "rewards:  tf.Tensor(\n",
      "[[3.8999999]\n",
      " [3.8      ]], shape=(2, 1), dtype=float32)\n",
      "iteration:  66\n",
      "q_values:  [[-0.00312559  0.07853567  0.09700528  0.06070651]\n",
      " [ 0.12691526  0.1618164   0.29899684  0.2823069 ]]\n",
      "actions:  [2 2]\n",
      "rewards:  tf.Tensor(\n",
      "[[3.8999999]\n",
      " [3.8      ]], shape=(2, 1), dtype=float32)\n",
      "iteration:  67\n",
      "q_values:  [[0.01860023 0.15621744 0.20177463 0.16670255]\n",
      " [0.15008143 0.20880659 0.31728405 0.38574108]]\n",
      "actions:  [2 3]\n",
      "rewards:  tf.Tensor(\n",
      "[[3.8999999]\n",
      " [3.8      ]], shape=(2, 1), dtype=float32)\n",
      "iteration:  68\n",
      "q_values:  [[-0.02175281  0.1862745   0.17011201  0.15377001]\n",
      " [ 0.30309513  0.19594827  0.31129506  0.49832383]]\n",
      "actions:  [1 3]\n",
      "rewards:  tf.Tensor(\n",
      "[[3.8999999]\n",
      " [3.8      ]], shape=(2, 1), dtype=float32)\n",
      "iteration:  69\n",
      "q_values:  [[0.12275667 0.13857621 0.15750504 0.21758457]\n",
      " [0.434986   0.35975948 0.3980631  0.5723875 ]]\n",
      "actions:  [3 3]\n",
      "rewards:  tf.Tensor(\n",
      "[[3.6999998]\n",
      " [4.3      ]], shape=(2, 1), dtype=float32)\n"
     ]
    },
    {
     "name": "stderr",
     "output_type": "stream",
     "text": [
      " 72%|███████▏  | 72/100 [00:04<00:01, 18.44it/s]"
     ]
    },
    {
     "name": "stdout",
     "output_type": "stream",
     "text": [
      "iteration:  70\n",
      "q_values:  [[0.3184173  0.3769874  0.47514397 0.4403493 ]\n",
      " [0.14770639 0.04717699 0.15722138 0.23586345]]\n",
      "actions:  [2 3]\n",
      "rewards:  tf.Tensor(\n",
      "[[3.6999998]\n",
      " [4.3      ]], shape=(2, 1), dtype=float32)\n",
      "iteration:  71\n",
      "q_values:  [[0.39789197 0.41577065 0.54406387 0.5126654 ]\n",
      " [0.15307562 0.16785671 0.33714208 0.3131409 ]]\n",
      "actions:  [2 2]\n",
      "rewards:  tf.Tensor(\n",
      "[[3.6999998]\n",
      " [4.3      ]], shape=(2, 1), dtype=float32)\n",
      "iteration:  72\n",
      "q_values:  [[0.5032933  0.42179206 0.45577744 0.60517734]\n",
      " [0.17750995 0.43787485 0.43018436 0.43428063]]\n",
      "actions:  [3 1]\n",
      "rewards:  tf.Tensor(\n",
      "[[4.2]\n",
      " [4.3]], shape=(2, 1), dtype=float32)\n",
      "iteration:  73\n"
     ]
    },
    {
     "name": "stderr",
     "output_type": "stream",
     "text": [
      " 76%|███████▌  | 76/100 [00:04<00:01, 18.59it/s]"
     ]
    },
    {
     "name": "stdout",
     "output_type": "stream",
     "text": [
      "q_values:  [[0.47043958 0.3558515  0.39912602 0.48537776]\n",
      " [0.07860938 0.31723836 0.34388697 0.30841923]]\n",
      "actions:  [3 2]\n",
      "rewards:  tf.Tensor(\n",
      "[[4.2]\n",
      " [4.3]], shape=(2, 1), dtype=float32)\n",
      "iteration:  74\n",
      "q_values:  [[0.41739148 0.404618   0.39371938 0.37068808]\n",
      " [0.19163084 0.21334298 0.30559316 0.3938958 ]]\n",
      "actions:  [0 3]\n",
      "rewards:  tf.Tensor(\n",
      "[[4.2]\n",
      " [4.3]], shape=(2, 1), dtype=float32)\n",
      "iteration:  75\n",
      "q_values:  [[0.3834382  0.5191325  0.30431286 0.35989094]\n",
      " [0.3703457  0.24924798 0.32145202 0.45974773]]\n",
      "actions:  [1 3]\n",
      "rewards:  tf.Tensor(\n",
      "[[4.7]\n",
      " [4.8]], shape=(2, 1), dtype=float32)\n",
      "iteration:  76\n",
      "q_values:  [[0.04207272 0.23098817 0.2627423  0.15716666]\n",
      " [0.12085456 0.2292923  0.1566521  0.14299808]]\n",
      "actions:  [2 1]\n",
      "rewards:  tf.Tensor(\n",
      "[[4.7      ]\n",
      " [4.6000004]], shape=(2, 1), dtype=float32)\n",
      "iteration:  77\n"
     ]
    },
    {
     "name": "stderr",
     "output_type": "stream",
     "text": [
      " 80%|████████  | 80/100 [00:04<00:01, 18.61it/s]"
     ]
    },
    {
     "name": "stdout",
     "output_type": "stream",
     "text": [
      "q_values:  [[0.03173975 0.17669444 0.28834367 0.18978743]\n",
      " [0.4525295  0.5324887  0.38421184 0.3872868 ]]\n",
      "actions:  [2 1]\n",
      "rewards:  tf.Tensor(\n",
      "[[4.7      ]\n",
      " [4.6000004]], shape=(2, 1), dtype=float32)\n",
      "iteration:  78\n",
      "q_values:  [[0.06365838 0.27927813 0.24752383 0.19769217]\n",
      " [0.5397861  0.5673266  0.43058935 0.48589337]]\n",
      "actions:  [1 1]\n",
      "rewards:  tf.Tensor(\n",
      "[[4.7      ]\n",
      " [4.6000004]], shape=(2, 1), dtype=float32)\n",
      "iteration:  79\n",
      "q_values:  [[0.03237379 0.18591332 0.09388985 0.17561561]\n",
      " [0.6052703  0.49502373 0.43972906 0.5363112 ]]\n",
      "actions:  [1 0]\n",
      "rewards:  tf.Tensor(\n",
      "[[4.7      ]\n",
      " [5.1000004]], shape=(2, 1), dtype=float32)\n",
      "iteration:  80\n",
      "q_values:  [[0.08471679 0.12848449 0.15569879 0.27562386]\n",
      " [0.28566742 0.44420773 0.38473472 0.3028028 ]]\n",
      "actions:  [3 1]\n",
      "rewards:  tf.Tensor(\n",
      "[[4.5      ]\n",
      " [5.1000004]], shape=(2, 1), dtype=float32)\n",
      "iteration:  81\n"
     ]
    },
    {
     "name": "stderr",
     "output_type": "stream",
     "text": [
      " 84%|████████▍ | 84/100 [00:04<00:00, 18.46it/s]"
     ]
    },
    {
     "name": "stdout",
     "output_type": "stream",
     "text": [
      "q_values:  [[0.31564003 0.26741567 0.3139933  0.40150872]\n",
      " [0.25443387 0.4857933  0.4527796  0.2956432 ]]\n",
      "actions:  [3 1]\n",
      "rewards:  tf.Tensor(\n",
      "[[4.5      ]\n",
      " [5.1000004]], shape=(2, 1), dtype=float32)\n",
      "iteration:  82\n",
      "q_values:  [[0.40724227 0.35684314 0.42654863 0.4871841 ]\n",
      " [0.28666052 0.3720023  0.5466043  0.36575487]]\n",
      "actions:  [3 2]\n",
      "rewards:  tf.Tensor(\n",
      "[[4.5      ]\n",
      " [5.6000004]], shape=(2, 1), dtype=float32)\n",
      "iteration:  83\n",
      "q_values:  [[ 0.44148085  0.41708022  0.5404537   0.5729296 ]\n",
      " [-0.04687074  0.12164178  0.18189879  0.16842663]]\n",
      "actions:  [3 2]\n",
      "rewards:  tf.Tensor(\n",
      "[[4.5      ]\n",
      " [5.6000004]], shape=(2, 1), dtype=float32)\n",
      "iteration:  84\n",
      "q_values:  [[ 0.4627325   0.50832     0.57721645  0.58591443]\n",
      " [-0.02896763  0.27315968  0.22752197  0.22486766]]\n",
      "actions:  [3 1]\n",
      "rewards:  tf.Tensor(\n",
      "[[4.5      ]\n",
      " [5.5000005]], shape=(2, 1), dtype=float32)\n",
      "iteration:  85\n"
     ]
    },
    {
     "name": "stderr",
     "output_type": "stream",
     "text": [
      " 88%|████████▊ | 88/100 [00:05<00:00, 18.60it/s]"
     ]
    },
    {
     "name": "stdout",
     "output_type": "stream",
     "text": [
      "q_values:  [[0.51777864 0.5387674  0.5519471  0.5167261 ]\n",
      " [0.15424371 0.3307487  0.37832236 0.31445006]]\n",
      "actions:  [2 2]\n",
      "rewards:  tf.Tensor(\n",
      "[[5.       ]\n",
      " [5.5000005]], shape=(2, 1), dtype=float32)\n",
      "iteration:  86\n",
      "q_values:  [[0.1412453  0.18891573 0.08792777 0.15963876]\n",
      " [0.32432774 0.4343385  0.49333432 0.51930857]]\n",
      "actions:  [1 3]\n",
      "rewards:  tf.Tensor(\n",
      "[[5.       ]\n",
      " [5.5000005]], shape=(2, 1), dtype=float32)\n",
      "iteration:  87\n",
      "q_values:  [[0.21021168 0.15513566 0.12251611 0.15881167]\n",
      " [0.32068494 0.4276526  0.43991745 0.49088898]]\n",
      "actions:  [0 3]\n",
      "rewards:  tf.Tensor(\n",
      "[[5.       ]\n",
      " [5.5000005]], shape=(2, 1), dtype=float32)\n",
      "iteration:  88\n",
      "q_values:  [[0.2600229  0.17783314 0.10637942 0.22713679]\n",
      " [0.37305018 0.45622498 0.5056252  0.45902914]]\n",
      "actions:  [0 2]\n",
      "rewards:  tf.Tensor(\n",
      "[[5.       ]\n",
      " [5.5000005]], shape=(2, 1), dtype=float32)\n",
      "iteration:  89\n",
      "q_values:  [[0.3192988  0.28429285 0.11816648 0.2624855 ]\n",
      " [0.26403442 0.5258195  0.35011622 0.31147704]]\n",
      "actions:  [0 1]\n",
      "rewards:  tf.Tensor(\n",
      "[[5.       ]\n",
      " [5.5000005]], shape=(2, 1), dtype=float32)\n"
     ]
    },
    {
     "name": "stderr",
     "output_type": "stream",
     "text": [
      " 90%|█████████ | 90/100 [00:05<00:00, 18.59it/s]"
     ]
    },
    {
     "name": "stdout",
     "output_type": "stream",
     "text": [
      "iteration:  90\n",
      "q_values:  [[0.4464003  0.33717105 0.23394403 0.36298645]\n",
      " [0.1634761  0.5024046  0.21831733 0.22132567]]\n",
      "actions:  [0 1]\n",
      "rewards:  tf.Tensor(\n",
      "[[5.       ]\n",
      " [6.0000005]], shape=(2, 1), dtype=float32)\n"
     ]
    },
    {
     "name": "stderr",
     "output_type": "stream",
     "text": [
      " 94%|█████████▍| 94/100 [00:05<00:00, 13.66it/s]"
     ]
    },
    {
     "name": "stdout",
     "output_type": "stream",
     "text": [
      "iteration:  91\n",
      "q_values:  [[ 0.56809694  0.42332876  0.32578763  0.44011584]\n",
      " [-0.08350582 -0.0427687  -0.07609106  0.02113342]]\n",
      "actions:  [0 3]\n",
      "rewards:  tf.Tensor(\n",
      "[[5.5      ]\n",
      " [5.8000007]], shape=(2, 1), dtype=float32)\n",
      "iteration:  92\n",
      "q_values:  [[-0.01056115  0.14014904  0.02532268  0.05271514]\n",
      " [ 0.28690615  0.24723834  0.23147891  0.29231855]]\n",
      "actions:  [1 3]\n",
      "rewards:  tf.Tensor(\n",
      "[[5.5      ]\n",
      " [5.8000007]], shape=(2, 1), dtype=float32)\n",
      "iteration:  93\n",
      "q_values:  [[-0.02881656  0.19327402  0.0847214  -0.01044862]\n",
      " [ 0.31331834  0.2624558   0.24373175  0.29484594]]\n",
      "actions:  [1 0]\n",
      "rewards:  tf.Tensor(\n",
      "[[5.5      ]\n",
      " [5.8000007]], shape=(2, 1), dtype=float32)\n",
      "iteration:  94\n",
      "q_values:  [[-0.06285942  0.11093356  0.05023247 -0.008702  ]\n",
      " [ 0.4084013   0.31569797  0.27744865  0.37572268]]\n",
      "actions:  [1 0]\n",
      "rewards:  tf.Tensor(\n",
      "[[5.5      ]\n",
      " [5.8000007]], shape=(2, 1), dtype=float32)\n",
      "iteration:  95\n"
     ]
    },
    {
     "name": "stderr",
     "output_type": "stream",
     "text": [
      " 98%|█████████▊| 98/100 [00:05<00:00, 15.76it/s]"
     ]
    },
    {
     "name": "stdout",
     "output_type": "stream",
     "text": [
      "q_values:  [[-0.02484999  0.11447197  0.09193831  0.0045889 ]\n",
      " [ 0.45332232  0.36242864  0.33719847  0.44685307]]\n",
      "actions:  [1 0]\n",
      "rewards:  tf.Tensor(\n",
      "[[5.5      ]\n",
      " [5.8000007]], shape=(2, 1), dtype=float32)\n",
      "iteration:  96\n",
      "q_values:  [[0.02880315 0.12624349 0.15774642 0.07575237]\n",
      " [0.47788143 0.3652673  0.39338642 0.53568554]]\n",
      "actions:  [2 3]\n",
      "rewards:  tf.Tensor(\n",
      "[[5.5      ]\n",
      " [5.8000007]], shape=(2, 1), dtype=float32)\n",
      "iteration:  97\n",
      "q_values:  [[0.01632046 0.21856013 0.27757412 0.26101494]\n",
      " [0.5694499  0.40239906 0.42602777 0.5880786 ]]\n",
      "actions:  [2 3]\n",
      "rewards:  tf.Tensor(\n",
      "[[5.5      ]\n",
      " [5.8000007]], shape=(2, 1), dtype=float32)\n",
      "iteration:  98\n",
      "q_values:  [[0.07768106 0.35794377 0.25155586 0.3332189 ]\n",
      " [0.67007494 0.5127143  0.44416845 0.5224906 ]]\n",
      "actions:  [1 0]\n",
      "rewards:  tf.Tensor(\n",
      "[[5.4      ]\n",
      " [6.3000007]], shape=(2, 1), dtype=float32)\n",
      "iteration:  99\n"
     ]
    },
    {
     "name": "stderr",
     "output_type": "stream",
     "text": [
      "100%|██████████| 100/100 [00:05<00:00, 16.71it/s]\n"
     ]
    },
    {
     "name": "stdout",
     "output_type": "stream",
     "text": [
      "q_values:  [[0.26628053 0.40516195 0.39650664 0.39761943]\n",
      " [0.12463736 0.15547496 0.10064245 0.16820559]]\n",
      "actions:  [1 3]\n",
      "rewards:  tf.Tensor(\n",
      "[[5.3      ]\n",
      " [6.3000007]], shape=(2, 1), dtype=float32)\n"
     ]
    },
    {
     "data": {
      "image/png": "[encoded data removed]",
      "text/plain": [
       "<Figure size 1000x200 with 2 Axes>"
      ]
     },
     "metadata": {},
     "output_type": "display_data"
    },
    {
     "data": {
      "image/png": "[encoded data removed]",
      "text/plain": [
       "<Figure size 1000x200 with 2 Axes>"
      ]
     },
     "metadata": {},
     "output_type": "display_data"
    },
    {
     "data": {
      "image/png": "[encoded data removed]",
      "text/plain": [
       "<Figure size 1000x200 with 2 Axes>"
      ]
     },
     "metadata": {},
     "output_type": "display_data"
    },
    {
     "data": {
      "image/png": "[encoded data removed]",
      "text/plain": [
       "<Figure size 1000x200 with 2 Axes>"
      ]
     },
     "metadata": {},
     "output_type": "display_data"
    },
    {
     "data": {
      "image/png": "[encoded data removed]",
      "text/plain": [
       "<Figure size 1000x200 with 2 Axes>"
      ]
     },
     "metadata": {},
     "output_type": "display_data"
    },
    {
     "data": {
      "image/png": "[encoded data removed]",
      "text/plain": [
       "<Figure size 1000x200 with 2 Axes>"
      ]
     },
     "metadata": {},
     "output_type": "display_data"
    },
    {
     "data": {
      "image/png": "[encoded data removed]",
      "text/plain": [
       "<Figure size 1000x200 with 2 Axes>"
      ]
     },
     "metadata": {},
     "output_type": "display_data"
    },
    {
     "data": {
      "image/png": "[encoded data removed]",
      "text/plain": [
       "<Figure size 1000x200 with 2 Axes>"
      ]
     },
     "metadata": {},
     "output_type": "display_data"
    },
    {
     "data": {
      "image/png": "[encoded data removed]",
      "text/plain": [
       "<Figure size 1000x200 with 2 Axes>"
      ]
     },
     "metadata": {},
     "output_type": "display_data"
    },
    {
     "data": {
      "image/png": "[encoded data removed]",
      "text/plain": [
       "<Figure size 1000x200 with 2 Axes>"
      ]
     },
     "metadata": {},
     "output_type": "display_data"
    },
    {
     "data": {
      "image/png": "[encoded data removed]",
      "text/plain": [
       "<Figure size 1000x200 with 2 Axes>"
      ]
     },
     "metadata": {},
     "output_type": "display_data"
    },
    {
     "data": {
      "image/png": "[encoded data removed]",
      "text/plain": [
       "<Figure size 1000x200 with 2 Axes>"
      ]
     },
     "metadata": {},
     "output_type": "display_data"
    },
    {
     "data": {
      "image/png": "[encoded data removed]",
      "text/plain": [
       "<Figure size 1000x200 with 2 Axes>"
      ]
     },
     "metadata": {},
     "output_type": "display_data"
    },
    {
     "data": {
      "image/png": "[encoded data removed]",
      "text/plain": [
       "<Figure size 1000x200 with 2 Axes>"
      ]
     },
     "metadata": {},
     "output_type": "display_data"
    },
    {
     "data": {
      "image/png": "[encoded data removed]",
      "text/plain": [
       "<Figure size 1000x200 with 2 Axes>"
      ]
     },
     "metadata": {},
     "output_type": "display_data"
    },
    {
     "data": {
      "image/png": "[encoded data removed]",
      "text/plain": [
       "<Figure size 1000x200 with 2 Axes>"
      ]
     },
     "metadata": {},
     "output_type": "display_data"
    },
    {
     "data": {
      "image/png": "[encoded data removed]",
      "text/plain": [
       "<Figure size 1000x200 with 2 Axes>"
      ]
     },
     "metadata": {},
     "output_type": "display_data"
    },
    {
     "data": {
      "image/png": "[encoded data removed]",
      "text/plain": [
       "<Figure size 1000x200 with 2 Axes>"
      ]
     },
     "metadata": {},
     "output_type": "display_data"
    },
    {
     "data": {
      "image/png": "[encoded data removed]",
      "text/plain": [
       "<Figure size 1000x200 with 2 Axes>"
      ]
     },
     "metadata": {},
     "output_type": "display_data"
    },
    {
     "data": {
      "image/png": "[encoded data removed]",
      "text/plain": [
       "<Figure size 1000x200 with 2 Axes>"
      ]
     },
     "metadata": {},
     "output_type": "display_data"
    },
    {
     "data": {
      "image/png": "[encoded data removed]",
      "text/plain": [
       "<Figure size 1000x200 with 2 Axes>"
      ]
     },
     "metadata": {},
     "output_type": "display_data"
    },
    {
     "data": {
      "image/png": "[encoded data removed]",
      "text/plain": [
       "<Figure size 1000x200 with 2 Axes>"
      ]
     },
     "metadata": {},
     "output_type": "display_data"
    },
    {
     "data": {
      "image/png": "[encoded data removed]",
      "text/plain": [
       "<Figure size 1000x200 with 2 Axes>"
      ]
     },
     "metadata": {},
     "output_type": "display_data"
    },
    {
     "data": {
      "image/png": "[encoded data removed]",
      "text/plain": [
       "<Figure size 1000x200 with 2 Axes>"
      ]
     },
     "metadata": {},
     "output_type": "display_data"
    },
    {
     "data": {
      "image/png": "[encoded data removed]",
      "text/plain": [
       "<Figure size 1000x200 with 2 Axes>"
      ]
     },
     "metadata": {},
     "output_type": "display_data"
    },
    {
     "data": {
      "image/png": "[encoded data removed]",
      "text/plain": [
       "<Figure size 1000x200 with 2 Axes>"
      ]
     },
     "metadata": {},
     "output_type": "display_data"
    },
    {
     "data": {
      "image/png": "[encoded data removed]",
      "text/plain": [
       "<Figure size 1000x200 with 2 Axes>"
      ]
     },
     "metadata": {},
     "output_type": "display_data"
    },
    {
     "data": {
      "image/png": "[encoded data removed]",
      "text/plain": [
       "<Figure size 1000x200 with 2 Axes>"
      ]
     },
     "metadata": {},
     "output_type": "display_data"
    },
    {
     "data": {
      "image/png": "[encoded data removed]",
      "text/plain": [
       "<Figure size 1000x200 with 2 Axes>"
      ]
     },
     "metadata": {},
     "output_type": "display_data"
    },
    {
     "data": {
      "image/png": "[encoded data removed]",
      "text/plain": [
       "<Figure size 1000x200 with 2 Axes>"
      ]
     },
     "metadata": {},
     "output_type": "display_data"
    },
    {
     "data": {
      "image/png": "[encoded data removed]",
      "text/plain": [
       "<Figure size 1000x200 with 2 Axes>"
      ]
     },
     "metadata": {},
     "output_type": "display_data"
    },
    {
     "data": {
      "image/png": "[encoded data removed]",
      "text/plain": [
       "<Figure size 1000x200 with 2 Axes>"
      ]
     },
     "metadata": {},
     "output_type": "display_data"
    },
    {
     "data": {
      "image/png": "[encoded data removed]",
      "text/plain": [
       "<Figure size 1000x200 with 2 Axes>"
      ]
     },
     "metadata": {},
     "output_type": "display_data"
    },
    {
     "data": {
      "image/png": "[encoded data removed]",
      "text/plain": [
       "<Figure size 1000x200 with 2 Axes>"
      ]
     },
     "metadata": {},
     "output_type": "display_data"
    },
    {
     "data": {
      "image/png": "[encoded data removed]",
      "text/plain": [
       "<Figure size 1000x200 with 2 Axes>"
      ]
     },
     "metadata": {},
     "output_type": "display_data"
    },
    {
     "data": {
      "image/png": "[encoded data removed]",
      "text/plain": [
       "<Figure size 1000x200 with 2 Axes>"
      ]
     },
     "metadata": {},
     "output_type": "display_data"
    },
    {
     "data": {
      "image/png": "[encoded data removed]",
      "text/plain": [
       "<Figure size 1000x200 with 2 Axes>"
      ]
     },
     "metadata": {},
     "output_type": "display_data"
    },
    {
     "data": {
      "image/png": "[encoded data removed]",
      "text/plain": [
       "<Figure size 1000x200 with 2 Axes>"
      ]
     },
     "metadata": {},
     "output_type": "display_data"
    },
    {
     "data": {
      "image/png": "[encoded data removed]",
      "text/plain": [
       "<Figure size 1000x200 with 2 Axes>"
      ]
     },
     "metadata": {},
     "output_type": "display_data"
    },
    {
     "data": {
      "image/png": "[encoded data removed]",
      "text/plain": [
       "<Figure size 1000x200 with 2 Axes>"
      ]
     },
     "metadata": {},
     "output_type": "display_data"
    },
    {
     "data": {
      "image/png": "[encoded data removed]",
      "text/plain": [
       "<Figure size 1000x200 with 2 Axes>"
      ]
     },
     "metadata": {},
     "output_type": "display_data"
    },
    {
     "data": {
      "image/png": "[encoded data removed]",
      "text/plain": [
       "<Figure size 1000x200 with 2 Axes>"
      ]
     },
     "metadata": {},
     "output_type": "display_data"
    },
    {
     "data": {
      "image/png": "[encoded data removed]",
      "text/plain": [
       "<Figure size 1000x200 with 2 Axes>"
      ]
     },
     "metadata": {},
     "output_type": "display_data"
    },
    {
     "data": {
      "image/png": "[encoded data removed]",
      "text/plain": [
       "<Figure size 1000x200 with 2 Axes>"
      ]
     },
     "metadata": {},
     "output_type": "display_data"
    },
    {
     "data": {
      "image/png": "[encoded data removed]",
      "text/plain": [
       "<Figure size 1000x200 with 2 Axes>"
      ]
     },
     "metadata": {},
     "output_type": "display_data"
    },
    {
     "data": {
      "image/png": "[encoded data removed]",
      "text/plain": [
       "<Figure size 1000x200 with 2 Axes>"
      ]
     },
     "metadata": {},
     "output_type": "display_data"
    },
    {
     "data": {
      "image/png": "[encoded data removed]",
      "text/plain": [
       "<Figure size 1000x200 with 2 Axes>"
      ]
     },
     "metadata": {},
     "output_type": "display_data"
    },
    {
     "data": {
      "image/png": "[encoded data removed]",
      "text/plain": [
       "<Figure size 1000x200 with 2 Axes>"
      ]
     },
     "metadata": {},
     "output_type": "display_data"
    },
    {
     "data": {
      "image/png": "[encoded data removed]",
      "text/plain": [
       "<Figure size 1000x200 with 2 Axes>"
      ]
     },
     "metadata": {},
     "output_type": "display_data"
    },
    {
     "data": {
      "image/png": "[encoded data removed]",
      "text/plain": [
       "<Figure size 1000x200 with 2 Axes>"
      ]
     },
     "metadata": {},
     "output_type": "display_data"
    },
    {
     "data": {
      "image/png": "[encoded data removed]",
      "text/plain": [
       "<Figure size 1000x200 with 2 Axes>"
      ]
     },
     "metadata": {},
     "output_type": "display_data"
    },
    {
     "data": {
      "image/png": "[encoded data removed]",
      "text/plain": [
       "<Figure size 1000x200 with 2 Axes>"
      ]
     },
     "metadata": {},
     "output_type": "display_data"
    },
    {
     "data": {
      "image/png": "[encoded data removed]",
      "text/plain": [
       "<Figure size 1000x200 with 2 Axes>"
      ]
     },
     "metadata": {},
     "output_type": "display_data"
    },
    {
     "data": {
      "image/png": "[encoded data removed]",
      "text/plain": [
       "<Figure size 1000x200 with 2 Axes>"
      ]
     },
     "metadata": {},
     "output_type": "display_data"
    },
    {
     "data": {
      "image/png": "[encoded data removed]",
      "text/plain": [
       "<Figure size 1000x200 with 2 Axes>"
      ]
     },
     "metadata": {},
     "output_type": "display_data"
    },
    {
     "data": {
      "image/png": "[encoded data removed]",
      "text/plain": [
       "<Figure size 1000x200 with 2 Axes>"
      ]
     },
     "metadata": {},
     "output_type": "display_data"
    },
    {
     "data": {
      "image/png": "[encoded data removed]",
      "text/plain": [
       "<Figure size 1000x200 with 2 Axes>"
      ]
     },
     "metadata": {},
     "output_type": "display_data"
    },
    {
     "data": {
      "image/png": "[encoded data removed]",
      "text/plain": [
       "<Figure size 1000x200 with 2 Axes>"
      ]
     },
     "metadata": {},
     "output_type": "display_data"
    },
    {
     "data": {
      "image/png": "[encoded data removed]",
      "text/plain": [
       "<Figure size 1000x200 with 2 Axes>"
      ]
     },
     "metadata": {},
     "output_type": "display_data"
    },
    {
     "data": {
      "image/png": "[encoded data removed]",
      "text/plain": [
       "<Figure size 1000x200 with 2 Axes>"
      ]
     },
     "metadata": {},
     "output_type": "display_data"
    },
    {
     "data": {
      "image/png": "[encoded data removed]",
      "text/plain": [
       "<Figure size 1000x200 with 2 Axes>"
      ]
     },
     "metadata": {},
     "output_type": "display_data"
    },
    {
     "data": {
      "image/png": "[encoded data removed]",
      "text/plain": [
       "<Figure size 1000x200 with 2 Axes>"
      ]
     },
     "metadata": {},
     "output_type": "display_data"
    },
    {
     "data": {
      "image/png": "[encoded data removed]",
      "text/plain": [
       "<Figure size 1000x200 with 2 Axes>"
      ]
     },
     "metadata": {},
     "output_type": "display_data"
    },
    {
     "data": {
      "image/png": "[encoded data removed]",
      "text/plain": [
       "<Figure size 1000x200 with 2 Axes>"
      ]
     },
     "metadata": {},
     "output_type": "display_data"
    },
    {
     "data": {
      "image/png": "[encoded data removed]",
      "text/plain": [
       "<Figure size 1000x200 with 2 Axes>"
      ]
     },
     "metadata": {},
     "output_type": "display_data"
    },
    {
     "data": {
      "image/png": "[encoded data removed]",
      "text/plain": [
       "<Figure size 1000x200 with 2 Axes>"
      ]
     },
     "metadata": {},
     "output_type": "display_data"
    },
    {
     "data": {
      "image/png": "[encoded data removed]",
      "text/plain": [
       "<Figure size 1000x200 with 2 Axes>"
      ]
     },
     "metadata": {},
     "output_type": "display_data"
    },
    {
     "data": {
      "image/png": "[encoded data removed]",
      "text/plain": [
       "<Figure size 1000x200 with 2 Axes>"
      ]
     },
     "metadata": {},
     "output_type": "display_data"
    },
    {
     "data": {
      "image/png": "[encoded data removed]",
      "text/plain": [
       "<Figure size 1000x200 with 2 Axes>"
      ]
     },
     "metadata": {},
     "output_type": "display_data"
    },
    {
     "data": {
      "image/png": "[encoded data removed]",
      "text/plain": [
       "<Figure size 1000x200 with 2 Axes>"
      ]
     },
     "metadata": {},
     "output_type": "display_data"
    },
    {
     "data": {
      "image/png": "[encoded data removed]",
      "text/plain": [
       "<Figure size 1000x200 with 2 Axes>"
      ]
     },
     "metadata": {},
     "output_type": "display_data"
    },
    {
     "data": {
      "image/png": "[encoded data removed]",
      "text/plain": [
       "<Figure size 1000x200 with 2 Axes>"
      ]
     },
     "metadata": {},
     "output_type": "display_data"
    },
    {
     "data": {
      "image/png": "[encoded data removed]",
      "text/plain": [
       "<Figure size 1000x200 with 2 Axes>"
      ]
     },
     "metadata": {},
     "output_type": "display_data"
    },
    {
     "data": {
      "image/png": "[encoded data removed]",
      "text/plain": [
       "<Figure size 1000x200 with 2 Axes>"
      ]
     },
     "metadata": {},
     "output_type": "display_data"
    },
    {
     "data": {
      "image/png": "[encoded data removed]",
      "text/plain": [
       "<Figure size 1000x200 with 2 Axes>"
      ]
     },
     "metadata": {},
     "output_type": "display_data"
    },
    {
     "data": {
      "image/png": "[encoded data removed]",
      "text/plain": [
       "<Figure size 1000x200 with 2 Axes>"
      ]
     },
     "metadata": {},
     "output_type": "display_data"
    },
    {
     "data": {
      "image/png": "[encoded data removed]",
      "text/plain": [
       "<Figure size 1000x200 with 2 Axes>"
      ]
     },
     "metadata": {},
     "output_type": "display_data"
    },
    {
     "data": {
      "image/png": "[encoded data removed]",
      "text/plain": [
       "<Figure size 1000x200 with 2 Axes>"
      ]
     },
     "metadata": {},
     "output_type": "display_data"
    },
    {
     "data": {
      "image/png": "[encoded data removed]",
      "text/plain": [
       "<Figure size 1000x200 with 2 Axes>"
      ]
     },
     "metadata": {},
     "output_type": "display_data"
    },
    {
     "data": {
      "image/png": "[encoded data removed]",
      "text/plain": [
       "<Figure size 1000x200 with 2 Axes>"
      ]
     },
     "metadata": {},
     "output_type": "display_data"
    },
    {
     "data": {
      "image/png": "[encoded data removed]",
      "text/plain": [
       "<Figure size 1000x200 with 2 Axes>"
      ]
     },
     "metadata": {},
     "output_type": "display_data"
    },
    {
     "data": {
      "image/png": "[encoded data removed]",
      "text/plain": [
       "<Figure size 1000x200 with 2 Axes>"
      ]
     },
     "metadata": {},
     "output_type": "display_data"
    },
    {
     "data": {
      "image/png": "[encoded data removed]",
      "text/plain": [
       "<Figure size 1000x200 with 2 Axes>"
      ]
     },
     "metadata": {},
     "output_type": "display_data"
    },
    {
     "data": {
      "image/png": "[encoded data removed]",
      "text/plain": [
       "<Figure size 1000x200 with 2 Axes>"
      ]
     },
     "metadata": {},
     "output_type": "display_data"
    },
    {
     "data": {
      "image/png": "[encoded data removed]",
      "text/plain": [
       "<Figure size 1000x200 with 2 Axes>"
      ]
     },
     "metadata": {},
     "output_type": "display_data"
    },
    {
     "data": {
      "image/png": "[encoded data removed]",
      "text/plain": [
       "<Figure size 1000x200 with 2 Axes>"
      ]
     },
     "metadata": {},
     "output_type": "display_data"
    },
    {
     "data": {
      "image/png": "[encoded data removed]",
      "text/plain": [
       "<Figure size 1000x200 with 2 Axes>"
      ]
     },
     "metadata": {},
     "output_type": "display_data"
    },
    {
     "data": {
      "image/png": "[encoded data removed]",
      "text/plain": [
       "<Figure size 1000x200 with 2 Axes>"
      ]
     },
     "metadata": {},
     "output_type": "display_data"
    },
    {
     "data": {
      "image/png": "[encoded data removed]",
      "text/plain": [
       "<Figure size 1000x200 with 2 Axes>"
      ]
     },
     "metadata": {},
     "output_type": "display_data"
    },
    {
     "data": {
      "image/png": "[encoded data removed]",
      "text/plain": [
       "<Figure size 1000x200 with 2 Axes>"
      ]
     },
     "metadata": {},
     "output_type": "display_data"
    },
    {
     "data": {
      "image/png": "[encoded data removed]",
      "text/plain": [
       "<Figure size 1000x200 with 2 Axes>"
      ]
     },
     "metadata": {},
     "output_type": "display_data"
    },
    {
     "data": {
      "image/png": "[encoded data removed]",
      "text/plain": [
       "<Figure size 1000x200 with 2 Axes>"
      ]
     },
     "metadata": {},
     "output_type": "display_data"
    },
    {
     "data": {
      "image/png": "[encoded data removed]",
      "text/plain": [
       "<Figure size 1000x200 with 2 Axes>"
      ]
     },
     "metadata": {},
     "output_type": "display_data"
    },
    {
     "data": {
      "image/png": "[encoded data removed]",
      "text/plain": [
       "<Figure size 1000x200 with 2 Axes>"
      ]
     },
     "metadata": {},
     "output_type": "display_data"
    },
    {
     "data": {
      "image/png": "[encoded data removed]",
      "text/plain": [
       "<Figure size 1000x200 with 2 Axes>"
      ]
     },
     "metadata": {},
     "output_type": "display_data"
    },
    {
     "data": {
      "image/png": "[encoded data removed]",
      "text/plain": [
       "<Figure size 1000x200 with 2 Axes>"
      ]
     },
     "metadata": {},
     "output_type": "display_data"
    },
    {
     "data": {
      "image/png": "[encoded data removed]",
      "text/plain": [
       "<Figure size 1000x200 with 2 Axes>"
      ]
     },
     "metadata": {},
     "output_type": "display_data"
    },
    {
     "data": {
      "image/png": "[encoded data removed]",
      "text/plain": [
       "<Figure size 1000x200 with 2 Axes>"
      ]
     },
     "metadata": {},
     "output_type": "display_data"
    },
    {
     "data": {
      "image/png": "[encoded data removed]",
      "text/plain": [
       "<Figure size 1000x200 with 2 Axes>"
      ]
     },
     "metadata": {},
     "output_type": "display_data"
    },
    {
     "data": {
      "image/png": "[encoded data removed]",
      "text/plain": [
       "<Figure size 1000x200 with 2 Axes>"
      ]
     },
     "metadata": {},
     "output_type": "display_data"
    },
    {
     "data": {
      "image/png": "[encoded data removed]",
      "text/plain": [
       "<Figure size 1000x200 with 2 Axes>"
      ]
     },
     "metadata": {},
     "output_type": "display_data"
    },
    {
     "data": {
      "image/png": "[encoded data removed]",
      "text/plain": [
       "<Figure size 1000x200 with 2 Axes>"
      ]
     },
     "metadata": {},
     "output_type": "display_data"
    }
   ],
   "source": [
    "env_ = get_env(2, size=10)\n",
    "input_shape = env_.to_state().shape[1:]\n",
    "\n",
    "GAMMA = .9\n",
    "ITERATIONS = 100\n",
    "\n",
    "display_boards(env_, 2)\n",
    "play(env_,DQN_agent, 100)\n",
    "# DQN_agent.play(env_, 100)\n",
    "display_boards(env_, 2)\n"
   ]
  },
  {
   "cell_type": "code",
   "execution_count": null,
   "metadata": {},
   "outputs": [
    {
     "name": "stdout",
     "output_type": "stream",
     "text": [
      "rewards:  [[7.5 7.5]\n",
      " [7.3 7.3]]\n"
     ]
    },
    {
     "data": {
      "image/png": "[encoded data removed]",
      "text/plain": [
       "<Figure size 1000x300 with 2 Axes>"
      ]
     },
     "metadata": {},
     "output_type": "display_data"
    }
   ],
   "source": [
    "import AStar_Heuristic\n",
    "\n",
    "agent = AStar_Heuristic.Heuristic_Agent(env_)\n",
    "agent.execute(ITERATIONS)\n"
   ]
  },
  {
   "cell_type": "code",
   "execution_count": null,
   "metadata": {
    "collapsed": false
   },
   "outputs": [
    {
     "name": "stderr",
     "output_type": "stream",
     "text": [
      "  0%|          | 0/100 [00:00<?, ?it/s]\n"
     ]
    },
    {
     "ename": "AttributeError",
     "evalue": "'DQNAgent' object has no attribute 'select_action'",
     "output_type": "error",
     "traceback": [
      "\u001b[1;31m---------------------------------------------------------------------------\u001b[0m",
      "\u001b[1;31mAttributeError\u001b[0m                            Traceback (most recent call last)",
      "Cell \u001b[1;32mIn[10], line 13\u001b[0m\n\u001b[0;32m      5\u001b[0m \u001b[38;5;28;01mwith\u001b[39;00m tf\u001b[38;5;241m.\u001b[39mGradientTape(persistent\u001b[38;5;241m=\u001b[39m\u001b[38;5;28;01mTrue\u001b[39;00m) \u001b[38;5;28;01mas\u001b[39;00m tape:\n\u001b[0;32m      6\u001b[0m \u001b[38;5;250m    \u001b[39m\u001b[38;5;124;03m\"\"\" \u001b[39;00m\n\u001b[0;32m      7\u001b[0m \u001b[38;5;124;03m    tensor of actions, consider that\u001b[39;00m\n\u001b[0;32m      8\u001b[0m \u001b[38;5;124;03m        UP = 0\u001b[39;00m\n\u001b[1;32m   (...)\u001b[0m\n\u001b[0;32m     11\u001b[0m \u001b[38;5;124;03m        LEFT = 3\u001b[39;00m\n\u001b[0;32m     12\u001b[0m \u001b[38;5;124;03m    \"\"\"\u001b[39;00m\n\u001b[1;32m---> 13\u001b[0m     actions \u001b[38;5;241m=\u001b[39m \u001b[43m[\u001b[49m\u001b[43mDQN_agent\u001b[49m\u001b[38;5;241;43m.\u001b[39;49m\u001b[43mselect_action\u001b[49m\u001b[43m(\u001b[49m\u001b[43mstate\u001b[49m\u001b[43m[\u001b[49m\u001b[43mi\u001b[49m\u001b[43m]\u001b[49m\u001b[43m)\u001b[49m\u001b[43m \u001b[49m\u001b[38;5;28;43;01mfor\u001b[39;49;00m\u001b[43m \u001b[49m\u001b[43mi\u001b[49m\u001b[43m \u001b[49m\u001b[38;5;129;43;01min\u001b[39;49;00m\u001b[43m \u001b[49m\u001b[38;5;28;43mrange\u001b[39;49m\u001b[43m(\u001b[49m\u001b[43menv_\u001b[49m\u001b[38;5;241;43m.\u001b[39;49m\u001b[43mn_boards\u001b[49m\u001b[43m)\u001b[49m\u001b[43m]\u001b[49m\n\u001b[0;32m     14\u001b[0m     rewards \u001b[38;5;241m=\u001b[39m env_\u001b[38;5;241m.\u001b[39mmove(actions)\n\u001b[0;32m     15\u001b[0m     new_state \u001b[38;5;241m=\u001b[39m tf\u001b[38;5;241m.\u001b[39mconstant(env_\u001b[38;5;241m.\u001b[39mto_state())\n",
      "Cell \u001b[1;32mIn[10], line 13\u001b[0m, in \u001b[0;36m<listcomp>\u001b[1;34m(.0)\u001b[0m\n\u001b[0;32m      5\u001b[0m \u001b[38;5;28;01mwith\u001b[39;00m tf\u001b[38;5;241m.\u001b[39mGradientTape(persistent\u001b[38;5;241m=\u001b[39m\u001b[38;5;28;01mTrue\u001b[39;00m) \u001b[38;5;28;01mas\u001b[39;00m tape:\n\u001b[0;32m      6\u001b[0m \u001b[38;5;250m    \u001b[39m\u001b[38;5;124;03m\"\"\" \u001b[39;00m\n\u001b[0;32m      7\u001b[0m \u001b[38;5;124;03m    tensor of actions, consider that\u001b[39;00m\n\u001b[0;32m      8\u001b[0m \u001b[38;5;124;03m        UP = 0\u001b[39;00m\n\u001b[1;32m   (...)\u001b[0m\n\u001b[0;32m     11\u001b[0m \u001b[38;5;124;03m        LEFT = 3\u001b[39;00m\n\u001b[0;32m     12\u001b[0m \u001b[38;5;124;03m    \"\"\"\u001b[39;00m\n\u001b[1;32m---> 13\u001b[0m     actions \u001b[38;5;241m=\u001b[39m [\u001b[43mDQN_agent\u001b[49m\u001b[38;5;241;43m.\u001b[39;49m\u001b[43mselect_action\u001b[49m(state[i]) \u001b[38;5;28;01mfor\u001b[39;00m i \u001b[38;5;129;01min\u001b[39;00m \u001b[38;5;28mrange\u001b[39m(env_\u001b[38;5;241m.\u001b[39mn_boards)]\n\u001b[0;32m     14\u001b[0m     rewards \u001b[38;5;241m=\u001b[39m env_\u001b[38;5;241m.\u001b[39mmove(actions)\n\u001b[0;32m     15\u001b[0m     new_state \u001b[38;5;241m=\u001b[39m tf\u001b[38;5;241m.\u001b[39mconstant(env_\u001b[38;5;241m.\u001b[39mto_state())\n",
      "\u001b[1;31mAttributeError\u001b[0m: 'DQNAgent' object has no attribute 'select_action'"
     ]
    }
   ],
   "source": [
    "for iteration in trange(ITERATIONS):\n",
    "    # get current state of the boards\n",
    "    state = env_.to_state()\n",
    "    \n",
    "    with tf.GradientTape(persistent=True) as tape:\n",
    "        \"\"\" \n",
    "        tensor of actions, consider that\n",
    "            UP = 0\n",
    "            RIGHT = 1\n",
    "            DOWN = 2\n",
    "            LEFT = 3\n",
    "        \"\"\"\n",
    "        actions = [DQN_agent.select_action(state[i]) for i in range(env_.n_boards)]\n",
    "        rewards = env_.move(actions)\n",
    "        new_state = tf.constant(env_.to_state())\n",
    "\n",
    "        # calculate the loss of whichever algorithm you have picked\n",
    "        loss = ...\n",
    "\n",
    "    gradient = tape.gradient(..., ...)\n",
    "    optimizer.apply_gradients(zip(gradient, ...))"
   ]
  },
  {
   "cell_type": "markdown",
   "metadata": {
    "collapsed": false
   },
   "source": [
    " ### Random policy reward\n",
    " \n",
    "Just a baseline (not the one you are supposed to develop)"
   ]
  },
  {
   "cell_type": "code",
   "execution_count": null,
   "metadata": {
    "collapsed": false
   },
   "outputs": [],
   "source": [
    "random_env = get_env(100)\n",
    "random_rewards = []\n",
    "\n",
    "for _ in trange(1000):\n",
    "    probs = tf.convert_to_tensor([[.25]*4]*random_env.n_boards)\n",
    "    #sample actions\n",
    "    actions =  tf.random.categorical(tf.math.log(probs), 1, dtype=tf.int32)\n",
    "    # MDP update\n",
    "    rewards = random_env.move(actions)\n",
    "    random_rewards.append(np.mean(rewards))"
   ]
  }
 ],
 "metadata": {
  "kernelspec": {
   "display_name": "Python 3 (ipykernel)",
   "language": "python",
   "name": "python3"
  },
  "language_info": {
   "codemirror_mode": {
    "name": "ipython",
    "version": 3
   },
   "file_extension": ".py",
   "mimetype": "text/x-python",
   "name": "python",
   "nbconvert_exporter": "python",
   "pygments_lexer": "ipython3",
   "version": "3.11.0"
  }
 },
 "nbformat": 4,
 "nbformat_minor": 1
}
