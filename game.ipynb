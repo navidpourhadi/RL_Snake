{
 "cells": [
  {
   "cell_type": "markdown",
   "metadata": {},
   "source": [
    "# Snake"
   ]
  },
  {
   "cell_type": "code",
   "execution_count": 1,
   "metadata": {
    "ExecuteTime": {
     "end_time": "2024-01-05T21:49:54.740569Z",
     "start_time": "2024-01-05T21:49:54.724713Z"
    },
    "collapsed": true
   },
   "outputs": [
    {
     "name": "stderr",
     "output_type": "stream",
     "text": [
      "2024-05-23 17:55:06.479256: I tensorflow/core/util/port.cc:110] oneDNN custom operations are on. You may see slightly different numerical results due to floating-point round-off errors from different computation orders. To turn them off, set the environment variable `TF_ENABLE_ONEDNN_OPTS=0`.\n",
      "2024-05-23 17:55:06.480903: I tensorflow/tsl/cuda/cudart_stub.cc:28] Could not find cuda drivers on your machine, GPU will not be used.\n",
      "2024-05-23 17:55:06.509893: I tensorflow/tsl/cuda/cudart_stub.cc:28] Could not find cuda drivers on your machine, GPU will not be used.\n",
      "2024-05-23 17:55:06.510259: I tensorflow/core/platform/cpu_feature_guard.cc:182] This TensorFlow binary is optimized to use available CPU instructions in performance-critical operations.\n",
      "To enable the following instructions: AVX2 AVX512F AVX512_VNNI FMA, in other operations, rebuild TensorFlow with the appropriate compiler flags.\n",
      "2024-05-23 17:55:07.006182: W tensorflow/compiler/tf2tensorrt/utils/py_utils.cc:38] TF-TRT Warning: Could not find TensorRT\n"
     ]
    }
   ],
   "source": [
    "import environments_fully_observable \n",
    "import environments_partially_observable\n",
    "import numpy as np\n",
    "from  tqdm import trange\n",
    "import matplotlib.pyplot as plt\n",
    "import tensorflow as tf\n",
    "tf.random.set_seed(0)\n",
    "import doubleDQN\n",
    "import AStar_Heuristic\n",
    "import matplotlib.pyplot as plt\n",
    "\n"
   ]
  },
  {
   "cell_type": "code",
   "execution_count": 2,
   "metadata": {},
   "outputs": [
    {
     "name": "stdout",
     "output_type": "stream",
     "text": [
      "GPU is not available. Switching to CPU.\n"
     ]
    },
    {
     "name": "stderr",
     "output_type": "stream",
     "text": [
      "2024-05-23 17:55:31.395067: I tensorflow/compiler/xla/stream_executor/cuda/cuda_gpu_executor.cc:995] successful NUMA node read from SysFS had negative value (-1), but there must be at least one NUMA node, so returning NUMA node zero. See more at https://github.com/torvalds/linux/blob/v6.0/Documentation/ABI/testing/sysfs-bus-pci#L344-L355\n",
      "2024-05-23 17:55:31.395400: W tensorflow/core/common_runtime/gpu/gpu_device.cc:1960] Cannot dlopen some GPU libraries. Please make sure the missing libraries mentioned above are installed properly if you would like to use GPU. Follow the guide at https://www.tensorflow.org/install/gpu for how to download and setup the required libraries for your platform.\n",
      "Skipping registering GPU devices...\n"
     ]
    }
   ],
   "source": [
    "if tf.config.list_physical_devices('GPU'):\n",
    "    print('GPU is available.')\n",
    "else:\n",
    "    print('GPU is not available. Switching to CPU.')"
   ]
  },
  {
   "cell_type": "markdown",
   "metadata": {},
   "source": [
    "## Environment definition"
   ]
  },
  {
   "cell_type": "code",
   "execution_count": 3,
   "metadata": {},
   "outputs": [],
   "source": [
    "# general variable (train and test)\n",
    "BOARD_SIZE = 20\n",
    "GAMMA = .9\n",
    "\n",
    "# training variables\n",
    "NUM_BOARDS_TRAIN = 100\n",
    "BATCH_SIZE = 128\n",
    "NUM_TRAINING_EPOCHS = 5000\n",
    "\n",
    "# testing variables\n",
    "NUM_BOARDS_TEST = 20\n",
    "TEST_ITERATIONS = 100"
   ]
  },
  {
   "cell_type": "code",
   "execution_count": 4,
   "metadata": {},
   "outputs": [],
   "source": [
    "# function to display the n boards with suptitle\n",
    "def display_boards(env, n=5, suptitle=\"\"):\n",
    "    \n",
    "    fig,axs=plt.subplots(1,min(len(env.boards), n), figsize=(7,2))\n",
    "    fig.suptitle(suptitle)\n",
    "    for ax, board in zip(axs, env.boards):\n",
    "        ax.get_yaxis().set_visible(False)\n",
    "        ax.get_xaxis().set_visible(False)\n",
    "        ax.imshow(board, origin=\"lower\")"
   ]
  },
  {
   "cell_type": "code",
   "execution_count": 5,
   "metadata": {
    "ExecuteTime": {
     "end_time": "2024-01-05T21:51:24.586654Z",
     "start_time": "2024-01-05T21:51:24.492663Z"
    },
    "collapsed": false
   },
   "outputs": [],
   "source": [
    "%matplotlib inline\n",
    "# function to standardize getting an env for the whole notebook\n",
    "def get_env(n=100, size = 10):\n",
    "    # n is the number of boards that you want to simulate parallely\n",
    "    # size is the size of each board, also considering the borders\n",
    "    # mask for the partially observable, is the size of the local neighborhood\n",
    "    e = environments_fully_observable.OriginalSnakeEnvironment(n, size)\n",
    "    # e = environments_partially_observable.OriginalSnakeEnvironment(n, size, 2)\n",
    "    return e\n",
    "\n"
   ]
  },
  {
   "cell_type": "markdown",
   "metadata": {
    "collapsed": false
   },
   "source": [
    "## Model"
   ]
  },
  {
   "cell_type": "code",
   "execution_count": 6,
   "metadata": {
    "collapsed": false
   },
   "outputs": [
    {
     "name": "stdout",
     "output_type": "stream",
     "text": [
      "Model: \"sequential\"\n",
      "_________________________________________________________________\n",
      " Layer (type)                Output Shape              Param #   \n",
      "=================================================================\n",
      " conv2d (Conv2D)             (None, 18, 18, 64)        2368      \n",
      "                                                                 \n",
      " conv2d_1 (Conv2D)           (None, 18, 18, 128)       73856     \n",
      "                                                                 \n",
      " conv2d_2 (Conv2D)           (None, 18, 18, 128)       147584    \n",
      "                                                                 \n",
      " flatten (Flatten)           (None, 41472)             0         \n",
      "                                                                 \n",
      " dense (Dense)               (None, 256)               10617088  \n",
      "                                                                 \n",
      " dense_1 (Dense)             (None, 4)                 1028      \n",
      "                                                                 \n",
      "=================================================================\n",
      "Total params: 10841924 (41.36 MB)\n",
      "Trainable params: 10841924 (41.36 MB)\n",
      "Non-trainable params: 0 (0.00 Byte)\n",
      "_________________________________________________________________\n",
      "None\n"
     ]
    },
    {
     "data": {
      "image/png": "[encoded data removed]",
      "text/plain": [
       "<Figure size 700x200 with 5 Axes>"
      ]
     },
     "metadata": {},
     "output_type": "display_data"
    }
   ],
   "source": [
    "# instantiating the environment\n",
    "env_ = get_env(n=NUM_BOARDS_TRAIN, size=BOARD_SIZE)\n",
    "display_boards(env_, 5)\n",
    "\n",
    "# instantiating the agents\n",
    "input_shape = env_.to_state().shape[1:]\n",
    "Double_DQN_agent = doubleDQN.DoubleDQNAgent(input_shape= input_shape, num_actions= 4, gamma= GAMMA)\n",
    "\n"
   ]
  },
  {
   "cell_type": "markdown",
   "metadata": {
    "collapsed": false
   },
   "source": [
    "## Training"
   ]
  },
  {
   "cell_type": "code",
   "execution_count": null,
   "metadata": {},
   "outputs": [],
   "source": [
    "# Training the agent\n",
    "Double_DQN_agent.train(env_, NUM_TRAINING_EPOCHS, BATCH_SIZE)\n",
    "\n",
    "# saving the weights\n",
    "Double_DQN_agent.save_weights(file_prefix=str(BOARD_SIZE))"
   ]
  },
  {
   "cell_type": "code",
   "execution_count": 10,
   "metadata": {},
   "outputs": [
    {
     "name": "stderr",
     "output_type": "stream",
     "text": [
      "100%|██████████| 100/100 [00:04<00:00, 22.17it/s]\n"
     ]
    },
    {
     "name": "stdout",
     "output_type": "stream",
     "text": [
      "Mean Reward: 3.5299999713897705\n"
     ]
    },
    {
     "data": {
      "image/png": "[encoded data removed]",
      "text/plain": [
       "<Figure size 700x200 with 5 Axes>"
      ]
     },
     "metadata": {},
     "output_type": "display_data"
    },
    {
     "data": {
      "image/png": "[encoded data removed]",
      "text/plain": [
       "<Figure size 700x200 with 5 Axes>"
      ]
     },
     "metadata": {},
     "output_type": "display_data"
    }
   ],
   "source": [
    "#  ----------------------------------------------------------------------------------------------\n",
    "# |                                                                                              |\n",
    "# |                            Testing the RL agent individually                                 |\n",
    "# |                                                                                              |\n",
    "#  ----------------------------------------------------------------------------------------------\n",
    "\n",
    "\n",
    "# instantiating the test environment\n",
    "env_test = get_env(n=NUM_BOARDS_TEST, size=BOARD_SIZE)\n",
    "input_shape_test = env_test.to_state().shape[1:]\n",
    "\n",
    "load_weights = input(\"Do you want to load the weights of the trained model? (y/n): \")\n",
    "if load_weights == \"y\" or load_weights == \"Y\":\n",
    "    weights_path = input(\"Enter the weight file name (only the prefix without _q_model.h5 or _target_q_model.h5): \")\n",
    "    try:\n",
    "        Double_DQN_agent.load_weights(weights_path)\n",
    "        print(\"weights loaded successfully\")\n",
    "    except:\n",
    "        print(\"weights file not found\")\n",
    "\n",
    "display_boards(env_test, 5, \"Initial environment\")\n",
    "RL_reward = Double_DQN_agent.play(env_test, TEST_ITERATIONS)\n",
    "display_boards(env_test, 5, \"Final environment using DDQN agent\")\n",
    "print(\"Mean Reward: {}\".format(np.mean(RL_reward)))"
   ]
  },
  {
   "cell_type": "code",
   "execution_count": 9,
   "metadata": {},
   "outputs": [
    {
     "name": "stderr",
     "output_type": "stream",
     "text": [
      "100%|██████████| 100/100 [00:04<00:00, 24.53it/s]\n"
     ]
    },
    {
     "name": "stdout",
     "output_type": "stream",
     "text": [
      "Details of the comparison:\n",
      "number of steps: 100\n",
      "number of the boards and size:20, 20\n",
      "Mean Reward of the Astar agent (baseline): 4.05\n",
      "\n",
      "Mean Reward of the Double DQN agent (RL): 0.07000000774860382\n",
      "\n",
      "ratio between the mean rewards of RL agent with respect to baseline A* agent is: \n",
      "\n",
      "(Mean Reward of the Double DQN agent (RL) / Mean Reward of the Astar agent (baseline): 0.017283952530519463 \n",
      "\n"
     ]
    },
    {
     "data": {
      "image/png": "[encoded data removed]",
      "text/plain": [
       "<Figure size 700x200 with 5 Axes>"
      ]
     },
     "metadata": {},
     "output_type": "display_data"
    },
    {
     "data": {
      "image/png": "[encoded data removed]",
      "text/plain": [
       "<Figure size 700x200 with 5 Axes>"
      ]
     },
     "metadata": {},
     "output_type": "display_data"
    },
    {
     "data": {
      "image/png": "[encoded data removed]",
      "text/plain": [
       "<Figure size 700x200 with 5 Axes>"
      ]
     },
     "metadata": {},
     "output_type": "display_data"
    }
   ],
   "source": [
    "#  ----------------------------------------------------------------------------------------------\n",
    "# |                                                                                              |\n",
    "# |                            Comparison between RL agent and baseline                          |\n",
    "# |                                                                                              |\n",
    "#  ----------------------------------------------------------------------------------------------\n",
    "\n",
    "import copy\n",
    "\n",
    "\n",
    "# creating the reference environment for test comparison\n",
    "ref_env_ = get_env(NUM_BOARDS_TEST, size=BOARD_SIZE)\n",
    "input_shape = ref_env_.to_state().shape[1:]\n",
    "\n",
    "display_boards(ref_env_, 5, \"Initial environment\")\n",
    "\n",
    "RL_env_ = copy.deepcopy(ref_env_)\n",
    "AStar_env_ = copy.deepcopy(ref_env_)\n",
    "\n",
    "RL_reward = Double_DQN_agent.play(RL_env_, TEST_ITERATIONS)\n",
    "display_boards(RL_env_, 5, \"Final environment using DDQN agent\")\n",
    "\n",
    "# instantiating the Astar agent\n",
    "AStar_agent = AStar_Heuristic.Heuristic_Agent(AStar_env_)\n",
    "baseline_reward = AStar_agent.execute(TEST_ITERATIONS)\n",
    "display_boards(AStar_env_, 5, \"Final environment using A* agent\")\n",
    "\n",
    "\n",
    "mean_baseline_reward = np.mean(baseline_reward)\n",
    "mean_RL_reward = np.mean(RL_reward)\n",
    "\n",
    "print(f\"Details of the comparison:\\nnumber of steps: {TEST_ITERATIONS}\\nnumber of the boards and size:{NUM_BOARDS_TEST}, {BOARD_SIZE}\")\n",
    "print(f\"Mean Reward of the Astar agent (baseline): {mean_baseline_reward}\\n\")\n",
    "print(f\"Mean Reward of the Double DQN agent (RL): {mean_RL_reward}\\n\")\n",
    "\n",
    "print(f\"ratio between the mean rewards of RL agent with respect to baseline A* agent is: \\n\")\n",
    "print(f\"(Mean Reward of the Double DQN agent (RL) / Mean Reward of the Astar agent (baseline): {mean_RL_reward / mean_baseline_reward} \\n\")\n"
   ]
  }
 ],
 "metadata": {
  "kernelspec": {
   "display_name": "Python 3 (ipykernel)",
   "language": "python",
   "name": "python3"
  },
  "language_info": {
   "codemirror_mode": {
    "name": "ipython",
    "version": 3
   },
   "file_extension": ".py",
   "mimetype": "text/x-python",
   "name": "python",
   "nbconvert_exporter": "python",
   "pygments_lexer": "ipython3",
   "version": "3.8.10"
  }
 },
 "nbformat": 4,
 "nbformat_minor": 1
}
